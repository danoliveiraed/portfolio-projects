{
  "nbformat": 4,
  "nbformat_minor": 0,
  "metadata": {
    "colab": {
      "provenance": []
    },
    "kernelspec": {
      "name": "python3",
      "display_name": "Python 3"
    },
    "language_info": {
      "name": "python"
    }
  },
  "cells": [
    {
      "cell_type": "markdown",
      "source": [
        "# Análise de Fatores de Risco para AVC\n",
        "## 1. Introdução\n",
        "- Breve descrição do problema e objetivos do projeto.\n",
        "- Fonte dos dados (link e descrição).\n",
        "- Tecnologias utilizadas."
      ],
      "metadata": {
        "id": "OZNMmShGTidt"
      }
    },
    {
      "cell_type": "code",
      "source": [],
      "metadata": {
        "id": "T1-RA4WhTlb6"
      },
      "execution_count": null,
      "outputs": []
    },
    {
      "cell_type": "markdown",
      "source": [
        "## 2. Importação das Bibliotecas e do Dataset"
      ],
      "metadata": {
        "id": "zTrAOA5fTl65"
      }
    },
    {
      "cell_type": "code",
      "source": [],
      "metadata": {
        "id": "9fE3HXSNTn2_"
      },
      "execution_count": null,
      "outputs": []
    },
    {
      "cell_type": "markdown",
      "source": [
        "## 3. Entendimento Inicial dos Dados\n",
        "- shape, head(), info(), describe()\n",
        "- Verificação de tipos de dados, valores únicos, nulos, etc."
      ],
      "metadata": {
        "id": "ICTAk-ZzToWA"
      }
    },
    {
      "cell_type": "code",
      "source": [],
      "metadata": {
        "id": "uyrnFwO_Trd6"
      },
      "execution_count": null,
      "outputs": []
    },
    {
      "cell_type": "markdown",
      "source": [
        "## 4. Limpeza e Pré-processamento\n",
        "- Tratamento de valores ausentes (ex: `bmi`)\n",
        "- Conversão de tipos e renomeação de colunas\n",
        "- Padronização de categorias\n",
        "- Criação de novas variáveis, se necessário"
      ],
      "metadata": {
        "id": "0fzWrABOTsEP"
      }
    },
    {
      "cell_type": "code",
      "source": [],
      "metadata": {
        "id": "TVx-4h-kTu9F"
      },
      "execution_count": null,
      "outputs": []
    },
    {
      "cell_type": "markdown",
      "source": [
        "## 5. Análise Exploratória (EDA)\n",
        "### 5.1 Perfil demográfico e clínico\n",
        "- Distribuição de idade, gênero, IMC, glicose\n",
        "- Frequência de hipertensão, doenças cardíacas"
      ],
      "metadata": {
        "id": "_DYM3ke-TvsH"
      }
    },
    {
      "cell_type": "code",
      "source": [],
      "metadata": {
        "id": "I35vt6G_TyNm"
      },
      "execution_count": null,
      "outputs": []
    },
    {
      "cell_type": "markdown",
      "source": [
        "### 5.2 Comparações com a variável alvo (stroke)\n",
        "- Taxa de AVC por grupo etário, sexo, hipertensão etc.\n",
        "- Gráficos de comparação (barplots, boxplots, etc.)"
      ],
      "metadata": {
        "id": "JD7CWEqKTyfm"
      }
    },
    {
      "cell_type": "code",
      "source": [],
      "metadata": {
        "id": "VEpRICtLT1Eu"
      },
      "execution_count": null,
      "outputs": []
    },
    {
      "cell_type": "markdown",
      "source": [
        "## 6. Agregações para Visualização no Power BI\n",
        "- Exportar CSVs com:\n",
        "  - AVC por idade/grupo etário\n",
        "  - AVC por hipertensão, glicose, IMC (categorizado)\n",
        "  - Tabelas de cruzamento por gênero, tipo de trabalho, estado civil"
      ],
      "metadata": {
        "id": "lw9yjq2uT1kF"
      }
    },
    {
      "cell_type": "code",
      "source": [],
      "metadata": {
        "id": "gxwRF-V8T3gN"
      },
      "execution_count": null,
      "outputs": []
    },
    {
      "cell_type": "markdown",
      "source": [
        "## 7. Conclusões e próximos passos\n",
        "- Sumário de insights\n",
        "- Oportunidades de visualização no Power BI"
      ],
      "metadata": {
        "id": "HWPaNkRtT4F6"
      }
    },
    {
      "cell_type": "code",
      "source": [],
      "metadata": {
        "id": "eoqb4NgCT6Pa"
      },
      "execution_count": null,
      "outputs": []
    },
    {
      "cell_type": "markdown",
      "source": [
        "# 8. Salvando arquivos para o Power BI\n",
        "- `to_csv()` dos dataframes agregados"
      ],
      "metadata": {
        "id": "8SVWr1uIT6jL"
      }
    },
    {
      "cell_type": "code",
      "source": [],
      "metadata": {
        "id": "yhY3IhPXT_wE"
      },
      "execution_count": null,
      "outputs": []
    }
  ]
}