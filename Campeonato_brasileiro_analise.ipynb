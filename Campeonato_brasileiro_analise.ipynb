{
  "nbformat": 4,
  "nbformat_minor": 0,
  "metadata": {
    "colab": {
      "provenance": [],
      "authorship_tag": "ABX9TyNvVeUmnXTPTIY5VVcJHkoJ",
      "include_colab_link": true
    },
    "kernelspec": {
      "name": "python3",
      "display_name": "Python 3"
    },
    "language_info": {
      "name": "python"
    }
  },
  "cells": [
    {
      "cell_type": "markdown",
      "metadata": {
        "id": "view-in-github",
        "colab_type": "text"
      },
      "source": [
        "<a href=\"https://colab.research.google.com/github/danoliveiraed/portfolio-projects/blob/main/Campeonato_brasileiro_analise.ipynb\" target=\"_parent\"><img src=\"https://colab.research.google.com/assets/colab-badge.svg\" alt=\"Open In Colab\"/></a>"
      ]
    },
    {
      "cell_type": "markdown",
      "source": [
        "# 1. Importar Bibliotecas"
      ],
      "metadata": {
        "id": "0TF5QwLBMMku"
      }
    },
    {
      "cell_type": "code",
      "execution_count": null,
      "metadata": {
        "id": "sZKsNx97L_sC"
      },
      "outputs": [],
      "source": [
        "import pandas as pd\n",
        "import matplotlib.pyplot as plt\n",
        "import seaborn as sns"
      ]
    },
    {
      "cell_type": "markdown",
      "source": [
        "# 2. Carregar dados (FootyStats ou CSVs salvos)"
      ],
      "metadata": {
        "id": "QXjTd18cMdGV"
      }
    },
    {
      "cell_type": "code",
      "source": [],
      "metadata": {
        "id": "ocCwxr_eMcu5"
      },
      "execution_count": null,
      "outputs": []
    },
    {
      "cell_type": "markdown",
      "source": [
        "# 3. Entender o dataframe"
      ],
      "metadata": {
        "id": "ZTLsVOKaMiED"
      }
    },
    {
      "cell_type": "code",
      "source": [],
      "metadata": {
        "id": "mQUcru58MmQx"
      },
      "execution_count": null,
      "outputs": []
    },
    {
      "cell_type": "markdown",
      "source": [
        "# 4. Limpeza e tratamento"
      ],
      "metadata": {
        "id": "USvEEQJpMmzd"
      }
    },
    {
      "cell_type": "code",
      "source": [],
      "metadata": {
        "id": "C8dBNdu8MqGD"
      },
      "execution_count": null,
      "outputs": []
    },
    {
      "cell_type": "markdown",
      "source": [
        "# 5. Agregações úteis"
      ],
      "metadata": {
        "id": "1yvpRRlmMptN"
      }
    },
    {
      "cell_type": "code",
      "source": [],
      "metadata": {
        "id": "gNpwHpmSMuSu"
      },
      "execution_count": null,
      "outputs": []
    },
    {
      "cell_type": "markdown",
      "source": [
        "# 6. Exportar CSVs tratados"
      ],
      "metadata": {
        "id": "_zw9q7wiMuyw"
      }
    },
    {
      "cell_type": "code",
      "source": [],
      "metadata": {
        "id": "ZvqmCuByMxL5"
      },
      "execution_count": null,
      "outputs": []
    }
  ]
}