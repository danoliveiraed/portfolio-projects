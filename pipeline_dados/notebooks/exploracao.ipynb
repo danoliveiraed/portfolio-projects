{
  "cells": [
    {
      "cell_type": "markdown",
      "source": [
        "## Lendo Dados"
      ],
      "metadata": {
        "id": "Ns3H25hUUZqh"
      },
      "id": "Ns3H25hUUZqh"
    },
    {
      "cell_type": "code",
      "source": [
        "path_json ='/content/dados_empresaA.json'\n",
        "path_csv ='/content/dados_empresaB.csv'"
      ],
      "metadata": {
        "id": "8UC1DpBglDY5"
      },
      "id": "8UC1DpBglDY5",
      "execution_count": 3,
      "outputs": []
    },
    {
      "cell_type": "code",
      "source": [
        "with open(path_json, 'r') as file:\n",
        "  print(file.readline())\n",
        "\n",
        "with open(path_json, 'r') as file:\n",
        "  dados = file.readline()\n",
        "dados\n",
        "\n",
        "#'with open' forma uma string longa, ruim para trabalhar com dados."
      ],
      "metadata": {
        "colab": {
          "base_uri": "https://localhost:8080/",
          "height": 107
        },
        "id": "9Zj1QcZeUxmQ",
        "outputId": "2a814fdf-dd1e-42ab-a20f-5dd2d7af09ca"
      },
      "id": "9Zj1QcZeUxmQ",
      "execution_count": 4,
      "outputs": [
        {
          "output_type": "stream",
          "name": "stdout",
          "text": [
            "[{\"Nome do Produto\":\"Blush em p\\u00f3\",\"Categoria do Produto\":\"Eletrodom\\u00e9sticos\",\"Pre\\u00e7o do Produto (R$)\":79.41,\"Quantidade em Estoque\":7,\"Filial\":\"Filial 7\"},\n",
            "\n"
          ]
        },
        {
          "output_type": "execute_result",
          "data": {
            "text/plain": [
              "'[{\"Nome do Produto\":\"Blush em p\\\\u00f3\",\"Categoria do Produto\":\"Eletrodom\\\\u00e9sticos\",\"Pre\\\\u00e7o do Produto (R$)\":79.41,\"Quantidade em Estoque\":7,\"Filial\":\"Filial 7\"},\\n'"
            ],
            "application/vnd.google.colaboratory.intrinsic+json": {
              "type": "string"
            }
          },
          "metadata": {},
          "execution_count": 4
        }
      ]
    },
    {
      "cell_type": "code",
      "source": [
        "dados[10]"
      ],
      "metadata": {
        "colab": {
          "base_uri": "https://localhost:8080/",
          "height": 35
        },
        "id": "JkhWsWfNW0qa",
        "outputId": "8e63f059-42c9-4222-dffe-fcf2fa1a5ae6"
      },
      "id": "JkhWsWfNW0qa",
      "execution_count": 5,
      "outputs": [
        {
          "output_type": "execute_result",
          "data": {
            "text/plain": [
              "' '"
            ],
            "application/vnd.google.colaboratory.intrinsic+json": {
              "type": "string"
            }
          },
          "metadata": {},
          "execution_count": 5
        }
      ]
    },
    {
      "cell_type": "code",
      "source": [
        "import json"
      ],
      "metadata": {
        "id": "IH4rplrVXJbq"
      },
      "id": "IH4rplrVXJbq",
      "execution_count": 6,
      "outputs": []
    },
    {
      "cell_type": "code",
      "source": [
        "with open('/content/dados_empresaA.json', 'r') as file:\n",
        "  dados_json = json.load(file)\n",
        "dados_json[0]\n"
      ],
      "metadata": {
        "colab": {
          "base_uri": "https://localhost:8080/"
        },
        "id": "b0ilOEmQXO0S",
        "outputId": "3e3bd11d-372b-49a1-aa32-de665d23b8a5"
      },
      "id": "b0ilOEmQXO0S",
      "execution_count": 7,
      "outputs": [
        {
          "output_type": "execute_result",
          "data": {
            "text/plain": [
              "{'Nome do Produto': 'Blush em pó',\n",
              " 'Categoria do Produto': 'Eletrodomésticos',\n",
              " 'Preço do Produto (R$)': 79.41,\n",
              " 'Quantidade em Estoque': 7,\n",
              " 'Filial': 'Filial 7'}"
            ]
          },
          "metadata": {},
          "execution_count": 7
        }
      ]
    },
    {
      "cell_type": "code",
      "source": [
        "dados_json[10]"
      ],
      "metadata": {
        "colab": {
          "base_uri": "https://localhost:8080/"
        },
        "id": "xdulvFxQXy2e",
        "outputId": "be6f01e1-14c9-493c-8ebf-e84ed91a3b38"
      },
      "id": "xdulvFxQXy2e",
      "execution_count": 8,
      "outputs": [
        {
          "output_type": "execute_result",
          "data": {
            "text/plain": [
              "{'Nome do Produto': 'Corretivo',\n",
              " 'Categoria do Produto': 'Eletrodomésticos',\n",
              " 'Preço do Produto (R$)': 92.03,\n",
              " 'Quantidade em Estoque': 10,\n",
              " 'Filial': 'Filial 8'}"
            ]
          },
          "metadata": {},
          "execution_count": 8
        }
      ]
    },
    {
      "cell_type": "code",
      "source": [
        "type(dados_json[0])"
      ],
      "metadata": {
        "colab": {
          "base_uri": "https://localhost:8080/"
        },
        "id": "-FUyychTX1qy",
        "outputId": "4ab0b611-1423-41f1-fb6b-751d224b4bd4"
      },
      "id": "-FUyychTX1qy",
      "execution_count": 9,
      "outputs": [
        {
          "output_type": "execute_result",
          "data": {
            "text/plain": [
              "dict"
            ]
          },
          "metadata": {},
          "execution_count": 9
        }
      ]
    },
    {
      "cell_type": "markdown",
      "source": [
        "csv"
      ],
      "metadata": {
        "id": "0HsflOEYZab0"
      },
      "id": "0HsflOEYZab0"
    },
    {
      "cell_type": "code",
      "source": [
        "with open(path_csv, 'r') as file:\n",
        "  print(file.readlines())"
      ],
      "metadata": {
        "colab": {
          "base_uri": "https://localhost:8080/"
        },
        "id": "aCSXvlyMZcWV",
        "outputId": "a1433b81-f07c-40d0-e345-5e1ca723e914"
      },
      "id": "aCSXvlyMZcWV",
      "execution_count": 10,
      "outputs": [
        {
          "output_type": "stream",
          "name": "stdout",
          "text": [
            "['Nome do Item,Classificação do Produto,Valor em Reais (R$),Quantidade em Estoque,Nome da Loja,Data da Venda\\n', 'Lápis de sobrancelha,Roupas,55.17,62,Filial 1,2023-04-13 18:58:06.794203\\n', 'Batom matte,Eletrônicos,74.15,48,Filial 9,2023-06-03 18:58:06.794203\\n', 'Corretivo,Roupas,54.86,36,Filial 5,2023-06-08 18:58:06.794203\\n', 'Delineador líquido,Roupas,91.29,1,Filial 8,2023-02-27 18:58:06.794203\\n', 'Batom líquido,Roupas,44.65,52,Filial 2,2022-09-05 18:58:06.794203\\n', 'Base líquida,Eletrônicos,5.22,85,Filial 3,2022-09-11 18:58:06.794203\\n', 'Máscara de cílios,Eletrônicos,1.08,31,Filial 6,2023-02-08 18:58:06.794203\\n', 'Corretivo,Alimentos,56.22,76,Filial 5,2022-12-08 18:58:06.794203\\n', 'Batom matte,Roupas,94.01,7,Filial 2,2023-07-18 18:58:06.794203\\n', 'Lápis de sobrancelha,Alimentos,51.38,4,Filial 10,2023-06-19 18:58:06.794203\\n', 'Pó compacto,Eletrônicos,5.59,82,Filial 10,2023-07-19 18:58:06.794203\\n', 'Pó compacto,Eletrônicos,2.65,8,Filial 3,2023-05-24 18:58:06.794203\\n', 'Corretivo,Roupas,68.62,6,Filial 1,2023-01-24 18:58:06.794203\\n', 'Pó compacto,Alimentos,80.94,70,Filial 6,2023-06-07 18:58:06.794203\\n', 'Batom matte,Alimentos,26.79,86,Filial 9,2023-01-10 18:58:06.794203\\n', 'Base líquida,Alimentos,55.08,14,Filial 5,2023-02-09 18:58:06.794203\\n', 'Base líquida,Alimentos,51.34,13,Filial 2,2022-10-24 18:58:06.794203\\n', 'Sombra de olhos,Alimentos,31.07,45,Filial 8,2023-03-06 18:58:06.794203\\n', 'Sombra de olhos,Eletrodomésticos,78.94,44,Filial 7,2022-11-12 18:58:06.794203\\n', 'Batom matte,Eletrônicos,41.15,91,Filial 9,2023-02-03 18:58:06.794203\\n', 'Base líquida,Eletrônicos,44.47,39,Filial 4,2023-07-31 18:58:06.794203\\n', 'Sombra de olhos,Roupas,32.8,23,Filial 3,2023-06-07 18:58:06.794203\\n', 'Delineador líquido,Alimentos,90.62,70,Filial 3,2022-10-31 18:58:06.794203\\n', 'Pó compacto,Eletrônicos,66.56,89,Filial 1,2023-03-04 18:58:06.794203\\n', 'Delineador líquido,Eletrônicos,57.56,77,Filial 8,2023-01-27 18:58:06.794203\\n', 'Batom matte,Alimentos,40.92,13,Filial 3,2023-04-25 18:58:06.794203\\n', 'Delineador líquido,Eletrônicos,65.96,73,Filial 10,2022-09-20 18:58:06.794203\\n', 'Lápis de sobrancelha,Roupas,87.64,25,Filial 5,2023-03-09 18:58:06.794203\\n', 'Sombra de olhos,Alimentos,61.21,22,Filial 3,2023-02-06 18:58:06.794203\\n', 'Delineador líquido,Eletrodomésticos,12.77,57,Filial 8,2023-05-15 18:58:06.794203\\n', 'Blush em pó,Roupas,86.67,61,Filial 10,2023-07-06 18:58:06.794203\\n', 'Base líquida,Eletrodomésticos,26.87,56,Filial 6,2023-07-24 18:58:06.794203\\n', 'Batom líquido,Roupas,83.86,33,Filial 2,2023-05-02 18:58:06.794203\\n', 'Base líquida,Eletrônicos,89.13,49,Filial 3,2023-07-07 18:58:06.794203\\n', 'Base líquida,Eletrônicos,12.08,87,Filial 2,2023-04-15 18:58:06.794203\\n', 'Lápis de sobrancelha,Eletrônicos,73.5,67,Filial 4,2022-11-07 18:58:06.794203\\n', 'Delineador líquido,Eletrodomésticos,90.34,76,Filial 2,2023-06-16 18:58:06.794203\\n', 'Batom matte,Eletrônicos,5.74,1,Filial 4,2022-12-15 18:58:06.794203\\n', 'Batom matte,Roupas,47.47,62,Filial 3,2023-02-01 18:58:06.794203\\n', 'Delineador líquido,Alimentos,87.52,43,Filial 9,2023-08-22 18:58:06.794203\\n', 'Delineador líquido,Alimentos,14.57,72,Filial 10,2023-05-20 18:58:06.794203\\n', 'Corretivo,Roupas,69.69,9,Filial 8,2023-02-03 18:58:06.794203\\n', 'Batom matte,Eletrônicos,62.96,12,Filial 5,2023-05-02 18:58:06.794203\\n', 'Lápis de sobrancelha,Eletrônicos,52.49,57,Filial 1,2023-03-10 18:58:06.794203\\n', 'Sombra de olhos,Roupas,85.51,5,Filial 5,2023-04-17 18:58:06.794203\\n', 'Base líquida,Roupas,8.72,48,Filial 5,2023-05-16 18:58:06.794203\\n', 'Batom líquido,Eletrodomésticos,78.58,89,Filial 10,2022-12-16 18:58:06.794203\\n', 'Batom matte,Eletrônicos,23.8,28,Filial 9,2022-10-14 18:58:06.794203\\n', 'Lápis de sobrancelha,Eletrodomésticos,36.96,5,Filial 3,2022-11-05 18:58:06.794203\\n', 'Batom matte,Eletrônicos,13.84,2,Filial 6,2023-04-30 18:58:06.794203\\n', 'Base líquida,Eletrodomésticos,23.45,69,Filial 7,2023-04-28 18:58:06.794203\\n', 'Corretivo,Eletrônicos,31.88,19,Filial 3,2023-02-15 18:58:06.794203\\n', 'Máscara de cílios,Eletrodomésticos,73.9,83,Filial 3,2023-07-02 18:58:06.794203\\n', 'Batom líquido,Roupas,48.62,32,Filial 5,2023-05-27 18:58:06.794203\\n', 'Batom matte,Eletrodomésticos,46.32,52,Filial 8,2023-04-12 18:58:06.794203\\n', 'Base líquida,Alimentos,6.9,10,Filial 4,2023-03-23 18:58:06.794203\\n', 'Pó compacto,Eletrodomésticos,26.51,10,Filial 2,2022-10-27 18:58:06.794203\\n', 'Máscara de cílios,Roupas,37.52,55,Filial 9,2023-02-13 18:58:06.794203\\n', 'Lápis de sobrancelha,Roupas,18.37,29,Filial 9,2023-01-01 18:58:06.794203\\n', 'Sombra de olhos,Alimentos,75.04,90,Filial 3,2023-08-29 18:58:06.794203\\n', 'Pó compacto,Alimentos,9.59,46,Filial 8,2023-03-31 18:58:06.794203\\n', 'Corretivo,Eletrônicos,84.24,27,Filial 5,2023-03-07 18:58:06.794203\\n', 'Base líquida,Eletrodomésticos,22.41,97,Filial 2,2022-09-11 18:58:06.794203\\n', 'Lápis de sobrancelha,Roupas,18.03,7,Filial 10,2023-01-26 18:58:06.794203\\n', 'Batom matte,Eletrônicos,56.88,49,Filial 2,2023-02-01 18:58:06.794203\\n', 'Pó compacto,Eletrônicos,71.07,10,Filial 4,2023-01-01 18:58:06.794203\\n', 'Corretivo,Alimentos,80.43,2,Filial 10,2023-08-03 18:58:06.794203\\n', 'Batom líquido,Eletrônicos,67.95,50,Filial 10,2022-10-06 18:58:06.794203\\n', 'Lápis de sobrancelha,Eletrônicos,15.85,89,Filial 9,2023-01-09 18:58:06.794203\\n', 'Sombra de olhos,Alimentos,39.86,31,Filial 7,2023-07-02 18:58:06.794203\\n', 'Lápis de sobrancelha,Eletrônicos,14.98,40,Filial 3,2023-06-04 18:58:06.794203\\n', 'Corretivo,Roupas,6.9,91,Filial 9,2023-02-23 18:58:06.794203\\n', 'Batom matte,Roupas,57.28,10,Filial 3,2023-07-31 18:58:06.794203\\n', 'Corretivo,Eletrodomésticos,11.71,77,Filial 6,2022-11-18 18:58:06.794203\\n', 'Blush em pó,Eletrodomésticos,60.0,23,Filial 2,2022-11-19 18:58:06.794203\\n', 'Sombra de olhos,Eletrônicos,94.51,72,Filial 8,2023-01-14 18:58:06.794203\\n', 'Sombra de olhos,Alimentos,86.96,89,Filial 7,2022-11-25 18:58:06.794203\\n', 'Máscara de cílios,Eletrônicos,36.37,50,Filial 1,2022-09-29 18:58:06.794203\\n', 'Sombra de olhos,Eletrônicos,9.36,72,Filial 5,2023-07-21 18:58:06.794203\\n', 'Delineador líquido,Eletrodomésticos,43.3,78,Filial 6,2023-02-11 18:58:06.794203\\n', 'Batom matte,Alimentos,75.34,75,Filial 1,2023-01-02 18:58:06.794203\\n', 'Sombra de olhos,Eletrônicos,40.39,84,Filial 10,2022-12-16 18:58:06.794203\\n', 'Delineador líquido,Eletrodomésticos,11.05,15,Filial 2,2022-12-26 18:58:06.794203\\n', 'Pó compacto,Eletrônicos,39.21,26,Filial 10,2022-12-19 18:58:06.794203\\n', 'Delineador líquido,Alimentos,48.01,46,Filial 8,2023-02-14 18:58:06.794203\\n', 'Máscara de cílios,Eletrodomésticos,1.65,79,Filial 8,2022-10-21 18:58:06.794203\\n', 'Máscara de cílios,Eletrodomésticos,43.61,75,Filial 2,2022-09-26 18:58:06.794203\\n', 'Lápis de sobrancelha,Eletrônicos,75.25,11,Filial 3,2023-08-04 18:58:06.794203\\n', 'Máscara de cílios,Alimentos,55.73,25,Filial 2,2023-06-06 18:58:06.794203\\n', 'Corretivo,Roupas,11.96,7,Filial 6,2023-03-25 18:58:06.794203\\n', 'Batom líquido,Alimentos,84.91,88,Filial 6,2022-09-22 18:58:06.794203\\n', 'Pó compacto,Eletrodomésticos,83.6,47,Filial 2,2023-06-23 18:58:06.794203\\n', 'Lápis de sobrancelha,Eletrodomésticos,87.64,22,Filial 7,2023-08-17 18:58:06.794203\\n', 'Base líquida,Eletrônicos,79.79,98,Filial 5,2023-06-06 18:58:06.794203\\n', 'Pó compacto,Alimentos,18.36,67,Filial 5,2022-09-12 18:58:06.794203\\n', 'Batom líquido,Eletrônicos,40.28,67,Filial 3,2023-03-03 18:58:06.794203\\n', 'Sombra de olhos,Eletrônicos,41.92,79,Filial 4,2023-01-29 18:58:06.794203\\n', 'Pó compacto,Eletrodomésticos,48.15,82,Filial 6,2022-12-03 18:58:06.794203\\n', 'Delineador líquido,Eletrodomésticos,30.29,96,Filial 6,2023-02-27 18:58:06.794203\\n', 'Pó compacto,Eletrônicos,98.66,86,Filial 3,2023-07-06 18:58:06.794203\\n', 'Delineador líquido,Eletrônicos,61.41,14,Filial 5,2023-07-06 18:58:06.794203\\n', 'Batom matte,Alimentos,99.22,4,Filial 7,2022-11-24 18:58:06.794203\\n', 'Sombra de olhos,Eletrodomésticos,61.0,28,Filial 10,2022-12-24 18:58:06.794203\\n', 'Blush em pó,Eletrônicos,18.86,45,Filial 9,2023-05-14 18:58:06.794203\\n', 'Lápis de sobrancelha,Eletrônicos,33.76,97,Filial 5,2023-04-23 18:58:06.794203\\n', 'Delineador líquido,Alimentos,67.41,3,Filial 9,2023-01-17 18:58:06.794203\\n', 'Delineador líquido,Eletrônicos,58.3,93,Filial 3,2022-10-22 18:58:06.794203\\n', 'Batom líquido,Eletrodomésticos,57.95,63,Filial 9,2022-10-28 18:58:06.794203\\n', 'Base líquida,Alimentos,66.9,63,Filial 2,2023-03-13 18:58:06.794203\\n', 'Corretivo,Eletrodomésticos,35.55,48,Filial 3,2023-03-08 18:58:06.794203\\n', 'Lápis de sobrancelha,Eletrônicos,51.94,55,Filial 7,2023-04-28 18:58:06.794203\\n', 'Sombra de olhos,Alimentos,86.0,54,Filial 7,2023-08-06 18:58:06.794203\\n', 'Máscara de cílios,Eletrônicos,73.84,27,Filial 3,2023-02-19 18:58:06.794203\\n', 'Lápis de sobrancelha,Eletrônicos,34.84,55,Filial 5,2022-11-01 18:58:06.794203\\n', 'Batom líquido,Roupas,41.5,72,Filial 6,2023-03-18 18:58:06.794203\\n', 'Lápis de sobrancelha,Roupas,92.31,50,Filial 6,2023-03-10 18:58:06.794203\\n', 'Delineador líquido,Eletrodomésticos,20.64,18,Filial 2,2022-10-09 18:58:06.794203\\n', 'Batom líquido,Alimentos,94.09,81,Filial 7,2022-12-14 18:58:06.794203\\n', 'Máscara de cílios,Eletrodomésticos,60.69,47,Filial 5,2022-11-14 18:58:06.794203\\n', 'Máscara de cílios,Roupas,11.55,5,Filial 1,2022-11-21 18:58:06.794203\\n', 'Corretivo,Roupas,95.51,56,Filial 8,2022-11-21 18:58:06.794203\\n', 'Máscara de cílios,Eletrônicos,89.33,8,Filial 8,2023-06-19 18:58:06.794203\\n', 'Batom líquido,Eletrônicos,49.56,38,Filial 9,2022-11-25 18:58:06.794203\\n', 'Delineador líquido,Alimentos,98.97,30,Filial 4,2023-08-30 18:58:06.794203\\n', 'Sombra de olhos,Eletrodomésticos,89.56,85,Filial 3,2022-09-10 18:58:06.794203\\n', 'Base líquida,Eletrodomésticos,77.81,20,Filial 3,2023-01-20 18:58:06.794203\\n', 'Base líquida,Alimentos,75.06,24,Filial 3,2023-06-21 18:58:06.794203\\n', 'Batom líquido,Eletrodomésticos,88.5,8,Filial 8,2023-09-05 18:58:06.794203\\n', 'Corretivo,Eletrônicos,17.84,59,Filial 1,2022-09-30 18:58:06.794203\\n', 'Base líquida,Alimentos,64.88,81,Filial 8,2023-04-02 18:58:06.794203\\n', 'Batom matte,Alimentos,69.6,25,Filial 4,2023-03-19 18:58:06.794203\\n', 'Corretivo,Roupas,24.02,85,Filial 2,2022-12-27 18:58:06.794203\\n', 'Pó compacto,Roupas,67.19,63,Filial 2,2023-01-13 18:58:06.794203\\n', 'Corretivo,Roupas,67.23,28,Filial 6,2022-10-30 18:58:06.794203\\n', 'Blush em pó,Alimentos,86.85,40,Filial 9,2022-10-07 18:58:06.794203\\n', 'Lápis de sobrancelha,Roupas,41.75,98,Filial 9,2023-07-25 18:58:06.794203\\n', 'Pó compacto,Roupas,52.42,38,Filial 3,2022-11-20 18:58:06.794203\\n', 'Delineador líquido,Alimentos,17.13,99,Filial 9,2022-12-04 18:58:06.794203\\n', 'Blush em pó,Eletrodomésticos,22.72,51,Filial 7,2023-06-28 18:58:06.794203\\n', 'Máscara de cílios,Roupas,35.28,69,Filial 8,2023-02-23 18:58:06.794203\\n', 'Blush em pó,Roupas,46.76,63,Filial 8,2023-07-02 18:58:06.794203\\n', 'Pó compacto,Roupas,41.45,74,Filial 2,2023-02-02 18:58:06.794203\\n', 'Base líquida,Roupas,93.51,69,Filial 4,2023-03-12 18:58:06.794203\\n', 'Blush em pó,Eletrônicos,88.99,17,Filial 6,2023-06-22 18:58:06.794203\\n', 'Delineador líquido,Alimentos,1.1,22,Filial 10,2022-10-23 18:58:06.794203\\n', 'Delineador líquido,Roupas,58.94,23,Filial 9,2023-04-17 18:58:06.794203\\n', 'Sombra de olhos,Eletrônicos,76.57,87,Filial 8,2022-12-05 18:58:06.794203\\n', 'Batom líquido,Eletrônicos,22.91,49,Filial 9,2023-07-28 18:58:06.794203\\n', 'Corretivo,Roupas,28.89,33,Filial 6,2022-09-27 18:58:06.794203\\n', 'Blush em pó,Alimentos,33.57,22,Filial 9,2022-09-05 18:58:06.794203\\n', 'Delineador líquido,Eletrônicos,4.12,46,Filial 2,2023-08-07 18:58:06.794203\\n', 'Blush em pó,Alimentos,73.13,66,Filial 9,2023-04-23 18:58:06.794203\\n', 'Base líquida,Eletrodomésticos,1.69,21,Filial 3,2022-11-20 18:58:06.794203\\n', 'Pó compacto,Alimentos,27.18,24,Filial 8,2023-02-01 18:58:06.794203\\n', 'Batom matte,Eletrônicos,94.47,77,Filial 8,2023-07-03 18:58:06.794203\\n', 'Corretivo,Alimentos,67.19,76,Filial 1,2023-04-10 18:58:06.794203\\n', 'Sombra de olhos,Alimentos,92.72,62,Filial 4,2022-12-08 18:58:06.794203\\n', 'Blush em pó,Roupas,78.29,67,Filial 5,2022-10-09 18:58:06.794203\\n', 'Delineador líquido,Roupas,83.18,15,Filial 1,2022-12-21 18:58:06.794203\\n', 'Pó compacto,Alimentos,75.77,26,Filial 9,2023-03-07 18:58:06.794203\\n', 'Batom líquido,Roupas,81.71,90,Filial 4,2023-07-25 18:58:06.794203\\n', 'Batom matte,Roupas,20.73,49,Filial 6,2023-08-11 18:58:06.794203\\n', 'Lápis de sobrancelha,Roupas,57.12,10,Filial 6,2023-08-11 18:58:06.794203\\n', 'Delineador líquido,Roupas,29.61,15,Filial 5,2023-01-24 18:58:06.794203\\n', 'Pó compacto,Alimentos,71.75,31,Filial 10,2023-07-26 18:58:06.794203\\n', 'Lápis de sobrancelha,Roupas,84.33,26,Filial 6,2022-11-29 18:58:06.794203\\n', 'Máscara de cílios,Eletrodomésticos,17.9,33,Filial 7,2023-01-28 18:58:06.794203\\n', 'Corretivo,Alimentos,62.61,34,Filial 6,2023-04-13 18:58:06.794203\\n', 'Delineador líquido,Roupas,9.21,95,Filial 10,2023-04-29 18:58:06.794203\\n', 'Máscara de cílios,Eletrodomésticos,21.71,77,Filial 2,2022-11-20 18:58:06.794203\\n', 'Máscara de cílios,Eletrônicos,34.76,51,Filial 4,2023-04-09 18:58:06.794203\\n', 'Delineador líquido,Eletrônicos,61.77,41,Filial 3,2023-08-05 18:58:06.794203\\n', 'Corretivo,Eletrônicos,29.04,21,Filial 1,2023-04-10 18:58:06.794203\\n', 'Base líquida,Alimentos,32.33,6,Filial 8,2023-05-06 18:58:06.794203\\n', 'Batom matte,Eletrodomésticos,25.68,33,Filial 3,2023-05-24 18:58:06.794203\\n', 'Máscara de cílios,Eletrônicos,6.8,8,Filial 2,2023-01-19 18:58:06.794203\\n', 'Sombra de olhos,Eletrônicos,85.55,33,Filial 2,2022-10-30 18:58:06.794203\\n', 'Batom matte,Roupas,61.23,80,Filial 6,2023-04-05 18:58:06.794203\\n', 'Corretivo,Eletrônicos,7.43,18,Filial 1,2022-10-27 18:58:06.794203\\n', 'Lápis de sobrancelha,Eletrônicos,92.77,18,Filial 6,2023-02-05 18:58:06.794203\\n', 'Delineador líquido,Eletrônicos,70.44,79,Filial 5,2023-02-19 18:58:06.794203\\n', 'Corretivo,Eletrodomésticos,98.45,14,Filial 7,2022-11-27 18:58:06.794203\\n', 'Delineador líquido,Roupas,12.18,59,Filial 10,2023-07-12 18:58:06.794203\\n', 'Base líquida,Eletrodomésticos,71.31,84,Filial 2,2023-07-19 18:58:06.794203\\n', 'Máscara de cílios,Eletrônicos,54.71,62,Filial 5,2023-06-02 18:58:06.794203\\n', 'Corretivo,Roupas,45.12,10,Filial 3,2023-04-25 18:58:06.794203\\n', 'Blush em pó,Roupas,32.26,60,Filial 8,2023-03-25 18:58:06.794203\\n', 'Pó compacto,Alimentos,86.78,24,Filial 6,2022-12-13 18:58:06.794203\\n', 'Blush em pó,Eletrodomésticos,71.86,26,Filial 10,2023-06-02 18:58:06.794203\\n', 'Pó compacto,Eletrônicos,45.38,41,Filial 5,2023-05-25 18:58:06.794203\\n', 'Corretivo,Roupas,53.76,27,Filial 4,2023-03-05 18:58:06.794203\\n', 'Batom líquido,Eletrodomésticos,7.41,93,Filial 6,2023-01-18 18:58:06.794203\\n', 'Batom matte,Eletrônicos,68.97,79,Filial 3,2023-03-15 18:58:06.794203\\n', 'Blush em pó,Eletrodomésticos,10.5,80,Filial 6,2023-07-26 18:58:06.794203\\n', 'Corretivo,Alimentos,67.79,19,Filial 5,2023-09-05 18:58:06.794203\\n', 'Máscara de cílios,Eletrodomésticos,73.11,62,Filial 1,2023-04-05 18:58:06.794203\\n', 'Sombra de olhos,Eletrônicos,93.33,99,Filial 8,2023-04-17 18:58:06.794203\\n', 'Blush em pó,Roupas,86.79,100,Filial 5,2023-03-23 18:58:06.794203\\n', 'Lápis de sobrancelha,Roupas,4.92,62,Filial 5,2022-11-03 18:58:06.794203\\n', 'Sombra de olhos,Roupas,40.14,45,Filial 9,2023-03-01 18:58:06.794203\\n', 'Blush em pó,Alimentos,75.09,19,Filial 1,2023-05-29 18:58:06.794203\\n', 'Lápis de sobrancelha,Roupas,30.61,43,Filial 9,2023-03-22 18:58:06.794203\\n', 'Pó compacto,Alimentos,25.94,61,Filial 1,2023-07-05 18:58:06.794203\\n', 'Batom líquido,Eletrônicos,51.59,47,Filial 3,2022-11-14 18:58:06.794203\\n', 'Base líquida,Alimentos,67.69,35,Filial 2,2022-11-20 18:58:06.794203\\n', 'Máscara de cílios,Eletrônicos,71.22,72,Filial 10,2023-07-23 18:58:06.794203\\n', 'Pó compacto,Eletrônicos,31.11,93,Filial 6,2023-04-14 18:58:06.794203\\n', 'Pó compacto,Eletrodomésticos,4.39,29,Filial 8,2023-02-18 18:58:06.794203\\n', 'Corretivo,Eletrodomésticos,43.63,47,Filial 9,2023-02-23 18:58:06.794203\\n', 'Delineador líquido,Alimentos,26.15,33,Filial 9,2022-12-16 18:58:06.794203\\n', 'Pó compacto,Alimentos,98.99,1,Filial 6,2023-06-09 18:58:06.794203\\n', 'Máscara de cílios,Roupas,17.66,39,Filial 6,2022-12-11 18:58:06.794203\\n', 'Base líquida,Alimentos,53.44,67,Filial 5,2022-09-18 18:58:06.794203\\n', 'Batom matte,Eletrodomésticos,16.29,19,Filial 7,2022-11-27 18:58:06.794203\\n', 'Lápis de sobrancelha,Eletrônicos,13.8,19,Filial 2,2022-12-09 18:58:06.794203\\n', 'Blush em pó,Roupas,26.5,12,Filial 10,2023-06-11 18:58:06.794203\\n', 'Batom líquido,Alimentos,31.78,72,Filial 5,2022-09-10 18:58:06.794203\\n', 'Base líquida,Roupas,85.44,77,Filial 9,2023-08-21 18:58:06.794203\\n', 'Delineador líquido,Alimentos,85.49,11,Filial 1,2022-11-19 18:58:06.794203\\n', 'Batom líquido,Eletrônicos,73.44,96,Filial 7,2023-06-05 18:58:06.794203\\n', 'Máscara de cílios,Roupas,32.67,12,Filial 8,2022-11-06 18:58:06.794203\\n', 'Blush em pó,Alimentos,25.04,89,Filial 10,2022-10-05 18:58:06.794203\\n', 'Delineador líquido,Roupas,36.61,53,Filial 10,2022-11-10 18:58:06.794203\\n', 'Base líquida,Eletrônicos,13.47,80,Filial 9,2023-08-23 18:58:06.794203\\n', 'Lápis de sobrancelha,Eletrodomésticos,72.95,10,Filial 7,2022-12-01 18:58:06.794203\\n', 'Batom líquido,Eletrodomésticos,65.8,77,Filial 9,2023-02-11 18:58:06.794203\\n', 'Pó compacto,Eletrônicos,57.42,49,Filial 6,2022-12-02 18:58:06.794203\\n', 'Base líquida,Alimentos,15.26,42,Filial 8,2023-03-24 18:58:06.794203\\n', 'Lápis de sobrancelha,Roupas,93.2,91,Filial 7,2023-03-29 18:58:06.794203\\n', 'Blush em pó,Roupas,62.62,78,Filial 5,2023-05-02 18:58:06.794203\\n', 'Delineador líquido,Alimentos,28.07,70,Filial 2,2022-10-01 18:58:06.794203\\n', 'Lápis de sobrancelha,Eletrodomésticos,47.69,46,Filial 2,2023-08-19 18:58:06.794203\\n', 'Blush em pó,Alimentos,40.39,54,Filial 7,2022-10-06 18:58:06.794203\\n', 'Batom matte,Eletrônicos,98.6,92,Filial 3,2022-12-31 18:58:06.794203\\n', 'Delineador líquido,Eletrodomésticos,41.29,16,Filial 7,2023-06-01 18:58:06.794203\\n', 'Sombra de olhos,Eletrodomésticos,74.29,20,Filial 7,2023-05-12 18:58:06.794203\\n', 'Sombra de olhos,Alimentos,58.71,43,Filial 10,2022-12-02 18:58:06.794203\\n', 'Batom matte,Eletrodomésticos,3.6,2,Filial 1,2023-07-25 18:58:06.794203\\n', 'Blush em pó,Alimentos,21.08,67,Filial 4,2022-11-10 18:58:06.794203\\n', 'Pó compacto,Roupas,63.62,36,Filial 3,2022-12-14 18:58:06.794203\\n', 'Batom matte,Eletrodomésticos,8.66,25,Filial 4,2023-07-03 18:58:06.794203\\n', 'Pó compacto,Alimentos,79.56,85,Filial 5,2023-05-29 18:58:06.794203\\n', 'Delineador líquido,Alimentos,17.56,64,Filial 2,2022-10-18 18:58:06.794203\\n', 'Blush em pó,Roupas,84.64,4,Filial 5,2022-11-18 18:58:06.794203\\n', 'Corretivo,Eletrodomésticos,42.59,20,Filial 8,2022-10-05 18:58:06.794203\\n', 'Lápis de sobrancelha,Alimentos,78.5,49,Filial 9,2023-06-12 18:58:06.794203\\n', 'Sombra de olhos,Eletrodomésticos,97.49,7,Filial 3,2022-11-14 18:58:06.794203\\n', 'Corretivo,Eletrodomésticos,49.08,31,Filial 1,2023-03-05 18:58:06.794203\\n', 'Máscara de cílios,Alimentos,67.99,98,Filial 8,2023-02-01 18:58:06.794203\\n', 'Batom líquido,Alimentos,71.63,61,Filial 3,2022-10-04 18:58:06.794203\\n', 'Máscara de cílios,Alimentos,73.04,12,Filial 8,2022-09-11 18:58:06.794203\\n', 'Delineador líquido,Eletrodomésticos,66.35,44,Filial 10,2023-01-11 18:58:06.794203\\n', 'Blush em pó,Eletrodomésticos,89.05,31,Filial 5,2022-12-21 18:58:06.794203\\n', 'Delineador líquido,Roupas,6.07,65,Filial 3,2022-12-14 18:58:06.794203\\n', 'Máscara de cílios,Eletrodomésticos,15.38,18,Filial 1,2022-12-11 18:58:06.794203\\n', 'Base líquida,Eletrônicos,12.27,23,Filial 9,2023-05-08 18:58:06.794203\\n', 'Batom líquido,Alimentos,77.02,85,Filial 8,2022-10-18 18:58:06.794203\\n', 'Base líquida,Roupas,68.69,32,Filial 8,2022-12-26 18:58:06.794203\\n', 'Batom líquido,Eletrodomésticos,55.96,42,Filial 7,2022-10-18 18:58:06.794203\\n', 'Corretivo,Eletrodomésticos,54.17,78,Filial 1,2023-02-22 18:58:06.794203\\n', 'Pó compacto,Alimentos,52.67,64,Filial 1,2023-09-03 18:58:06.794203\\n', 'Base líquida,Roupas,32.47,28,Filial 2,2022-11-25 18:58:06.794203\\n', 'Batom matte,Roupas,71.09,62,Filial 7,2023-06-01 18:58:06.794203\\n', 'Lápis de sobrancelha,Eletrodomésticos,24.2,43,Filial 10,2023-02-28 18:58:06.794203\\n', 'Pó compacto,Roupas,42.15,11,Filial 3,2023-03-07 18:58:06.794203\\n', 'Pó compacto,Eletrodomésticos,15.97,31,Filial 2,2023-05-18 18:58:06.794203\\n', 'Base líquida,Roupas,54.79,62,Filial 2,2022-11-15 18:58:06.794203\\n', 'Pó compacto,Alimentos,7.21,96,Filial 1,2023-08-23 18:58:06.794203\\n', 'Corretivo,Eletrodomésticos,12.53,23,Filial 5,2023-01-26 18:58:06.794203\\n', 'Máscara de cílios,Roupas,22.32,86,Filial 1,2023-06-25 18:58:06.794203\\n', 'Sombra de olhos,Alimentos,10.73,45,Filial 5,2023-05-17 18:58:06.794203\\n', 'Máscara de cílios,Roupas,91.29,18,Filial 3,2022-12-18 18:58:06.794203\\n', 'Sombra de olhos,Alimentos,56.98,66,Filial 9,2023-01-23 18:58:06.794203\\n', 'Sombra de olhos,Eletrodomésticos,14.73,44,Filial 7,2022-09-10 18:58:06.794203\\n', 'Blush em pó,Eletrônicos,73.65,72,Filial 3,2022-10-04 18:58:06.794203\\n', 'Blush em pó,Roupas,67.49,5,Filial 10,2022-12-02 18:58:06.794203\\n', 'Corretivo,Eletrônicos,83.97,44,Filial 7,2022-09-18 18:58:06.794203\\n', 'Corretivo,Eletrônicos,35.47,40,Filial 1,2023-01-19 18:58:06.794203\\n', 'Máscara de cílios,Roupas,45.83,96,Filial 8,2022-10-15 18:58:06.794203\\n', 'Pó compacto,Eletrônicos,66.22,81,Filial 5,2023-09-04 18:58:06.794203\\n', 'Delineador líquido,Eletrodomésticos,10.18,34,Filial 5,2022-12-26 18:58:06.794203\\n', 'Delineador líquido,Alimentos,98.0,10,Filial 5,2022-10-26 18:58:06.794203\\n', 'Sombra de olhos,Eletrodomésticos,91.93,82,Filial 5,2023-08-02 18:58:06.794203\\n', 'Batom matte,Roupas,64.9,92,Filial 6,2023-04-09 18:58:06.794203\\n', 'Delineador líquido,Eletrônicos,79.98,64,Filial 8,2023-07-24 18:58:06.794203\\n', 'Base líquida,Alimentos,7.27,44,Filial 4,2022-09-18 18:58:06.794203\\n', 'Máscara de cílios,Eletrodomésticos,16.9,67,Filial 2,2022-12-04 18:58:06.794203\\n', 'Pó compacto,Eletrodomésticos,99.27,94,Filial 2,2022-10-30 18:58:06.794203\\n', 'Pó compacto,Eletrodomésticos,2.19,94,Filial 4,2022-09-24 18:58:06.794203\\n', 'Lápis de sobrancelha,Eletrodomésticos,86.12,63,Filial 9,2023-04-01 18:58:06.794203\\n', 'Máscara de cílios,Alimentos,63.63,72,Filial 7,2023-02-23 18:58:06.794203\\n', 'Delineador líquido,Alimentos,94.77,16,Filial 7,2022-12-18 18:58:06.794203\\n', 'Máscara de cílios,Alimentos,73.76,68,Filial 7,2023-07-12 18:58:06.794203\\n', 'Batom matte,Roupas,5.29,25,Filial 6,2023-08-28 18:58:06.794203\\n', 'Pó compacto,Roupas,37.02,96,Filial 8,2022-12-27 18:58:06.794203\\n', 'Batom líquido,Alimentos,30.87,91,Filial 3,2022-11-06 18:58:06.794203\\n', 'Base líquida,Eletrônicos,99.31,47,Filial 1,2023-07-20 18:58:06.794203\\n', 'Lápis de sobrancelha,Roupas,90.74,100,Filial 4,2022-10-29 18:58:06.794203\\n', 'Base líquida,Roupas,42.89,91,Filial 5,2022-11-06 18:58:06.794203\\n', 'Lápis de sobrancelha,Eletrodomésticos,33.79,76,Filial 6,2023-05-12 18:58:06.794203\\n', 'Batom matte,Eletrônicos,46.96,51,Filial 7,2023-01-13 18:58:06.794203\\n', 'Pó compacto,Alimentos,6.99,6,Filial 3,2023-05-04 18:58:06.794203\\n', 'Sombra de olhos,Eletrônicos,85.41,43,Filial 8,2023-07-16 18:58:06.794203\\n', 'Batom matte,Alimentos,88.84,41,Filial 1,2022-10-31 18:58:06.794203\\n', 'Base líquida,Eletrônicos,54.04,88,Filial 6,2023-01-01 18:58:06.794203\\n', 'Sombra de olhos,Roupas,96.25,40,Filial 1,2023-02-20 18:58:06.794203\\n', 'Batom líquido,Eletrodomésticos,97.87,95,Filial 6,2023-06-10 18:58:06.794203\\n', 'Blush em pó,Alimentos,56.94,37,Filial 7,2023-08-29 18:58:06.794203\\n', 'Blush em pó,Roupas,88.03,32,Filial 7,2023-05-26 18:58:06.794203\\n', 'Base líquida,Eletrodomésticos,9.28,32,Filial 8,2023-08-20 18:58:06.794203\\n', 'Lápis de sobrancelha,Eletrodomésticos,68.1,57,Filial 2,2022-09-23 18:58:06.794203\\n', 'Pó compacto,Eletrônicos,12.32,15,Filial 1,2023-03-28 18:58:06.794203\\n', 'Corretivo,Roupas,99.65,52,Filial 3,2023-08-13 18:58:06.794203\\n', 'Sombra de olhos,Alimentos,68.6,10,Filial 2,2023-09-01 18:58:06.794203\\n', 'Batom líquido,Eletrodomésticos,6.18,30,Filial 2,2023-08-20 18:58:06.794203\\n', 'Delineador líquido,Eletrodomésticos,20.8,80,Filial 10,2023-01-24 18:58:06.794203\\n', 'Máscara de cílios,Eletrodomésticos,22.04,48,Filial 3,2023-03-12 18:58:06.794203\\n', 'Blush em pó,Eletrodomésticos,86.38,90,Filial 2,2023-06-30 18:58:06.794203\\n', 'Blush em pó,Eletrônicos,26.13,12,Filial 9,2023-05-08 18:58:06.794203\\n', 'Corretivo,Eletrônicos,86.66,81,Filial 6,2023-06-16 18:58:06.794203\\n', 'Pó compacto,Eletrodomésticos,11.4,15,Filial 8,2023-01-15 18:58:06.794203\\n', 'Lápis de sobrancelha,Eletrodomésticos,93.53,15,Filial 2,2023-03-25 18:58:06.794203\\n', 'Pó compacto,Eletrodomésticos,26.11,95,Filial 7,2023-01-10 18:58:06.794203\\n', 'Batom matte,Alimentos,22.2,81,Filial 3,2023-03-25 18:58:06.794203\\n', 'Delineador líquido,Roupas,40.9,52,Filial 8,2022-11-28 18:58:06.794203\\n', 'Corretivo,Alimentos,72.22,28,Filial 7,2022-11-25 18:58:06.794203\\n', 'Máscara de cílios,Eletrônicos,44.23,64,Filial 9,2022-10-19 18:58:06.794203\\n', 'Batom líquido,Alimentos,4.86,64,Filial 5,2022-09-24 18:58:06.794203\\n', 'Base líquida,Eletrodomésticos,75.59,34,Filial 9,2023-02-05 18:58:06.794203\\n', 'Batom matte,Eletrônicos,83.43,49,Filial 3,2022-12-25 18:58:06.794203\\n', 'Delineador líquido,Roupas,30.89,70,Filial 6,2023-01-14 18:58:06.794203\\n', 'Lápis de sobrancelha,Eletrodomésticos,19.64,17,Filial 2,2022-09-28 18:58:06.794203\\n', 'Batom matte,Alimentos,43.18,54,Filial 9,2023-08-12 18:58:06.794203\\n', 'Batom matte,Alimentos,39.66,33,Filial 3,2022-09-30 18:58:06.794203\\n', 'Pó compacto,Eletrodomésticos,88.49,85,Filial 1,2023-03-18 18:58:06.794203\\n', 'Corretivo,Eletrodomésticos,88.18,69,Filial 10,2022-11-06 18:58:06.794203\\n', 'Base líquida,Alimentos,16.18,11,Filial 3,2022-12-16 18:58:06.794203\\n', 'Lápis de sobrancelha,Alimentos,80.96,3,Filial 7,2022-10-13 18:58:06.794203\\n', 'Delineador líquido,Eletrônicos,72.16,21,Filial 6,2023-07-05 18:58:06.794203\\n', 'Corretivo,Eletrônicos,9.8,84,Filial 4,2023-03-12 18:58:06.794203\\n', 'Delineador líquido,Eletrodomésticos,60.6,45,Filial 7,2023-07-20 18:58:06.794203\\n', 'Corretivo,Eletrônicos,2.22,65,Filial 2,2022-10-17 18:58:06.794203\\n', 'Sombra de olhos,Eletrônicos,2.88,86,Filial 2,2023-02-19 18:58:06.794203\\n', 'Máscara de cílios,Eletrodomésticos,22.45,85,Filial 1,2023-02-13 18:58:06.794203\\n', 'Corretivo,Eletrônicos,26.69,6,Filial 8,2022-11-01 18:58:06.794203\\n', 'Delineador líquido,Roupas,27.13,72,Filial 6,2023-01-04 18:58:06.794203\\n', 'Sombra de olhos,Eletrônicos,25.29,61,Filial 5,2022-11-29 18:58:06.794203\\n', 'Batom matte,Roupas,39.46,73,Filial 10,2022-12-23 18:58:06.794203\\n', 'Lápis de sobrancelha,Roupas,46.31,32,Filial 8,2023-05-05 18:58:06.794203\\n', 'Blush em pó,Eletrodomésticos,49.24,5,Filial 2,2023-07-13 18:58:06.794203\\n', 'Corretivo,Alimentos,74.75,96,Filial 6,2023-04-16 18:58:06.794203\\n', 'Batom líquido,Roupas,1.98,65,Filial 3,2023-08-18 18:58:06.794203\\n', 'Corretivo,Eletrodomésticos,72.66,87,Filial 8,2023-05-25 18:58:06.794203\\n', 'Sombra de olhos,Eletrônicos,75.75,77,Filial 6,2022-12-03 18:58:06.794203\\n', 'Máscara de cílios,Eletrodomésticos,63.53,54,Filial 8,2022-12-21 18:58:06.794203\\n', 'Base líquida,Eletrônicos,74.64,56,Filial 2,2022-10-27 18:58:06.794203\\n', 'Lápis de sobrancelha,Alimentos,94.43,72,Filial 3,2022-10-28 18:58:06.794203\\n', 'Delineador líquido,Eletrodomésticos,86.8,46,Filial 10,2022-11-03 18:58:06.794203\\n', 'Sombra de olhos,Eletrodomésticos,77.31,42,Filial 8,2023-07-20 18:58:06.794203\\n', 'Blush em pó,Eletrônicos,73.58,25,Filial 8,2022-11-25 18:58:06.794203\\n', 'Base líquida,Eletrodomésticos,30.61,82,Filial 2,2023-08-20 18:58:06.794203\\n', 'Corretivo,Eletrônicos,12.19,34,Filial 1,2023-03-06 18:58:06.794203\\n', 'Base líquida,Eletrônicos,64.23,47,Filial 4,2023-07-04 18:58:06.794203\\n', 'Pó compacto,Eletrodomésticos,57.08,82,Filial 9,2023-05-03 18:58:06.794203\\n', 'Sombra de olhos,Eletrônicos,36.36,81,Filial 10,2023-04-10 18:58:06.794203\\n', 'Lápis de sobrancelha,Eletrodomésticos,26.0,59,Filial 10,2023-03-31 18:58:06.794203\\n', 'Batom líquido,Roupas,26.08,99,Filial 8,2023-02-10 18:58:06.794203\\n', 'Máscara de cílios,Roupas,50.18,97,Filial 2,2022-11-16 18:58:06.794203\\n', 'Batom matte,Alimentos,5.26,5,Filial 8,2022-11-11 18:58:06.794203\\n', 'Corretivo,Eletrodomésticos,6.94,40,Filial 7,2023-01-10 18:58:06.794203\\n', 'Sombra de olhos,Eletrônicos,64.52,27,Filial 8,2022-09-25 18:58:06.794203\\n', 'Corretivo,Eletrodomésticos,71.91,19,Filial 1,2023-02-16 18:58:06.794203\\n', 'Delineador líquido,Eletrônicos,76.62,59,Filial 9,2023-07-31 18:58:06.794203\\n', 'Blush em pó,Eletrônicos,66.91,17,Filial 10,2023-08-03 18:58:06.794203\\n', 'Blush em pó,Eletrodomésticos,86.82,46,Filial 7,2023-09-01 18:58:06.794203\\n', 'Lápis de sobrancelha,Eletrônicos,72.63,92,Filial 3,2023-01-07 18:58:06.794203\\n', 'Batom matte,Roupas,86.66,39,Filial 3,2022-10-05 18:58:06.794203\\n', 'Blush em pó,Alimentos,89.1,16,Filial 9,2023-04-21 18:58:06.794203\\n', 'Delineador líquido,Eletrônicos,62.43,49,Filial 8,2022-10-09 18:58:06.794203\\n', 'Corretivo,Roupas,27.52,23,Filial 4,2022-10-30 18:58:06.794203\\n', 'Sombra de olhos,Eletrônicos,28.91,28,Filial 8,2023-03-05 18:58:06.794203\\n', 'Delineador líquido,Alimentos,43.5,1,Filial 5,2023-01-17 18:58:06.794203\\n', 'Corretivo,Roupas,62.78,78,Filial 2,2022-09-13 18:58:06.794203\\n', 'Sombra de olhos,Eletrônicos,80.77,14,Filial 9,2022-09-07 18:58:06.794203\\n', 'Corretivo,Alimentos,90.59,45,Filial 7,2023-01-28 18:58:06.794203\\n', 'Base líquida,Eletrônicos,98.94,52,Filial 9,2023-03-03 18:58:06.794203\\n', 'Blush em pó,Eletrodomésticos,71.21,65,Filial 3,2022-09-11 18:58:06.794203\\n', 'Blush em pó,Roupas,5.13,80,Filial 4,2023-01-16 18:58:06.794203\\n', 'Pó compacto,Alimentos,35.33,3,Filial 3,2023-01-15 18:58:06.794203\\n', 'Corretivo,Eletrodomésticos,29.54,87,Filial 4,2023-03-13 18:58:06.794203\\n', 'Batom líquido,Eletrodomésticos,20.61,57,Filial 4,2023-04-18 18:58:06.794203\\n', 'Batom matte,Eletrodomésticos,35.89,11,Filial 3,2022-09-09 18:58:06.794203\\n', 'Delineador líquido,Eletrônicos,19.57,22,Filial 10,2022-09-14 18:58:06.794203\\n', 'Corretivo,Alimentos,67.64,89,Filial 3,2022-10-10 18:58:06.794203\\n', 'Pó compacto,Roupas,66.81,18,Filial 10,2022-12-24 18:58:06.794203\\n', 'Corretivo,Alimentos,74.36,12,Filial 2,2023-06-04 18:58:06.794203\\n', 'Base líquida,Eletrodomésticos,87.39,4,Filial 10,2023-03-10 18:58:06.794203\\n', 'Base líquida,Eletrodomésticos,17.55,60,Filial 2,2023-06-28 18:58:06.794203\\n', 'Base líquida,Eletrodomésticos,83.12,59,Filial 5,2023-07-29 18:58:06.794203\\n', 'Pó compacto,Roupas,8.31,72,Filial 3,2023-06-18 18:58:06.794203\\n', 'Corretivo,Alimentos,57.22,26,Filial 7,2022-11-12 18:58:06.794203\\n', 'Blush em pó,Eletrônicos,29.2,79,Filial 9,2022-09-14 18:58:06.794203\\n', 'Delineador líquido,Eletrodomésticos,22.17,9,Filial 2,2023-08-12 18:58:06.794203\\n', 'Batom líquido,Alimentos,99.56,7,Filial 2,2022-09-21 18:58:06.794203\\n', 'Corretivo,Roupas,20.15,81,Filial 9,2023-01-24 18:58:06.794203\\n', 'Corretivo,Eletrônicos,20.07,59,Filial 8,2023-01-16 18:58:06.794203\\n', 'Batom líquido,Roupas,88.01,53,Filial 8,2022-12-15 18:58:06.794203\\n', 'Lápis de sobrancelha,Eletrodomésticos,85.03,47,Filial 9,2023-05-08 18:58:06.794203\\n', 'Sombra de olhos,Eletrodomésticos,64.8,63,Filial 3,2022-09-11 18:58:06.794203\\n', 'Batom líquido,Alimentos,72.94,21,Filial 7,2023-02-26 18:58:06.794203\\n', 'Batom matte,Roupas,61.17,6,Filial 9,2023-01-21 18:58:06.794203\\n', 'Pó compacto,Roupas,83.13,84,Filial 1,2023-03-11 18:58:06.794203\\n', 'Batom matte,Eletrodomésticos,59.33,80,Filial 2,2023-06-12 18:58:06.794203\\n', 'Máscara de cílios,Eletrônicos,47.08,99,Filial 8,2023-03-17 18:58:06.794203\\n', 'Batom líquido,Eletrônicos,81.8,51,Filial 3,2023-01-14 18:58:06.794203\\n', 'Batom matte,Roupas,30.33,97,Filial 9,2023-05-06 18:58:06.794203\\n', 'Base líquida,Eletrônicos,81.95,76,Filial 8,2022-09-30 18:58:06.794203\\n', 'Base líquida,Eletrodomésticos,66.26,51,Filial 6,2023-03-26 18:58:06.794203\\n', 'Lápis de sobrancelha,Eletrodomésticos,58.96,93,Filial 2,2023-07-13 18:58:06.794203\\n', 'Delineador líquido,Roupas,62.56,73,Filial 3,2022-12-08 18:58:06.794203\\n', 'Corretivo,Eletrodomésticos,31.3,84,Filial 1,2023-04-24 18:58:06.794203\\n', 'Base líquida,Eletrônicos,63.49,44,Filial 2,2022-11-18 18:58:06.794203\\n', 'Batom matte,Eletrodomésticos,62.98,91,Filial 2,2023-08-02 18:58:06.794203\\n', 'Lápis de sobrancelha,Roupas,15.29,54,Filial 2,2023-07-26 18:58:06.794203\\n', 'Base líquida,Eletrodomésticos,75.65,90,Filial 5,2023-08-07 18:58:06.794203\\n', 'Lápis de sobrancelha,Eletrônicos,54.14,91,Filial 8,2022-12-01 18:58:06.794203\\n', 'Blush em pó,Alimentos,47.9,64,Filial 10,2022-12-13 18:58:06.794203\\n', 'Batom líquido,Eletrodomésticos,63.79,20,Filial 5,2023-05-24 18:58:06.794203\\n', 'Batom líquido,Alimentos,33.87,71,Filial 2,2023-04-30 18:58:06.794203\\n', 'Delineador líquido,Alimentos,93.14,33,Filial 10,2023-03-23 18:58:06.794203\\n', 'Pó compacto,Roupas,83.54,95,Filial 9,2022-10-29 18:58:06.794203\\n', 'Máscara de cílios,Alimentos,4.25,45,Filial 6,2023-02-24 18:58:06.794203\\n', 'Delineador líquido,Roupas,89.16,77,Filial 4,2022-09-26 18:58:06.794203\\n', 'Batom líquido,Roupas,91.95,66,Filial 6,2023-05-07 18:58:06.794203\\n', 'Batom matte,Eletrodomésticos,43.87,49,Filial 4,2022-12-19 18:58:06.794203\\n', 'Batom líquido,Eletrodomésticos,94.1,79,Filial 4,2023-08-10 18:58:06.794203\\n', 'Blush em pó,Eletrodomésticos,38.33,65,Filial 6,2023-05-14 18:58:06.794203\\n', 'Delineador líquido,Alimentos,38.07,35,Filial 4,2023-05-09 18:58:06.794203\\n', 'Sombra de olhos,Eletrônicos,33.08,96,Filial 9,2023-04-10 18:58:06.794203\\n', 'Delineador líquido,Alimentos,46.05,50,Filial 3,2023-08-07 18:58:06.794203\\n', 'Corretivo,Roupas,31.66,90,Filial 4,2023-02-08 18:58:06.794203\\n', 'Delineador líquido,Alimentos,51.39,26,Filial 7,2022-12-25 18:58:06.794203\\n', 'Sombra de olhos,Roupas,4.27,10,Filial 7,2023-08-02 18:58:06.794203\\n', 'Delineador líquido,Alimentos,1.1,41,Filial 1,2023-04-26 18:58:06.794203\\n', 'Sombra de olhos,Eletrônicos,75.17,25,Filial 1,2022-09-05 18:58:06.794203\\n', 'Corretivo,Alimentos,61.16,17,Filial 2,2023-06-09 18:58:06.794203\\n', 'Corretivo,Alimentos,71.95,86,Filial 8,2023-02-05 18:58:06.794203\\n', 'Lápis de sobrancelha,Roupas,70.98,30,Filial 6,2023-07-30 18:58:06.794203\\n', 'Delineador líquido,Eletrodomésticos,81.92,45,Filial 6,2023-06-23 18:58:06.794203\\n', 'Máscara de cílios,Eletrônicos,64.94,16,Filial 2,2023-08-21 18:58:06.794203\\n', 'Pó compacto,Eletrônicos,96.63,85,Filial 6,2023-03-16 18:58:06.794203\\n', 'Sombra de olhos,Eletrodomésticos,90.78,5,Filial 2,2023-08-17 18:58:06.794203\\n', 'Corretivo,Eletrônicos,75.68,7,Filial 3,2023-03-01 18:58:06.794203\\n', 'Lápis de sobrancelha,Roupas,23.49,95,Filial 7,2023-04-07 18:58:06.794203\\n', 'Corretivo,Eletrodomésticos,68.12,64,Filial 3,2023-01-19 18:58:06.794203\\n', 'Lápis de sobrancelha,Alimentos,63.78,18,Filial 5,2023-06-26 18:58:06.794203\\n', 'Delineador líquido,Roupas,20.74,17,Filial 7,2022-12-23 18:58:06.794203\\n', 'Delineador líquido,Eletrônicos,62.72,75,Filial 2,2023-01-14 18:58:06.794203\\n', 'Lápis de sobrancelha,Alimentos,34.47,81,Filial 8,2023-01-24 18:58:06.794203\\n', 'Corretivo,Eletrônicos,18.34,63,Filial 5,2023-08-13 18:58:06.794203\\n', 'Sombra de olhos,Eletrodomésticos,83.76,36,Filial 4,2022-11-11 18:58:06.794203\\n', 'Batom matte,Roupas,93.95,79,Filial 1,2023-07-26 18:58:06.794203\\n', 'Sombra de olhos,Alimentos,19.39,46,Filial 7,2022-12-22 18:58:06.794203\\n', 'Delineador líquido,Eletrônicos,84.22,41,Filial 10,2023-06-11 18:58:06.794203\\n', 'Corretivo,Roupas,66.5,17,Filial 3,2022-10-26 18:58:06.794203\\n', 'Base líquida,Alimentos,47.63,100,Filial 5,2023-01-25 18:58:06.794203\\n', 'Sombra de olhos,Roupas,6.65,83,Filial 10,2023-01-11 18:58:06.794203\\n', 'Base líquida,Roupas,87.09,89,Filial 7,2023-03-26 18:58:06.794203\\n', 'Pó compacto,Eletrodomésticos,37.46,44,Filial 2,2023-02-25 18:58:06.794203\\n', 'Blush em pó,Roupas,59.93,40,Filial 5,2023-06-20 18:58:06.794203\\n', 'Máscara de cílios,Roupas,40.98,90,Filial 7,2023-02-22 18:58:06.794203\\n', 'Blush em pó,Alimentos,71.59,14,Filial 8,2023-01-05 18:58:06.794203\\n', 'Pó compacto,Eletrônicos,97.19,99,Filial 6,2023-06-06 18:58:06.794203\\n', 'Corretivo,Eletrodomésticos,51.33,87,Filial 3,2023-02-24 18:58:06.794203\\n', 'Lápis de sobrancelha,Roupas,57.41,98,Filial 3,2023-04-30 18:58:06.794203\\n', 'Máscara de cílios,Eletrônicos,49.93,96,Filial 9,2023-01-16 18:58:06.794203\\n', 'Corretivo,Roupas,3.99,53,Filial 5,2023-04-18 18:58:06.794203\\n', 'Máscara de cílios,Alimentos,31.1,92,Filial 5,2022-10-25 18:58:06.794203\\n', 'Corretivo,Eletrodomésticos,75.86,31,Filial 8,2023-08-09 18:58:06.794203\\n', 'Base líquida,Eletrônicos,17.35,48,Filial 1,2023-01-26 18:58:06.794203\\n', 'Batom líquido,Roupas,89.32,91,Filial 7,2023-07-06 18:58:06.794203\\n', 'Blush em pó,Alimentos,87.78,10,Filial 2,2022-09-14 18:58:06.794203\\n', 'Delineador líquido,Roupas,78.55,41,Filial 9,2022-11-15 18:58:06.794203\\n', 'Batom matte,Roupas,61.94,71,Filial 8,2023-02-02 18:58:06.794203\\n', 'Base líquida,Alimentos,52.83,79,Filial 10,2023-01-06 18:58:06.794203\\n', 'Sombra de olhos,Alimentos,79.92,16,Filial 4,2023-01-23 18:58:06.794203\\n', 'Sombra de olhos,Eletrodomésticos,87.65,94,Filial 6,2023-09-03 18:58:06.794203\\n', 'Base líquida,Eletrodomésticos,44.44,24,Filial 1,2023-08-18 18:58:06.794203\\n', 'Máscara de cílios,Eletrodomésticos,28.81,30,Filial 10,2023-08-11 18:58:06.794203\\n', 'Corretivo,Eletrônicos,78.09,49,Filial 4,2022-09-17 18:58:06.794203\\n', 'Delineador líquido,Roupas,15.52,94,Filial 1,2023-04-12 18:58:06.794203\\n', 'Pó compacto,Eletrodomésticos,16.37,64,Filial 10,2022-10-08 18:58:06.794203\\n', 'Lápis de sobrancelha,Eletrodomésticos,49.12,46,Filial 7,2022-10-24 18:58:06.794203\\n', 'Sombra de olhos,Eletrodomésticos,57.61,26,Filial 9,2022-09-16 18:58:06.794203\\n', 'Delineador líquido,Alimentos,39.97,2,Filial 6,2023-05-24 18:58:06.794203\\n', 'Corretivo,Eletrodomésticos,31.46,47,Filial 5,2023-05-25 18:58:06.794203\\n', 'Corretivo,Roupas,79.66,36,Filial 5,2022-09-26 18:58:06.794203\\n', 'Máscara de cílios,Eletrônicos,22.24,72,Filial 3,2023-03-17 18:58:06.794203\\n', 'Delineador líquido,Alimentos,51.11,42,Filial 6,2022-09-11 18:58:06.794203\\n', 'Batom líquido,Eletrônicos,32.45,77,Filial 1,2022-11-11 18:58:06.794203\\n', 'Sombra de olhos,Eletrodomésticos,63.07,55,Filial 3,2023-03-30 18:58:06.794203\\n', 'Corretivo,Eletrodomésticos,45.15,51,Filial 1,2022-10-14 18:58:06.794203\\n', 'Lápis de sobrancelha,Alimentos,86.19,44,Filial 2,2023-05-13 18:58:06.794203\\n', 'Lápis de sobrancelha,Alimentos,58.33,40,Filial 3,2022-10-07 18:58:06.794203\\n', 'Sombra de olhos,Alimentos,66.11,42,Filial 8,2023-04-21 18:58:06.794203\\n', 'Blush em pó,Alimentos,53.36,63,Filial 1,2022-11-22 18:58:06.794203\\n', 'Corretivo,Eletrodomésticos,2.79,94,Filial 8,2023-02-18 18:58:06.794203\\n', 'Pó compacto,Alimentos,28.01,7,Filial 7,2023-08-29 18:58:06.794203\\n', 'Blush em pó,Eletrodomésticos,74.51,97,Filial 3,2022-09-27 18:58:06.794203\\n', 'Delineador líquido,Eletrodomésticos,54.33,17,Filial 10,2023-01-30 18:58:06.794203\\n', 'Corretivo,Roupas,69.08,41,Filial 7,2023-07-13 18:58:06.794203\\n', 'Corretivo,Eletrodomésticos,73.43,73,Filial 1,2023-07-16 18:58:06.794203\\n', 'Pó compacto,Eletrodomésticos,61.27,44,Filial 2,2022-12-13 18:58:06.794203\\n', 'Corretivo,Eletrônicos,86.61,93,Filial 7,2022-12-17 18:58:06.794203\\n', 'Máscara de cílios,Eletrodomésticos,2.01,95,Filial 6,2022-10-28 18:58:06.794203\\n', 'Blush em pó,Alimentos,90.97,31,Filial 8,2023-08-17 18:58:06.794203\\n', 'Sombra de olhos,Alimentos,22.93,87,Filial 9,2023-02-22 18:58:06.794203\\n', 'Delineador líquido,Roupas,85.51,58,Filial 4,2023-03-19 18:58:06.794203\\n', 'Pó compacto,Eletrodomésticos,54.44,53,Filial 9,2022-09-23 18:58:06.794203\\n', 'Máscara de cílios,Eletrônicos,64.94,25,Filial 1,2023-05-23 18:58:06.794203\\n', 'Sombra de olhos,Alimentos,98.86,21,Filial 1,2023-06-08 18:58:06.794203\\n', 'Batom líquido,Eletrodomésticos,68.02,87,Filial 2,2022-11-11 18:58:06.794203\\n', 'Batom matte,Eletrônicos,23.15,12,Filial 6,2023-01-04 18:58:06.794203\\n', 'Corretivo,Roupas,73.2,26,Filial 8,2023-04-23 18:58:06.794203\\n', 'Lápis de sobrancelha,Roupas,19.79,70,Filial 5,2023-05-21 18:58:06.794203\\n', 'Delineador líquido,Eletrodomésticos,2.08,89,Filial 5,2023-06-22 18:58:06.794203\\n', 'Corretivo,Roupas,81.19,80,Filial 5,2023-02-21 18:58:06.794203\\n', 'Pó compacto,Eletrodomésticos,36.48,3,Filial 1,2023-08-18 18:58:06.794203\\n', 'Pó compacto,Roupas,9.92,59,Filial 10,2023-02-20 18:58:06.794203\\n', 'Pó compacto,Roupas,86.1,60,Filial 9,2023-08-27 18:58:06.794203\\n', 'Batom líquido,Eletrodomésticos,71.77,88,Filial 10,2023-03-14 18:58:06.794203\\n', 'Pó compacto,Eletrônicos,92.18,90,Filial 7,2022-12-06 18:58:06.794203\\n', 'Máscara de cílios,Eletrodomésticos,76.8,69,Filial 2,2022-09-22 18:58:06.794203\\n', 'Blush em pó,Roupas,6.89,73,Filial 1,2023-02-03 18:58:06.794203\\n', 'Corretivo,Eletrônicos,46.76,16,Filial 7,2023-02-09 18:58:06.794203\\n', 'Base líquida,Eletrodomésticos,14.43,42,Filial 10,2023-03-05 18:58:06.794203\\n', 'Máscara de cílios,Roupas,16.04,6,Filial 6,2022-09-25 18:58:06.794203\\n', 'Lápis de sobrancelha,Roupas,4.73,81,Filial 2,2023-02-16 18:58:06.794203\\n', 'Máscara de cílios,Eletrônicos,16.46,79,Filial 6,2023-03-29 18:58:06.794203\\n', 'Máscara de cílios,Roupas,50.1,23,Filial 1,2022-12-01 18:58:06.794203\\n', 'Lápis de sobrancelha,Alimentos,95.39,25,Filial 1,2023-01-16 18:58:06.794203\\n', 'Lápis de sobrancelha,Roupas,20.31,88,Filial 2,2023-03-24 18:58:06.794203\\n', 'Batom líquido,Alimentos,56.91,84,Filial 2,2022-09-19 18:58:06.794203\\n', 'Corretivo,Eletrônicos,46.1,59,Filial 8,2023-06-17 18:58:06.794203\\n', 'Blush em pó,Roupas,36.1,98,Filial 3,2023-06-16 18:58:06.794203\\n', 'Delineador líquido,Eletrônicos,65.98,10,Filial 10,2023-08-28 18:58:06.794203\\n', 'Pó compacto,Roupas,41.78,53,Filial 1,2023-03-02 18:58:06.794203\\n', 'Corretivo,Alimentos,61.42,9,Filial 9,2023-08-11 18:58:06.794203\\n', 'Máscara de cílios,Eletrodomésticos,94.96,100,Filial 1,2023-03-18 18:58:06.794203\\n', 'Lápis de sobrancelha,Alimentos,50.23,44,Filial 9,2022-10-12 18:58:06.794203\\n', 'Batom matte,Roupas,2.55,78,Filial 10,2022-12-14 18:58:06.794203\\n', 'Blush em pó,Eletrodomésticos,51.46,46,Filial 2,2023-06-27 18:58:06.794203\\n', 'Máscara de cílios,Eletrônicos,35.45,41,Filial 8,2022-09-28 18:58:06.794203\\n', 'Blush em pó,Alimentos,67.79,12,Filial 2,2023-03-10 18:58:06.794203\\n', 'Máscara de cílios,Eletrodomésticos,67.37,62,Filial 2,2023-01-05 18:58:06.794203\\n', 'Pó compacto,Eletrodomésticos,24.99,32,Filial 3,2023-03-27 18:58:06.794203\\n', 'Corretivo,Roupas,12.45,96,Filial 2,2022-10-24 18:58:06.794203\\n', 'Delineador líquido,Eletrônicos,11.64,93,Filial 1,2023-09-01 18:58:06.794203\\n', 'Lápis de sobrancelha,Alimentos,68.05,30,Filial 8,2023-06-10 18:58:06.794203\\n', 'Blush em pó,Roupas,24.45,46,Filial 10,2023-03-23 18:58:06.794203\\n', 'Delineador líquido,Alimentos,77.5,65,Filial 9,2022-11-29 18:58:06.794203\\n', 'Base líquida,Eletrônicos,46.5,8,Filial 8,2023-05-17 18:58:06.794203\\n', 'Máscara de cílios,Eletrodomésticos,63.24,88,Filial 7,2023-04-04 18:58:06.794203\\n', 'Batom matte,Alimentos,77.11,2,Filial 4,2022-11-12 18:58:06.794203\\n', 'Delineador líquido,Alimentos,45.46,77,Filial 10,2022-11-07 18:58:06.794203\\n', 'Blush em pó,Roupas,88.83,53,Filial 2,2023-04-16 18:58:06.794203\\n', 'Batom matte,Eletrodomésticos,12.6,31,Filial 4,2022-10-19 18:58:06.794203\\n', 'Pó compacto,Eletrodomésticos,8.71,82,Filial 9,2023-02-01 18:58:06.794203\\n', 'Sombra de olhos,Alimentos,48.64,54,Filial 6,2022-09-26 18:58:06.794203\\n', 'Lápis de sobrancelha,Alimentos,40.79,2,Filial 4,2022-11-13 18:58:06.794203\\n', 'Delineador líquido,Eletrônicos,10.01,61,Filial 6,2022-10-10 18:58:06.794203\\n', 'Base líquida,Eletrônicos,5.63,24,Filial 9,2022-10-11 18:58:06.794203\\n', 'Base líquida,Eletrodomésticos,52.34,74,Filial 5,2022-11-23 18:58:06.794203\\n', 'Blush em pó,Eletrodomésticos,88.0,55,Filial 7,2023-05-24 18:58:06.794203\\n', 'Pó compacto,Eletrodomésticos,69.87,60,Filial 8,2022-10-22 18:58:06.794203\\n', 'Pó compacto,Roupas,90.62,7,Filial 8,2023-07-18 18:58:06.794203\\n', 'Máscara de cílios,Eletrônicos,35.6,37,Filial 9,2023-04-16 18:58:06.794203\\n', 'Batom matte,Roupas,15.12,21,Filial 2,2022-10-09 18:58:06.794203\\n', 'Blush em pó,Roupas,48.77,37,Filial 1,2023-06-08 18:58:06.794203\\n', 'Batom matte,Eletrodomésticos,40.46,94,Filial 8,2023-05-09 18:58:06.794203\\n', 'Pó compacto,Eletrodomésticos,51.35,22,Filial 1,2023-06-10 18:58:06.794203\\n', 'Lápis de sobrancelha,Alimentos,86.43,66,Filial 8,2023-03-15 18:58:06.794203\\n', 'Pó compacto,Eletrônicos,11.05,65,Filial 2,2022-11-21 18:58:06.794203\\n', 'Máscara de cílios,Roupas,54.19,71,Filial 8,2023-03-23 18:58:06.794203\\n', 'Sombra de olhos,Eletrônicos,61.75,19,Filial 5,2022-11-03 18:58:06.794203\\n', 'Corretivo,Alimentos,20.25,63,Filial 4,2023-01-01 18:58:06.794203\\n', 'Lápis de sobrancelha,Eletrodomésticos,21.43,2,Filial 9,2022-09-19 18:58:06.794203\\n', 'Máscara de cílios,Eletrodomésticos,1.37,65,Filial 6,2023-02-06 18:58:06.794203\\n', 'Pó compacto,Eletrodomésticos,80.89,12,Filial 8,2022-11-08 18:58:06.794203\\n', 'Corretivo,Alimentos,47.4,29,Filial 5,2023-03-15 18:58:06.794203\\n', 'Blush em pó,Alimentos,13.95,19,Filial 3,2023-04-26 18:58:06.794203\\n', 'Blush em pó,Eletrodomésticos,13.56,41,Filial 4,2023-08-03 18:58:06.794203\\n', 'Pó compacto,Eletrônicos,88.98,50,Filial 5,2023-06-30 18:58:06.794203\\n', 'Sombra de olhos,Eletrônicos,60.1,94,Filial 7,2023-06-24 18:58:06.794203\\n', 'Blush em pó,Alimentos,24.08,22,Filial 10,2023-03-04 18:58:06.794203\\n', 'Batom matte,Eletrônicos,74.22,91,Filial 8,2023-02-23 18:58:06.794203\\n', 'Sombra de olhos,Alimentos,36.59,89,Filial 6,2023-08-07 18:58:06.794203\\n', 'Pó compacto,Roupas,23.62,95,Filial 10,2023-08-25 18:58:06.794203\\n', 'Máscara de cílios,Eletrodomésticos,39.3,47,Filial 9,2023-08-21 18:58:06.794203\\n', 'Blush em pó,Eletrodomésticos,95.99,1,Filial 10,2023-07-01 18:58:06.794203\\n', 'Lápis de sobrancelha,Eletrônicos,10.15,56,Filial 1,2023-07-29 18:58:06.794203\\n', 'Corretivo,Roupas,30.49,70,Filial 9,2023-01-06 18:58:06.794203\\n', 'Pó compacto,Eletrônicos,73.86,67,Filial 8,2022-11-06 18:58:06.794203\\n', 'Batom líquido,Roupas,99.98,55,Filial 3,2023-01-05 18:58:06.794203\\n', 'Sombra de olhos,Eletrônicos,93.01,89,Filial 2,2023-01-12 18:58:06.794203\\n', 'Blush em pó,Eletrônicos,28.66,15,Filial 3,2023-05-31 18:58:06.794203\\n', 'Sombra de olhos,Roupas,82.34,84,Filial 2,2023-06-17 18:58:06.794203\\n', 'Batom matte,Roupas,32.73,17,Filial 3,2022-10-12 18:58:06.794203\\n', 'Máscara de cílios,Alimentos,19.02,11,Filial 4,2023-06-06 18:58:06.794203\\n', 'Blush em pó,Eletrônicos,40.96,35,Filial 3,2023-07-01 18:58:06.794203\\n', 'Corretivo,Eletrônicos,93.15,14,Filial 2,2022-10-24 18:58:06.794203\\n', 'Delineador líquido,Eletrônicos,49.45,100,Filial 4,2023-07-12 18:58:06.794203\\n', 'Sombra de olhos,Eletrônicos,7.58,6,Filial 10,2023-06-02 18:58:06.794203\\n', 'Blush em pó,Eletrodomésticos,95.55,70,Filial 7,2023-02-19 18:58:06.794203\\n', 'Blush em pó,Alimentos,70.3,43,Filial 9,2022-10-18 18:58:06.794203\\n', 'Sombra de olhos,Eletrônicos,38.95,83,Filial 4,2023-04-03 18:58:06.794203\\n', 'Lápis de sobrancelha,Alimentos,98.95,84,Filial 10,2023-02-26 18:58:06.794203\\n', 'Blush em pó,Roupas,53.66,65,Filial 4,2023-03-10 18:58:06.794203\\n', 'Batom matte,Roupas,33.25,21,Filial 2,2023-06-27 18:58:06.794203\\n', 'Delineador líquido,Eletrodomésticos,41.68,28,Filial 1,2023-05-16 18:58:06.794203\\n', 'Sombra de olhos,Roupas,93.5,15,Filial 4,2023-07-02 18:58:06.794203\\n', 'Sombra de olhos,Roupas,91.04,3,Filial 5,2023-05-18 18:58:06.794203\\n', 'Batom líquido,Roupas,30.91,90,Filial 4,2023-06-08 18:58:06.794203\\n', 'Batom líquido,Eletrônicos,74.59,71,Filial 8,2023-03-05 18:58:06.794203\\n', 'Batom matte,Eletrodomésticos,36.81,49,Filial 9,2023-03-08 18:58:06.794203\\n', 'Lápis de sobrancelha,Eletrodomésticos,22.21,72,Filial 10,2023-08-27 18:58:06.794203\\n', 'Lápis de sobrancelha,Alimentos,33.91,73,Filial 8,2023-04-19 18:58:06.794203\\n', 'Máscara de cílios,Roupas,38.98,86,Filial 1,2022-10-05 18:58:06.794203\\n', 'Base líquida,Eletrodomésticos,16.73,98,Filial 3,2023-06-07 18:58:06.794203\\n', 'Batom matte,Roupas,84.93,90,Filial 10,2023-03-08 18:58:06.794203\\n', 'Lápis de sobrancelha,Alimentos,94.6,45,Filial 1,2023-06-14 18:58:06.794203\\n', 'Corretivo,Roupas,86.62,50,Filial 3,2023-03-01 18:58:06.794203\\n', 'Base líquida,Alimentos,21.16,87,Filial 5,2023-05-09 18:58:06.794203\\n', 'Corretivo,Roupas,93.86,1,Filial 4,2023-06-12 18:58:06.794203\\n', 'Blush em pó,Eletrodomésticos,79.08,2,Filial 4,2023-05-05 18:58:06.794203\\n', 'Blush em pó,Roupas,4.95,33,Filial 3,2022-09-05 18:58:06.794203\\n', 'Blush em pó,Eletrodomésticos,5.59,77,Filial 2,2023-01-13 18:58:06.794203\\n', 'Base líquida,Roupas,84.94,39,Filial 8,2022-09-17 18:58:06.794203\\n', 'Batom líquido,Eletrônicos,39.67,17,Filial 8,2023-05-07 18:58:06.794203\\n', 'Base líquida,Eletrônicos,86.0,98,Filial 6,2023-02-13 18:58:06.794203\\n', 'Pó compacto,Roupas,94.3,87,Filial 2,2023-05-15 18:58:06.794203\\n', 'Pó compacto,Roupas,30.49,70,Filial 2,2023-05-14 18:58:06.794203\\n', 'Lápis de sobrancelha,Eletrônicos,65.81,3,Filial 1,2023-06-27 18:58:06.794203\\n', 'Pó compacto,Roupas,86.27,90,Filial 7,2023-03-26 18:58:06.794203\\n', 'Base líquida,Eletrodomésticos,12.06,5,Filial 3,2023-03-06 18:58:06.794203\\n', 'Sombra de olhos,Alimentos,99.85,15,Filial 5,2022-10-07 18:58:06.794203\\n', 'Sombra de olhos,Eletrodomésticos,25.64,17,Filial 4,2023-01-23 18:58:06.794203\\n', 'Delineador líquido,Eletrônicos,61.9,15,Filial 2,2023-09-01 18:58:06.794203\\n', 'Base líquida,Roupas,73.35,54,Filial 10,2023-02-12 18:58:06.794203\\n', 'Blush em pó,Roupas,44.87,4,Filial 4,2022-11-07 18:58:06.794203\\n', 'Máscara de cílios,Eletrodomésticos,37.23,29,Filial 4,2022-10-26 18:58:06.794203\\n', 'Máscara de cílios,Roupas,92.11,9,Filial 6,2022-12-11 18:58:06.794203\\n', 'Máscara de cílios,Alimentos,67.63,82,Filial 7,2023-07-18 18:58:06.794203\\n', 'Blush em pó,Alimentos,3.8,13,Filial 3,2023-06-13 18:58:06.794203\\n', 'Máscara de cílios,Eletrodomésticos,72.71,59,Filial 8,2022-09-07 18:58:06.794203\\n', 'Batom líquido,Eletrônicos,10.03,36,Filial 2,2022-10-03 18:58:06.794203\\n', 'Lápis de sobrancelha,Eletrônicos,26.59,23,Filial 5,2023-05-24 18:58:06.794203\\n', 'Batom matte,Eletrônicos,27.41,99,Filial 3,2022-10-15 18:58:06.794203\\n', 'Pó compacto,Eletrodomésticos,95.41,29,Filial 10,2022-12-04 18:58:06.794203\\n', 'Lápis de sobrancelha,Alimentos,19.67,86,Filial 3,2023-01-28 18:58:06.794203\\n', 'Base líquida,Eletrodomésticos,6.82,66,Filial 6,2022-10-18 18:58:06.794203\\n', 'Batom líquido,Eletrodomésticos,65.67,36,Filial 10,2022-10-14 18:58:06.794203\\n', 'Máscara de cílios,Roupas,3.01,24,Filial 6,2023-09-01 18:58:06.794203\\n', 'Batom líquido,Eletrônicos,71.94,67,Filial 7,2023-06-13 18:58:06.794203\\n', 'Pó compacto,Eletrodomésticos,75.16,6,Filial 2,2023-06-21 18:58:06.794203\\n', 'Batom matte,Eletrodomésticos,23.62,92,Filial 4,2023-05-09 18:58:06.794203\\n', 'Base líquida,Roupas,78.79,53,Filial 10,2023-04-23 18:58:06.794203\\n', 'Blush em pó,Eletrônicos,46.37,68,Filial 1,2023-02-04 18:58:06.794203\\n', 'Blush em pó,Eletrodomésticos,88.9,57,Filial 3,2023-05-23 18:58:06.794203\\n', 'Lápis de sobrancelha,Alimentos,56.44,75,Filial 7,2023-03-28 18:58:06.794203\\n', 'Lápis de sobrancelha,Alimentos,32.74,15,Filial 9,2023-01-17 18:58:06.794203\\n', 'Blush em pó,Roupas,39.23,71,Filial 7,2022-11-19 18:58:06.794203\\n', 'Batom matte,Roupas,91.44,75,Filial 6,2023-05-14 18:58:06.794203\\n', 'Sombra de olhos,Eletrônicos,88.47,29,Filial 4,2023-04-16 18:58:06.794203\\n', 'Pó compacto,Eletrodomésticos,53.05,70,Filial 4,2023-01-23 18:58:06.794203\\n', 'Delineador líquido,Eletrodomésticos,20.39,28,Filial 3,2023-07-02 18:58:06.794203\\n', 'Sombra de olhos,Eletrodomésticos,66.35,83,Filial 7,2022-09-07 18:58:06.794203\\n', 'Máscara de cílios,Roupas,7.27,44,Filial 7,2022-11-23 18:58:06.794203\\n', 'Sombra de olhos,Roupas,87.96,13,Filial 1,2023-02-22 18:58:06.794203\\n', 'Pó compacto,Eletrodomésticos,40.73,59,Filial 2,2023-01-25 18:58:06.794203\\n', 'Base líquida,Eletrodomésticos,70.46,93,Filial 7,2023-07-02 18:58:06.794203\\n', 'Lápis de sobrancelha,Eletrônicos,13.01,90,Filial 1,2023-04-25 18:58:06.794203\\n', 'Máscara de cílios,Eletrônicos,82.99,48,Filial 1,2023-03-28 18:58:06.794203\\n', 'Blush em pó,Eletrônicos,32.77,64,Filial 4,2022-11-08 18:58:06.794203\\n', 'Delineador líquido,Eletrodomésticos,33.39,12,Filial 8,2023-05-31 18:58:06.794203\\n', 'Base líquida,Alimentos,78.27,54,Filial 10,2022-12-05 18:58:06.794203\\n', 'Corretivo,Eletrônicos,93.9,13,Filial 5,2022-10-19 18:58:06.794203\\n', 'Lápis de sobrancelha,Roupas,98.44,95,Filial 2,2023-03-13 18:58:06.794203\\n', 'Pó compacto,Eletrônicos,71.35,32,Filial 2,2022-09-28 18:58:06.794203\\n', 'Blush em pó,Alimentos,79.72,58,Filial 10,2022-09-23 18:58:06.794203\\n', 'Batom líquido,Eletrodomésticos,22.24,79,Filial 1,2022-10-07 18:58:06.794203\\n', 'Sombra de olhos,Alimentos,65.35,71,Filial 10,2022-09-08 18:58:06.794203\\n', 'Batom matte,Alimentos,55.35,45,Filial 8,2023-02-23 18:58:06.794203\\n', 'Pó compacto,Alimentos,48.24,31,Filial 5,2023-08-08 18:58:06.794203\\n', 'Máscara de cílios,Alimentos,96.2,88,Filial 4,2022-10-28 18:58:06.794203\\n', 'Batom líquido,Eletrônicos,29.05,35,Filial 10,2022-10-29 18:58:06.794203\\n', 'Delineador líquido,Alimentos,67.05,22,Filial 10,2023-07-23 18:58:06.794203\\n', 'Sombra de olhos,Eletrodomésticos,13.4,40,Filial 6,2023-04-13 18:58:06.794203\\n', 'Máscara de cílios,Eletrônicos,18.36,19,Filial 7,2022-09-18 18:58:06.794203\\n', 'Batom matte,Alimentos,78.87,52,Filial 8,2023-08-19 18:58:06.794203\\n', 'Batom matte,Roupas,60.93,22,Filial 6,2023-08-01 18:58:06.794203\\n', 'Sombra de olhos,Eletrônicos,58.81,100,Filial 10,2023-03-29 18:58:06.794203\\n', 'Máscara de cílios,Roupas,90.44,4,Filial 10,2022-11-20 18:58:06.794203\\n', 'Pó compacto,Eletrônicos,61.01,40,Filial 2,2023-05-30 18:58:06.794203\\n', 'Corretivo,Eletrônicos,8.76,68,Filial 1,2023-01-05 18:58:06.794203\\n', 'Lápis de sobrancelha,Roupas,90.7,76,Filial 6,2022-12-13 18:58:06.794203\\n', 'Sombra de olhos,Eletrônicos,78.11,65,Filial 7,2022-09-19 18:58:06.794203\\n', 'Máscara de cílios,Alimentos,1.09,5,Filial 1,2022-12-04 18:58:06.794203\\n', 'Delineador líquido,Eletrodomésticos,17.27,85,Filial 4,2023-06-11 18:58:06.794203\\n', 'Delineador líquido,Eletrodomésticos,43.3,42,Filial 10,2023-08-26 18:58:06.794203\\n', 'Sombra de olhos,Eletrodomésticos,35.79,39,Filial 7,2022-11-08 18:58:06.794203\\n', 'Sombra de olhos,Eletrodomésticos,20.11,41,Filial 10,2022-12-10 18:58:06.794203\\n', 'Lápis de sobrancelha,Alimentos,99.11,41,Filial 10,2022-09-09 18:58:06.794203\\n', 'Base líquida,Roupas,48.68,22,Filial 5,2023-01-02 18:58:06.794203\\n', 'Blush em pó,Roupas,2.45,97,Filial 6,2023-08-24 18:58:06.794203\\n', 'Sombra de olhos,Eletrodomésticos,62.73,71,Filial 4,2022-10-08 18:58:06.794203\\n', 'Batom matte,Alimentos,36.5,71,Filial 8,2022-10-26 18:58:06.794203\\n', 'Lápis de sobrancelha,Eletrônicos,82.04,2,Filial 3,2023-07-08 18:58:06.794203\\n', 'Batom matte,Eletrodomésticos,35.4,59,Filial 10,2023-04-23 18:58:06.794203\\n', 'Batom líquido,Roupas,39.12,3,Filial 3,2023-01-15 18:58:06.794203\\n', 'Pó compacto,Eletrodomésticos,27.53,68,Filial 1,2022-12-07 18:58:06.794203\\n', 'Pó compacto,Eletrodomésticos,55.22,43,Filial 8,2022-12-06 18:58:06.794203\\n', 'Máscara de cílios,Roupas,6.25,5,Filial 8,2022-11-07 18:58:06.794203\\n', 'Sombra de olhos,Eletrodomésticos,84.65,19,Filial 1,2022-10-06 18:58:06.794203\\n', 'Sombra de olhos,Eletrodomésticos,79.76,49,Filial 4,2022-10-27 18:58:06.794203\\n', 'Máscara de cílios,Alimentos,49.64,69,Filial 2,2023-07-31 18:58:06.794203\\n', 'Batom matte,Roupas,4.66,22,Filial 2,2022-10-15 18:58:06.794203\\n', 'Base líquida,Roupas,14.63,66,Filial 9,2023-05-22 18:58:06.794203\\n', 'Delineador líquido,Eletrodomésticos,75.42,74,Filial 3,2023-01-24 18:58:06.794203\\n', 'Máscara de cílios,Eletrodomésticos,84.42,43,Filial 9,2023-04-11 18:58:06.794203\\n', 'Base líquida,Roupas,84.6,34,Filial 4,2022-09-20 18:58:06.794203\\n', 'Batom matte,Eletrônicos,29.1,32,Filial 3,2023-03-19 18:58:06.794203\\n', 'Pó compacto,Roupas,98.59,56,Filial 10,2023-06-26 18:58:06.794203\\n', 'Batom líquido,Eletrônicos,60.34,46,Filial 2,2023-06-11 18:58:06.794203\\n', 'Base líquida,Alimentos,92.43,18,Filial 1,2022-12-05 18:58:06.794203\\n', 'Blush em pó,Alimentos,27.47,77,Filial 3,2022-09-28 18:58:06.794203\\n', 'Blush em pó,Alimentos,17.53,48,Filial 9,2023-03-23 18:58:06.794203\\n', 'Lápis de sobrancelha,Alimentos,48.38,98,Filial 7,2023-03-22 18:58:06.794203\\n', 'Corretivo,Eletrodomésticos,75.09,54,Filial 7,2023-04-09 18:58:06.794203\\n', 'Pó compacto,Roupas,41.61,25,Filial 4,2023-05-17 18:58:06.794203\\n', 'Máscara de cílios,Eletrônicos,19.46,18,Filial 10,2022-09-10 18:58:06.794203\\n', 'Pó compacto,Eletrônicos,21.33,62,Filial 7,2023-08-04 18:58:06.794203\\n', 'Batom matte,Eletrodomésticos,85.08,50,Filial 4,2022-09-15 18:58:06.794203\\n', 'Máscara de cílios,Alimentos,17.94,25,Filial 1,2023-04-20 18:58:06.794203\\n', 'Corretivo,Eletrônicos,22.52,47,Filial 8,2022-09-20 18:58:06.794203\\n', 'Corretivo,Alimentos,39.31,75,Filial 9,2022-09-13 18:58:06.794203\\n', 'Corretivo,Eletrônicos,68.43,81,Filial 10,2022-11-20 18:58:06.794203\\n', 'Lápis de sobrancelha,Alimentos,94.4,96,Filial 9,2022-12-24 18:58:06.794203\\n', 'Lápis de sobrancelha,Eletrônicos,26.65,21,Filial 2,2023-04-30 18:58:06.794203\\n', 'Base líquida,Eletrônicos,14.78,84,Filial 1,2023-08-17 18:58:06.794203\\n', 'Pó compacto,Roupas,93.05,27,Filial 4,2023-06-07 18:58:06.794203\\n', 'Lápis de sobrancelha,Eletrônicos,92.77,59,Filial 4,2023-02-07 18:58:06.794203\\n', 'Lápis de sobrancelha,Alimentos,15.48,53,Filial 5,2023-05-05 18:58:06.794203\\n', 'Base líquida,Eletrônicos,57.78,84,Filial 1,2023-09-03 18:58:06.794203\\n', 'Delineador líquido,Eletrônicos,12.8,17,Filial 1,2023-07-17 18:58:06.794203\\n', 'Máscara de cílios,Roupas,6.69,56,Filial 2,2023-02-22 18:58:06.794203\\n', 'Blush em pó,Alimentos,77.77,17,Filial 8,2022-12-19 18:58:06.794203\\n', 'Corretivo,Eletrônicos,30.56,79,Filial 5,2023-02-03 18:58:06.794203\\n', 'Pó compacto,Alimentos,45.24,98,Filial 7,2023-05-04 18:58:06.794203\\n', 'Delineador líquido,Alimentos,49.28,53,Filial 5,2023-05-15 18:58:06.794203\\n', 'Lápis de sobrancelha,Eletrônicos,60.77,42,Filial 7,2023-06-06 18:58:06.794203\\n', 'Base líquida,Eletrodomésticos,29.93,24,Filial 5,2022-10-14 18:58:06.794203\\n', 'Batom líquido,Roupas,70.4,78,Filial 9,2023-06-15 18:58:06.794203\\n', 'Delineador líquido,Eletrônicos,62.3,9,Filial 3,2022-10-01 18:58:06.794203\\n', 'Delineador líquido,Eletrônicos,77.05,67,Filial 8,2022-10-21 18:58:06.794203\\n', 'Delineador líquido,Eletrônicos,97.09,61,Filial 8,2023-01-22 18:58:06.794203\\n', 'Base líquida,Eletrônicos,47.99,55,Filial 10,2023-03-29 18:58:06.794203\\n', 'Pó compacto,Roupas,11.85,58,Filial 10,2023-01-03 18:58:06.794203\\n', 'Delineador líquido,Roupas,96.45,6,Filial 4,2022-12-03 18:58:06.794203\\n', 'Base líquida,Eletrônicos,27.47,75,Filial 5,2023-02-14 18:58:06.794203\\n', 'Pó compacto,Eletrodomésticos,73.64,5,Filial 9,2023-02-10 18:58:06.794203\\n', 'Base líquida,Eletrodomésticos,74.78,2,Filial 8,2023-02-07 18:58:06.794203\\n', 'Batom matte,Alimentos,66.8,68,Filial 5,2022-12-04 18:58:06.794203\\n', 'Sombra de olhos,Alimentos,76.96,58,Filial 4,2023-03-20 18:58:06.794203\\n', 'Batom líquido,Alimentos,85.26,48,Filial 3,2022-09-19 18:58:06.794203\\n', 'Delineador líquido,Eletrônicos,66.89,56,Filial 9,2022-10-19 18:58:06.794203\\n', 'Blush em pó,Eletrônicos,8.48,74,Filial 7,2023-01-29 18:58:06.794203\\n', 'Blush em pó,Roupas,89.89,81,Filial 10,2023-05-28 18:58:06.794203\\n', 'Blush em pó,Eletrodomésticos,7.58,56,Filial 6,2023-04-01 18:58:06.794203\\n', 'Lápis de sobrancelha,Roupas,4.88,73,Filial 7,2022-10-05 18:58:06.794203\\n', 'Batom matte,Eletrodomésticos,31.38,64,Filial 9,2023-06-26 18:58:06.794203\\n', 'Lápis de sobrancelha,Eletrodomésticos,23.48,91,Filial 7,2023-01-31 18:58:06.794203\\n', 'Corretivo,Roupas,80.28,87,Filial 5,2022-11-08 18:58:06.794203\\n', 'Blush em pó,Roupas,59.96,56,Filial 2,2023-03-14 18:58:06.794203\\n', 'Corretivo,Eletrodomésticos,70.24,25,Filial 6,2023-07-12 18:58:06.794203\\n', 'Blush em pó,Eletrodomésticos,11.49,6,Filial 7,2022-12-05 18:58:06.794203\\n', 'Batom matte,Eletrônicos,72.79,80,Filial 2,2022-11-02 18:58:06.794203\\n', 'Máscara de cílios,Roupas,39.06,90,Filial 5,2023-04-29 18:58:06.794203\\n', 'Base líquida,Roupas,17.76,88,Filial 2,2022-09-07 18:58:06.794203\\n', 'Batom líquido,Eletrônicos,72.48,42,Filial 6,2023-07-15 18:58:06.794203\\n', 'Lápis de sobrancelha,Alimentos,3.73,1,Filial 9,2023-09-02 18:58:06.794203\\n', 'Corretivo,Roupas,48.73,44,Filial 1,2022-10-19 18:58:06.794203\\n', 'Blush em pó,Eletrodomésticos,75.63,18,Filial 5,2022-10-30 18:58:06.794203\\n', 'Blush em pó,Eletrônicos,5.76,44,Filial 1,2023-03-08 18:58:06.794203\\n', 'Batom matte,Roupas,29.51,55,Filial 6,2022-12-07 18:58:06.794203\\n', 'Delineador líquido,Eletrodomésticos,45.05,65,Filial 3,2022-12-18 18:58:06.794203\\n', 'Blush em pó,Alimentos,41.08,41,Filial 8,2023-03-07 18:58:06.794203\\n', 'Lápis de sobrancelha,Alimentos,62.35,61,Filial 2,2023-06-05 18:58:06.794203\\n', 'Batom líquido,Eletrônicos,60.65,83,Filial 10,2023-08-19 18:58:06.794203\\n', 'Corretivo,Alimentos,11.14,42,Filial 5,2022-11-23 18:58:06.794203\\n', 'Batom matte,Alimentos,87.86,56,Filial 6,2023-03-18 18:58:06.794203\\n', 'Batom líquido,Roupas,81.66,12,Filial 9,2022-09-12 18:58:06.794203\\n', 'Delineador líquido,Eletrodomésticos,24.42,1,Filial 3,2022-09-18 18:58:06.794203\\n', 'Sombra de olhos,Eletrônicos,83.03,82,Filial 3,2023-03-18 18:58:06.794203\\n', 'Batom matte,Roupas,74.61,90,Filial 9,2023-04-27 18:58:06.794203\\n', 'Batom líquido,Eletrodomésticos,12.08,55,Filial 9,2023-05-10 18:58:06.794203\\n', 'Máscara de cílios,Alimentos,3.17,3,Filial 1,2023-01-05 18:58:06.794203\\n', 'Sombra de olhos,Eletrônicos,16.73,15,Filial 1,2022-10-25 18:58:06.794203\\n', 'Máscara de cílios,Roupas,42.33,90,Filial 1,2022-09-12 18:58:06.794203\\n', 'Base líquida,Alimentos,59.65,63,Filial 6,2023-01-31 18:58:06.794203\\n', 'Sombra de olhos,Eletrônicos,18.26,16,Filial 5,2022-12-18 18:58:06.794203\\n', 'Batom matte,Alimentos,50.31,22,Filial 9,2023-05-08 18:58:06.794203\\n', 'Blush em pó,Eletrônicos,15.49,82,Filial 8,2022-12-06 18:58:06.794203\\n', 'Pó compacto,Eletrônicos,24.47,58,Filial 8,2023-07-01 18:58:06.794203\\n', 'Blush em pó,Eletrodomésticos,95.48,73,Filial 9,2022-11-07 18:58:06.794203\\n', 'Máscara de cílios,Eletrônicos,31.22,16,Filial 4,2022-11-07 18:58:06.794203\\n', 'Batom matte,Roupas,83.94,85,Filial 5,2023-02-11 18:58:06.794203\\n', 'Lápis de sobrancelha,Eletrônicos,54.11,75,Filial 7,2022-12-11 18:58:06.794203\\n', 'Máscara de cílios,Eletrônicos,11.92,3,Filial 8,2022-10-09 18:58:06.794203\\n', 'Delineador líquido,Roupas,82.91,2,Filial 9,2023-03-03 18:58:06.794203\\n', 'Blush em pó,Eletrodomésticos,26.05,97,Filial 9,2023-02-10 18:58:06.794203\\n', 'Batom líquido,Alimentos,49.25,81,Filial 7,2023-08-22 18:58:06.794203\\n', 'Lápis de sobrancelha,Roupas,33.47,38,Filial 4,2023-07-06 18:58:06.794203\\n', 'Blush em pó,Eletrodomésticos,29.7,15,Filial 6,2023-06-17 18:58:06.794203\\n', 'Blush em pó,Roupas,72.11,33,Filial 3,2022-09-21 18:58:06.794203\\n', 'Batom líquido,Eletrônicos,99.47,56,Filial 1,2023-05-18 18:58:06.794203\\n', 'Blush em pó,Eletrônicos,49.38,12,Filial 9,2022-09-23 18:58:06.794203\\n', 'Blush em pó,Alimentos,41.22,66,Filial 5,2023-02-26 18:58:06.794203\\n', 'Delineador líquido,Alimentos,63.37,75,Filial 5,2023-08-16 18:58:06.794203\\n', 'Lápis de sobrancelha,Alimentos,86.9,96,Filial 9,2023-02-09 18:58:06.794203\\n', 'Sombra de olhos,Roupas,31.02,8,Filial 3,2022-10-30 18:58:06.794203\\n', 'Batom líquido,Eletrônicos,34.31,30,Filial 10,2023-02-12 18:58:06.794203\\n', 'Blush em pó,Alimentos,57.85,91,Filial 4,2023-02-26 18:58:06.794203\\n', 'Delineador líquido,Roupas,93.06,62,Filial 9,2022-09-26 18:58:06.794203\\n', 'Delineador líquido,Roupas,20.09,89,Filial 6,2023-01-05 18:58:06.794203\\n', 'Pó compacto,Roupas,51.48,85,Filial 1,2023-04-04 18:58:06.794203\\n', 'Lápis de sobrancelha,Eletrodomésticos,68.58,44,Filial 9,2023-01-12 18:58:06.794203\\n', 'Batom matte,Eletrônicos,98.55,63,Filial 2,2022-12-06 18:58:06.794203\\n', 'Sombra de olhos,Alimentos,79.41,89,Filial 10,2023-04-27 18:58:06.794203\\n', 'Pó compacto,Alimentos,96.43,96,Filial 5,2023-08-22 18:58:06.794203\\n', 'Pó compacto,Eletrodomésticos,17.3,87,Filial 3,2022-09-07 18:58:06.794203\\n', 'Pó compacto,Roupas,75.73,55,Filial 2,2023-05-28 18:58:06.794203\\n', 'Batom matte,Roupas,17.65,9,Filial 2,2023-08-12 18:58:06.794203\\n', 'Lápis de sobrancelha,Eletrodomésticos,86.62,47,Filial 4,2023-04-15 18:58:06.794203\\n', 'Corretivo,Eletrodomésticos,47.74,56,Filial 6,2023-06-11 18:58:06.794203\\n', 'Máscara de cílios,Roupas,76.57,66,Filial 10,2023-01-08 18:58:06.794203\\n', 'Máscara de cílios,Alimentos,96.89,18,Filial 10,2023-09-05 18:58:06.794203\\n', 'Batom matte,Roupas,9.22,45,Filial 6,2023-01-10 18:58:06.794203\\n', 'Lápis de sobrancelha,Eletrodomésticos,68.73,22,Filial 4,2023-02-14 18:58:06.794203\\n', 'Blush em pó,Eletrodomésticos,23.71,96,Filial 1,2022-10-22 18:58:06.794203\\n', 'Batom matte,Eletrônicos,85.96,72,Filial 6,2023-06-12 18:58:06.794203\\n', 'Máscara de cílios,Eletrônicos,87.49,66,Filial 3,2023-03-24 18:58:06.794203\\n', 'Batom matte,Eletrônicos,25.87,71,Filial 5,2023-03-16 18:58:06.794203\\n', 'Base líquida,Eletrônicos,47.3,22,Filial 8,2023-08-12 18:58:06.794203\\n', 'Sombra de olhos,Alimentos,44.1,85,Filial 9,2023-03-11 18:58:06.794203\\n', 'Máscara de cílios,Roupas,99.59,24,Filial 2,2022-11-15 18:58:06.794203\\n', 'Delineador líquido,Alimentos,2.71,73,Filial 3,2023-07-19 18:58:06.794203\\n', 'Lápis de sobrancelha,Eletrodomésticos,24.42,10,Filial 4,2022-09-23 18:58:06.794203\\n', 'Corretivo,Alimentos,95.37,36,Filial 1,2023-01-19 18:58:06.794203\\n', 'Sombra de olhos,Eletrodomésticos,85.94,63,Filial 6,2022-10-13 18:58:06.794203\\n', 'Máscara de cílios,Roupas,29.19,12,Filial 3,2022-09-08 18:58:06.794203\\n', 'Sombra de olhos,Eletrônicos,61.79,17,Filial 6,2022-10-03 18:58:06.794203\\n', 'Pó compacto,Eletrônicos,81.07,16,Filial 4,2023-07-02 18:58:06.794203\\n', 'Lápis de sobrancelha,Roupas,65.56,43,Filial 4,2023-04-12 18:58:06.794203\\n', 'Batom líquido,Eletrônicos,82.91,62,Filial 6,2022-10-03 18:58:06.794203\\n', 'Lápis de sobrancelha,Roupas,91.49,61,Filial 2,2023-02-27 18:58:06.794203\\n', 'Batom líquido,Alimentos,41.62,49,Filial 9,2022-11-02 18:58:06.794203\\n', 'Batom líquido,Alimentos,64.8,6,Filial 5,2023-02-01 18:58:06.794203\\n', 'Blush em pó,Alimentos,71.0,80,Filial 7,2023-01-26 18:58:06.794203\\n', 'Delineador líquido,Eletrônicos,50.61,51,Filial 2,2023-05-24 18:58:06.794203\\n', 'Base líquida,Roupas,32.13,95,Filial 3,2022-10-19 18:58:06.794203\\n', 'Blush em pó,Eletrodomésticos,25.53,39,Filial 4,2022-10-05 18:58:06.794203\\n', 'Pó compacto,Eletrônicos,59.98,97,Filial 4,2023-06-12 18:58:06.794203\\n', 'Delineador líquido,Alimentos,81.15,36,Filial 5,2023-03-24 18:58:06.794203\\n', 'Pó compacto,Eletrônicos,69.43,86,Filial 9,2023-01-30 18:58:06.794203\\n', 'Blush em pó,Roupas,87.66,82,Filial 7,2022-09-19 18:58:06.794203\\n', 'Máscara de cílios,Eletrônicos,87.65,90,Filial 10,2022-11-03 18:58:06.794203\\n', 'Corretivo,Eletrodomésticos,38.17,39,Filial 9,2023-05-12 18:58:06.794203\\n', 'Pó compacto,Alimentos,3.72,87,Filial 5,2023-01-23 18:58:06.794203\\n', 'Lápis de sobrancelha,Eletrodomésticos,82.92,91,Filial 8,2023-05-03 18:58:06.794203\\n', 'Delineador líquido,Eletrodomésticos,73.64,5,Filial 3,2022-10-18 18:58:06.794203\\n', 'Pó compacto,Eletrônicos,7.4,26,Filial 4,2022-11-06 18:58:06.794203\\n', 'Pó compacto,Roupas,6.72,76,Filial 2,2022-11-30 18:58:06.794203\\n', 'Sombra de olhos,Eletrônicos,62.62,81,Filial 9,2023-05-13 18:58:06.794203\\n', 'Delineador líquido,Eletrodomésticos,93.93,15,Filial 8,2023-04-03 18:58:06.794203\\n', 'Base líquida,Roupas,29.49,15,Filial 6,2023-07-10 18:58:06.794203\\n', 'Blush em pó,Eletrônicos,75.77,90,Filial 10,2023-05-29 18:58:06.794203\\n', 'Corretivo,Roupas,56.75,99,Filial 8,2023-05-16 18:58:06.794203\\n', 'Batom líquido,Eletrônicos,36.38,8,Filial 2,2023-05-25 18:58:06.794203\\n', 'Batom matte,Alimentos,42.44,28,Filial 4,2023-04-05 18:58:06.794203\\n', 'Sombra de olhos,Eletrodomésticos,77.27,86,Filial 4,2022-10-31 18:58:06.794203\\n', 'Pó compacto,Roupas,25.84,55,Filial 10,2023-02-13 18:58:06.794203\\n', 'Máscara de cílios,Eletrônicos,38.5,8,Filial 10,2022-12-31 18:58:06.794203\\n', 'Lápis de sobrancelha,Eletrônicos,3.61,58,Filial 1,2023-05-14 18:58:06.794203\\n', 'Delineador líquido,Alimentos,37.76,58,Filial 2,2023-02-22 18:58:06.794203\\n', 'Batom matte,Roupas,23.8,100,Filial 3,2023-08-24 18:58:06.794203\\n', 'Base líquida,Eletrodomésticos,47.89,47,Filial 6,2022-12-02 18:58:06.794203\\n', 'Batom matte,Eletrônicos,54.78,81,Filial 1,2023-03-10 18:58:06.794203\\n', 'Batom líquido,Alimentos,56.57,86,Filial 8,2023-04-29 18:58:06.794203\\n', 'Delineador líquido,Eletrodomésticos,87.52,15,Filial 6,2022-09-13 18:58:06.794203\\n', 'Base líquida,Alimentos,78.31,74,Filial 3,2023-01-19 18:58:06.794203\\n', 'Lápis de sobrancelha,Eletrônicos,80.9,17,Filial 7,2022-11-14 18:58:06.794203\\n', 'Batom líquido,Roupas,70.26,39,Filial 9,2023-02-26 18:58:06.794203\\n', 'Máscara de cílios,Eletrônicos,37.78,30,Filial 4,2022-11-01 18:58:06.794203\\n', 'Batom líquido,Roupas,75.55,85,Filial 5,2022-12-29 18:58:06.794203\\n', 'Lápis de sobrancelha,Alimentos,92.44,54,Filial 9,2022-12-06 18:58:06.794203\\n', 'Blush em pó,Eletrônicos,95.42,5,Filial 5,2022-09-29 18:58:06.794203\\n', 'Base líquida,Eletrodomésticos,38.15,50,Filial 7,2023-04-03 18:58:06.794203\\n', 'Máscara de cílios,Eletrodomésticos,81.3,32,Filial 6,2023-07-28 18:58:06.794203\\n', 'Corretivo,Eletrônicos,31.55,27,Filial 9,2022-11-10 18:58:06.794203\\n', 'Lápis de sobrancelha,Roupas,28.79,86,Filial 7,2023-07-18 18:58:06.794203\\n', 'Batom líquido,Alimentos,62.67,94,Filial 8,2023-05-04 18:58:06.794203\\n', 'Batom matte,Alimentos,51.89,21,Filial 5,2022-11-26 18:58:06.794203\\n', 'Pó compacto,Alimentos,26.49,5,Filial 4,2022-09-10 18:58:06.794203\\n', 'Delineador líquido,Alimentos,69.44,94,Filial 3,2023-08-08 18:58:06.794203\\n', 'Sombra de olhos,Alimentos,71.18,74,Filial 1,2023-02-15 18:58:06.794203\\n', 'Blush em pó,Roupas,50.03,75,Filial 7,2022-10-04 18:58:06.794203\\n', 'Sombra de olhos,Roupas,96.3,5,Filial 7,2023-05-08 18:58:06.794203\\n', 'Blush em pó,Eletrônicos,85.72,86,Filial 9,2022-11-30 18:58:06.794203\\n', 'Delineador líquido,Eletrônicos,84.57,59,Filial 2,2023-01-04 18:58:06.794203\\n', 'Corretivo,Alimentos,53.42,66,Filial 6,2022-12-18 18:58:06.794203\\n', 'Batom matte,Roupas,46.09,95,Filial 10,2022-12-07 18:58:06.794203\\n', 'Batom líquido,Roupas,38.79,46,Filial 2,2023-06-02 18:58:06.794203\\n', 'Corretivo,Alimentos,92.59,85,Filial 8,2022-09-08 18:58:06.794203\\n', 'Batom líquido,Eletrodomésticos,94.57,49,Filial 8,2023-05-09 18:58:06.794203\\n', 'Sombra de olhos,Eletrodomésticos,63.26,64,Filial 2,2023-01-15 18:58:06.794203\\n', 'Blush em pó,Eletrodomésticos,44.83,19,Filial 8,2022-12-08 18:58:06.794203\\n', 'Batom matte,Eletrodomésticos,25.26,56,Filial 5,2023-01-04 18:58:06.794203\\n', 'Batom líquido,Eletrônicos,11.28,7,Filial 4,2023-01-13 18:58:06.794203\\n', 'Batom matte,Eletrônicos,19.74,74,Filial 8,2022-12-08 18:58:06.794203\\n', 'Blush em pó,Eletrodomésticos,3.03,76,Filial 8,2022-09-24 18:58:06.794203\\n', 'Corretivo,Eletrônicos,85.48,95,Filial 10,2023-03-02 18:58:06.794203\\n', 'Batom líquido,Alimentos,11.21,46,Filial 7,2023-02-24 18:58:06.794203\\n', 'Batom matte,Alimentos,49.12,84,Filial 7,2022-10-24 18:58:06.794203\\n', 'Delineador líquido,Alimentos,55.63,84,Filial 8,2022-11-02 18:58:06.794203\\n', 'Batom matte,Eletrônicos,59.48,51,Filial 6,2023-05-27 18:58:06.794203\\n', 'Batom líquido,Alimentos,11.55,82,Filial 6,2023-02-14 18:58:06.794203\\n', 'Base líquida,Roupas,84.71,90,Filial 7,2023-02-28 18:58:06.794203\\n', 'Base líquida,Alimentos,4.2,96,Filial 2,2023-03-30 18:58:06.794203\\n', 'Lápis de sobrancelha,Alimentos,32.37,52,Filial 8,2023-02-16 18:58:06.794203\\n', 'Sombra de olhos,Alimentos,2.19,33,Filial 3,2023-02-20 18:58:06.794203\\n', 'Sombra de olhos,Eletrônicos,62.36,84,Filial 9,2022-11-01 18:58:06.794203\\n', 'Máscara de cílios,Eletrônicos,86.52,12,Filial 9,2023-04-10 18:58:06.794203\\n', 'Sombra de olhos,Alimentos,64.27,46,Filial 3,2022-12-16 18:58:06.794203\\n', 'Máscara de cílios,Eletrodomésticos,70.82,54,Filial 8,2022-11-23 18:58:06.794203\\n', 'Batom matte,Eletrodomésticos,88.51,81,Filial 6,2023-07-13 18:58:06.794203\\n', 'Batom líquido,Eletrodomésticos,92.64,37,Filial 8,2022-10-20 18:58:06.794203\\n', 'Batom líquido,Eletrônicos,95.31,11,Filial 9,2023-08-01 18:58:06.794203\\n', 'Batom matte,Alimentos,21.49,82,Filial 1,2023-04-20 18:58:06.794203\\n', 'Corretivo,Eletrodomésticos,6.23,56,Filial 10,2023-04-19 18:58:06.794203\\n', 'Base líquida,Roupas,55.0,1,Filial 7,2023-01-29 18:58:06.794203\\n', 'Corretivo,Roupas,95.68,83,Filial 9,2023-07-11 18:58:06.794203\\n', 'Base líquida,Eletrodomésticos,3.74,91,Filial 5,2022-09-22 18:58:06.794203\\n', 'Pó compacto,Eletrônicos,99.4,51,Filial 7,2023-02-03 18:58:06.794203\\n', 'Base líquida,Eletrônicos,36.87,100,Filial 10,2023-08-22 18:58:06.794203\\n', 'Blush em pó,Roupas,50.48,22,Filial 2,2022-10-31 18:58:06.794203\\n', 'Base líquida,Eletrônicos,64.88,4,Filial 7,2022-10-24 18:58:06.794203\\n', 'Pó compacto,Eletrodomésticos,5.53,25,Filial 10,2022-09-27 18:58:06.794203\\n', 'Base líquida,Alimentos,15.26,12,Filial 4,2023-05-03 18:58:06.794203\\n', 'Base líquida,Eletrodomésticos,21.53,51,Filial 2,2023-07-03 18:58:06.794203\\n', 'Pó compacto,Alimentos,52.16,70,Filial 10,2022-12-09 18:58:06.794203\\n', 'Pó compacto,Eletrodomésticos,88.52,3,Filial 6,2023-07-01 18:58:06.794203\\n', 'Lápis de sobrancelha,Alimentos,84.42,86,Filial 5,2023-06-12 18:58:06.794203\\n', 'Batom líquido,Eletrônicos,91.17,41,Filial 10,2023-09-04 18:58:06.794203\\n', 'Corretivo,Eletrodomésticos,38.64,91,Filial 1,2022-11-24 18:58:06.794203\\n', 'Delineador líquido,Roupas,40.08,38,Filial 4,2022-09-06 18:58:06.794203\\n', 'Blush em pó,Alimentos,53.62,95,Filial 4,2023-08-04 18:58:06.794203\\n', 'Máscara de cílios,Eletrodomésticos,72.2,66,Filial 9,2023-04-09 18:58:06.794203\\n', 'Delineador líquido,Eletrodomésticos,50.72,7,Filial 9,2022-09-13 18:58:06.794203\\n', 'Blush em pó,Roupas,37.44,24,Filial 5,2022-12-04 18:58:06.794203\\n', 'Lápis de sobrancelha,Roupas,38.85,73,Filial 5,2023-02-07 18:58:06.794203\\n', 'Batom líquido,Roupas,88.73,44,Filial 3,2023-05-01 18:58:06.794203\\n', 'Blush em pó,Eletrodomésticos,53.05,61,Filial 7,2023-04-18 18:58:06.794203\\n', 'Máscara de cílios,Roupas,7.6,17,Filial 7,2022-12-19 18:58:06.794203\\n', 'Batom matte,Alimentos,34.08,48,Filial 6,2023-06-14 18:58:06.794203\\n', 'Blush em pó,Roupas,81.75,52,Filial 2,2023-08-28 18:58:06.794203\\n', 'Sombra de olhos,Eletrodomésticos,19.07,40,Filial 8,2023-05-28 18:58:06.794203\\n', 'Batom matte,Eletrodomésticos,18.5,93,Filial 3,2023-07-24 18:58:06.794203\\n', 'Sombra de olhos,Eletrodomésticos,91.89,80,Filial 3,2023-03-22 18:58:06.794203\\n', 'Blush em pó,Alimentos,86.69,95,Filial 10,2023-05-20 18:58:06.794203\\n', 'Máscara de cílios,Eletrodomésticos,52.85,68,Filial 5,2022-10-06 18:58:06.794203\\n', 'Corretivo,Eletrodomésticos,31.32,62,Filial 3,2023-03-12 18:58:06.794203\\n', 'Lápis de sobrancelha,Alimentos,43.27,40,Filial 8,2023-05-25 18:58:06.794203\\n', 'Base líquida,Eletrodomésticos,69.27,11,Filial 10,2022-11-27 18:58:06.794203\\n', 'Blush em pó,Eletrônicos,23.75,63,Filial 1,2023-01-07 18:58:06.794203\\n', 'Delineador líquido,Alimentos,87.02,47,Filial 10,2023-02-28 18:58:06.794203\\n', 'Delineador líquido,Eletrônicos,44.2,46,Filial 3,2023-06-25 18:58:06.794203\\n', 'Sombra de olhos,Alimentos,4.98,74,Filial 5,2023-02-19 18:58:06.794203\\n', 'Base líquida,Eletrônicos,89.43,61,Filial 4,2023-08-28 18:58:06.794203\\n', 'Base líquida,Eletrodomésticos,50.41,81,Filial 8,2023-03-02 18:58:06.794203\\n', 'Base líquida,Alimentos,27.9,60,Filial 6,2023-06-03 18:58:06.794203\\n', 'Corretivo,Eletrodomésticos,30.33,91,Filial 6,2023-08-17 18:58:06.794203\\n', 'Delineador líquido,Roupas,31.95,36,Filial 7,2023-05-20 18:58:06.794203\\n', 'Delineador líquido,Eletrônicos,95.48,79,Filial 8,2023-07-14 18:58:06.794203\\n', 'Corretivo,Alimentos,35.5,43,Filial 7,2023-04-10 18:58:06.794203\\n', 'Pó compacto,Eletrodomésticos,63.7,86,Filial 2,2023-04-17 18:58:06.794203\\n', 'Batom matte,Eletrônicos,18.91,44,Filial 6,2023-03-15 18:58:06.794203\\n', 'Delineador líquido,Eletrodomésticos,77.49,25,Filial 4,2023-03-28 18:58:06.794203\\n', 'Delineador líquido,Alimentos,11.58,30,Filial 7,2023-03-31 18:58:06.794203\\n', 'Máscara de cílios,Roupas,29.0,59,Filial 2,2023-06-23 18:58:06.794203\\n', 'Pó compacto,Alimentos,66.37,11,Filial 4,2022-10-03 18:58:06.794203\\n', 'Máscara de cílios,Roupas,59.98,78,Filial 7,2023-04-28 18:58:06.794203\\n', 'Blush em pó,Eletrodomésticos,80.14,32,Filial 5,2023-02-11 18:58:06.794203\\n', 'Sombra de olhos,Alimentos,83.74,45,Filial 9,2022-10-25 18:58:06.794203\\n', 'Delineador líquido,Eletrodomésticos,67.36,51,Filial 9,2023-07-24 18:58:06.794203\\n', 'Sombra de olhos,Eletrônicos,88.95,35,Filial 3,2022-12-28 18:58:06.794203\\n', 'Batom matte,Alimentos,58.32,53,Filial 5,2023-03-01 18:58:06.794203\\n', 'Blush em pó,Eletrodomésticos,43.45,8,Filial 10,2023-04-06 18:58:06.794203\\n', 'Batom matte,Eletrônicos,49.77,68,Filial 3,2023-07-31 18:58:06.794203\\n', 'Blush em pó,Eletrônicos,3.72,63,Filial 3,2023-05-13 18:58:06.794203\\n', 'Base líquida,Eletrodomésticos,14.95,82,Filial 10,2022-09-20 18:58:06.794203\\n', 'Batom líquido,Roupas,11.71,89,Filial 7,2023-08-23 18:58:06.794203\\n', 'Lápis de sobrancelha,Eletrônicos,45.92,53,Filial 2,2022-11-16 18:58:06.794203\\n', 'Corretivo,Roupas,95.18,11,Filial 8,2023-01-06 18:58:06.794203\\n', 'Batom matte,Alimentos,4.85,82,Filial 1,2023-04-04 18:58:06.794203\\n', 'Delineador líquido,Eletrônicos,93.84,76,Filial 7,2023-07-19 18:58:06.794203\\n', 'Sombra de olhos,Eletrodomésticos,80.92,77,Filial 4,2023-06-08 18:58:06.794203\\n', 'Delineador líquido,Eletrodomésticos,46.65,55,Filial 10,2023-03-10 18:58:06.794203\\n', 'Lápis de sobrancelha,Alimentos,59.92,88,Filial 8,2022-09-16 18:58:06.794203\\n', 'Pó compacto,Alimentos,21.25,44,Filial 5,2023-01-08 18:58:06.794203\\n', 'Delineador líquido,Eletrodomésticos,8.46,23,Filial 5,2023-07-03 18:58:06.794203\\n', 'Pó compacto,Roupas,10.79,97,Filial 2,2023-04-15 18:58:06.794203\\n', 'Delineador líquido,Eletrônicos,77.48,24,Filial 4,2023-07-27 18:58:06.794203\\n', 'Máscara de cílios,Eletrônicos,28.31,85,Filial 3,2023-07-10 18:58:06.794203\\n', 'Pó compacto,Roupas,27.03,47,Filial 3,2022-12-13 18:58:06.794203\\n', 'Batom matte,Eletrônicos,75.77,2,Filial 7,2023-06-30 18:58:06.794203\\n', 'Sombra de olhos,Eletrônicos,23.06,53,Filial 10,2022-11-23 18:58:06.794203\\n', 'Batom matte,Alimentos,63.53,92,Filial 3,2023-01-04 18:58:06.794203\\n', 'Batom matte,Eletrodomésticos,75.45,5,Filial 4,2022-12-10 18:58:06.794203\\n', 'Delineador líquido,Roupas,29.74,83,Filial 6,2023-04-29 18:58:06.794203\\n', 'Corretivo,Alimentos,66.22,12,Filial 5,2023-03-07 18:58:06.794203\\n', 'Máscara de cílios,Eletrônicos,41.16,57,Filial 1,2023-05-20 18:58:06.794203\\n', 'Delineador líquido,Eletrônicos,3.96,11,Filial 10,2023-08-27 18:58:06.794203\\n', 'Lápis de sobrancelha,Alimentos,23.2,84,Filial 5,2023-04-11 18:58:06.794203\\n', 'Máscara de cílios,Eletrodomésticos,47.71,29,Filial 7,2023-07-23 18:58:06.794203\\n', 'Batom matte,Eletrodomésticos,82.86,30,Filial 9,2023-01-29 18:58:06.794203\\n', 'Pó compacto,Eletrodomésticos,34.58,99,Filial 9,2023-06-24 18:58:06.794203\\n', 'Batom matte,Alimentos,16.32,1,Filial 3,2023-08-17 18:58:06.794203\\n', 'Pó compacto,Eletrônicos,30.94,26,Filial 6,2023-01-17 18:58:06.794203\\n', 'Batom matte,Roupas,6.81,59,Filial 4,2023-04-01 18:58:06.794203\\n', 'Batom matte,Alimentos,66.38,79,Filial 6,2023-04-25 18:58:06.794203\\n', 'Lápis de sobrancelha,Eletrodomésticos,72.32,14,Filial 6,2022-11-08 18:58:06.794203\\n', 'Batom líquido,Eletrodomésticos,99.68,45,Filial 7,2022-11-11 18:58:06.794203\\n', 'Base líquida,Alimentos,44.94,6,Filial 2,2023-04-13 18:58:06.794203\\n', 'Batom líquido,Alimentos,82.88,86,Filial 5,2023-08-16 18:58:06.794203\\n', 'Pó compacto,Eletrônicos,33.33,16,Filial 5,2023-08-03 18:58:06.794203\\n', 'Delineador líquido,Eletrônicos,6.55,6,Filial 6,2023-07-10 18:58:06.794203\\n', 'Batom líquido,Roupas,11.39,31,Filial 7,2022-11-01 18:58:06.794203\\n', 'Sombra de olhos,Eletrônicos,36.49,35,Filial 1,2023-06-19 18:58:06.794203\\n', 'Batom líquido,Roupas,89.37,38,Filial 6,2023-04-13 18:58:06.794203\\n', 'Lápis de sobrancelha,Alimentos,13.47,75,Filial 2,2023-08-13 18:58:06.794203\\n', 'Corretivo,Alimentos,40.02,65,Filial 9,2023-07-14 18:58:06.794203\\n', 'Batom líquido,Eletrodomésticos,15.11,27,Filial 3,2023-06-09 18:58:06.794203\\n', 'Lápis de sobrancelha,Eletrônicos,87.84,99,Filial 4,2023-01-01 18:58:06.794203\\n', 'Sombra de olhos,Eletrodomésticos,80.68,100,Filial 4,2023-03-08 18:58:06.794203\\n', 'Blush em pó,Alimentos,37.02,91,Filial 1,2022-11-10 18:58:06.794203\\n', 'Pó compacto,Eletrônicos,29.8,23,Filial 6,2023-05-09 18:58:06.794203\\n', 'Corretivo,Alimentos,92.08,72,Filial 4,2023-02-24 18:58:06.794203\\n', 'Blush em pó,Roupas,33.05,71,Filial 6,2022-09-13 18:58:06.794203\\n', 'Máscara de cílios,Eletrodomésticos,92.17,18,Filial 1,2023-03-25 18:58:06.794203\\n', 'Pó compacto,Alimentos,47.13,32,Filial 7,2023-04-13 18:58:06.794203\\n', 'Lápis de sobrancelha,Eletrônicos,77.71,58,Filial 5,2023-02-27 18:58:06.794203\\n', 'Batom matte,Eletrônicos,85.66,67,Filial 3,2023-01-14 18:58:06.794203\\n', 'Máscara de cílios,Roupas,30.0,83,Filial 8,2023-07-26 18:58:06.794203\\n', 'Máscara de cílios,Eletrodomésticos,57.18,94,Filial 6,2023-01-04 18:58:06.794203\\n', 'Corretivo,Roupas,46.14,36,Filial 9,2023-07-07 18:58:06.794203\\n', 'Pó compacto,Roupas,94.89,3,Filial 2,2023-06-10 18:58:06.794203\\n', 'Batom matte,Alimentos,67.51,47,Filial 10,2022-10-17 18:58:06.794203\\n', 'Base líquida,Eletrônicos,65.67,13,Filial 4,2023-05-08 18:58:06.794203\\n', 'Batom matte,Roupas,31.73,86,Filial 5,2022-10-20 18:58:06.794203\\n', 'Máscara de cílios,Eletrônicos,94.35,59,Filial 7,2022-10-16 18:58:06.794203\\n', 'Delineador líquido,Eletrônicos,43.73,73,Filial 7,2022-09-09 18:58:06.794203\\n', 'Blush em pó,Roupas,63.5,28,Filial 7,2023-07-29 18:58:06.794203\\n', 'Batom líquido,Eletrônicos,44.96,3,Filial 9,2022-11-12 18:58:06.794203\\n', 'Blush em pó,Alimentos,34.94,80,Filial 1,2022-10-14 18:58:06.794203\\n', 'Batom líquido,Eletrônicos,52.18,40,Filial 5,2022-10-19 18:58:06.794203\\n', 'Máscara de cílios,Alimentos,31.61,59,Filial 3,2022-12-08 18:58:06.794203\\n', 'Batom matte,Eletrodomésticos,17.25,69,Filial 1,2023-02-04 18:58:06.794203\\n', 'Sombra de olhos,Eletrodomésticos,60.15,81,Filial 6,2023-05-24 18:58:06.794203\\n', 'Batom matte,Roupas,3.48,24,Filial 1,2023-02-14 18:58:06.794203\\n', 'Corretivo,Alimentos,55.1,17,Filial 7,2022-12-29 18:58:06.794203\\n', 'Base líquida,Eletrodomésticos,28.6,58,Filial 6,2023-01-30 18:58:06.794203\\n', 'Máscara de cílios,Eletrodomésticos,28.25,93,Filial 7,2023-04-19 18:58:06.794203\\n', 'Lápis de sobrancelha,Eletrodomésticos,9.53,43,Filial 8,2023-06-18 18:58:06.794203\\n', 'Batom líquido,Eletrônicos,23.71,90,Filial 10,2023-03-12 18:58:06.794203\\n', 'Batom líquido,Roupas,20.62,22,Filial 8,2022-12-30 18:58:06.794203\\n', 'Base líquida,Roupas,10.97,62,Filial 3,2023-06-18 18:58:06.794203\\n', 'Blush em pó,Eletrônicos,46.84,89,Filial 7,2022-09-13 18:58:06.794203\\n', 'Base líquida,Alimentos,33.96,24,Filial 9,2023-07-01 18:58:06.794203\\n', 'Batom matte,Eletrodomésticos,63.3,22,Filial 1,2023-08-07 18:58:06.794203\\n', 'Lápis de sobrancelha,Roupas,45.95,59,Filial 1,2023-08-25 18:58:06.794203\\n', 'Base líquida,Eletrônicos,71.21,8,Filial 4,2023-03-30 18:58:06.794203\\n', 'Base líquida,Eletrônicos,30.66,1,Filial 1,2023-02-08 18:58:06.794203\\n', 'Sombra de olhos,Roupas,90.05,42,Filial 9,2022-11-26 18:58:06.794203\\n', 'Máscara de cílios,Roupas,88.08,4,Filial 9,2023-08-23 18:58:06.794203\\n', 'Corretivo,Eletrônicos,38.48,29,Filial 9,2023-05-21 18:58:06.794203\\n', 'Base líquida,Eletrônicos,57.37,27,Filial 4,2023-04-19 18:58:06.794203\\n', 'Máscara de cílios,Alimentos,18.84,7,Filial 4,2023-07-21 18:58:06.794203\\n', 'Corretivo,Alimentos,95.89,28,Filial 5,2022-12-05 18:58:06.794203\\n', 'Corretivo,Eletrodomésticos,52.67,31,Filial 6,2023-07-08 18:58:06.794203\\n', 'Batom matte,Roupas,8.43,98,Filial 9,2023-01-31 18:58:06.794203\\n', 'Lápis de sobrancelha,Alimentos,83.01,99,Filial 4,2023-06-21 18:58:06.794203\\n', 'Delineador líquido,Eletrodomésticos,80.51,56,Filial 5,2022-11-07 18:58:06.794203\\n', 'Lápis de sobrancelha,Eletrônicos,90.76,35,Filial 4,2023-03-26 18:58:06.794203\\n', 'Delineador líquido,Alimentos,7.68,10,Filial 1,2023-05-07 18:58:06.794203\\n', 'Pó compacto,Eletrodomésticos,15.95,46,Filial 4,2023-01-03 18:58:06.794203\\n', 'Máscara de cílios,Eletrônicos,1.14,26,Filial 9,2022-09-19 18:58:06.794203\\n', 'Base líquida,Roupas,38.15,13,Filial 9,2023-01-02 18:58:06.794203\\n', 'Lápis de sobrancelha,Eletrodomésticos,61.38,6,Filial 5,2023-04-12 18:58:06.794203\\n', 'Blush em pó,Alimentos,53.73,77,Filial 9,2023-02-26 18:58:06.794203\\n', 'Batom matte,Alimentos,83.03,22,Filial 4,2023-04-10 18:58:06.794203\\n', 'Blush em pó,Alimentos,80.9,57,Filial 2,2023-02-25 18:58:06.794203\\n', 'Corretivo,Eletrodomésticos,84.55,95,Filial 7,2022-11-15 18:58:06.794203\\n', 'Batom líquido,Alimentos,94.41,63,Filial 8,2022-11-06 18:58:06.794203\\n', 'Máscara de cílios,Alimentos,33.08,83,Filial 1,2023-08-22 18:58:06.794203\\n', 'Delineador líquido,Alimentos,52.37,39,Filial 8,2023-01-06 18:58:06.794203\\n', 'Base líquida,Roupas,61.57,64,Filial 5,2023-08-25 18:58:06.794203\\n', 'Corretivo,Alimentos,91.95,82,Filial 2,2023-08-25 18:58:06.794203\\n', 'Base líquida,Eletrodomésticos,51.46,74,Filial 1,2023-04-08 18:58:06.794203\\n', 'Batom líquido,Alimentos,62.31,61,Filial 10,2022-12-30 18:58:06.794203\\n', 'Batom matte,Alimentos,79.0,55,Filial 1,2023-04-27 18:58:06.794203\\n', 'Batom líquido,Roupas,48.84,78,Filial 5,2022-12-28 18:58:06.794203\\n', 'Delineador líquido,Alimentos,35.21,29,Filial 2,2023-05-08 18:58:06.794203\\n', 'Base líquida,Alimentos,14.93,61,Filial 3,2023-01-13 18:58:06.794203\\n', 'Blush em pó,Alimentos,51.78,59,Filial 5,2022-11-10 18:58:06.794203\\n', 'Sombra de olhos,Eletrodomésticos,53.31,5,Filial 3,2023-06-11 18:58:06.794203\\n', 'Máscara de cílios,Alimentos,36.04,71,Filial 6,2023-06-01 18:58:06.794203\\n', 'Batom matte,Roupas,79.81,48,Filial 7,2022-12-23 18:58:06.794203\\n', 'Batom matte,Roupas,46.44,43,Filial 10,2023-07-06 18:58:06.794203\\n', 'Batom líquido,Alimentos,19.04,71,Filial 6,2023-08-20 18:58:06.794203\\n', 'Delineador líquido,Roupas,21.13,8,Filial 7,2022-09-12 18:58:06.794203\\n', 'Sombra de olhos,Roupas,74.45,58,Filial 3,2022-09-26 18:58:06.794203\\n', 'Delineador líquido,Eletrônicos,47.28,81,Filial 7,2022-12-25 18:58:06.794203\\n', 'Corretivo,Eletrônicos,97.55,80,Filial 8,2023-03-10 18:58:06.794203\\n', 'Pó compacto,Roupas,57.63,91,Filial 9,2023-07-31 18:58:06.794203\\n', 'Máscara de cílios,Eletrodomésticos,90.96,41,Filial 9,2023-04-04 18:58:06.794203\\n', 'Batom matte,Eletrônicos,23.11,94,Filial 9,2023-06-04 18:58:06.794203\\n', 'Corretivo,Eletrodomésticos,61.93,54,Filial 7,2023-01-17 18:58:06.794203\\n', 'Corretivo,Eletrodomésticos,91.75,14,Filial 3,2023-06-20 18:58:06.794203\\n', 'Lápis de sobrancelha,Eletrônicos,5.78,81,Filial 10,2023-03-06 18:58:06.794203\\n', 'Pó compacto,Eletrônicos,43.19,59,Filial 1,2023-02-09 18:58:06.794203\\n', 'Base líquida,Eletrônicos,56.12,40,Filial 9,2023-04-27 18:58:06.794203\\n', 'Sombra de olhos,Eletrônicos,11.85,81,Filial 9,2023-05-01 18:58:06.794203\\n', 'Delineador líquido,Eletrodomésticos,87.51,87,Filial 10,2023-06-28 18:58:06.794203\\n', 'Blush em pó,Alimentos,20.76,24,Filial 2,2022-10-27 18:58:06.794203\\n', 'Sombra de olhos,Roupas,16.97,49,Filial 8,2023-06-08 18:58:06.794203\\n', 'Corretivo,Eletrônicos,50.98,52,Filial 9,2022-09-13 18:58:06.794203\\n', 'Máscara de cílios,Eletrônicos,17.15,47,Filial 10,2023-09-05 18:58:06.794203\\n', 'Batom líquido,Alimentos,9.74,81,Filial 5,2023-07-02 18:58:06.794203\\n', 'Blush em pó,Roupas,26.85,59,Filial 8,2023-01-23 18:58:06.794203\\n', 'Delineador líquido,Alimentos,50.86,46,Filial 8,2023-08-23 18:58:06.794203\\n', 'Sombra de olhos,Eletrônicos,65.32,46,Filial 8,2023-02-23 18:58:06.794203\\n', 'Pó compacto,Roupas,74.64,1,Filial 6,2022-10-31 18:58:06.794203\\n', 'Batom líquido,Eletrônicos,52.92,25,Filial 4,2023-07-18 18:58:06.794203\\n', 'Blush em pó,Alimentos,74.34,57,Filial 1,2023-04-19 18:58:06.794203\\n', 'Pó compacto,Roupas,97.73,96,Filial 4,2023-01-19 18:58:06.794203\\n', 'Blush em pó,Roupas,71.76,20,Filial 7,2023-06-28 18:58:06.794203\\n', 'Delineador líquido,Alimentos,58.0,52,Filial 8,2023-05-31 18:58:06.794203\\n', 'Delineador líquido,Eletrônicos,73.78,62,Filial 10,2023-07-29 18:58:06.794203\\n', 'Corretivo,Eletrônicos,10.86,70,Filial 4,2023-06-11 18:58:06.794203\\n', 'Delineador líquido,Alimentos,51.84,90,Filial 7,2023-03-16 18:58:06.794203\\n', 'Pó compacto,Roupas,7.03,71,Filial 9,2023-03-25 18:58:06.794203\\n', 'Sombra de olhos,Roupas,99.93,18,Filial 8,2023-04-09 18:58:06.794203\\n', 'Blush em pó,Eletrodomésticos,2.6,72,Filial 1,2023-07-09 18:58:06.794203\\n', 'Corretivo,Eletrônicos,60.19,50,Filial 3,2023-06-25 18:58:06.794203\\n', 'Batom matte,Alimentos,45.11,95,Filial 1,2022-11-21 18:58:06.794203\\n', 'Lápis de sobrancelha,Roupas,47.55,57,Filial 1,2023-03-29 18:58:06.794203\\n', 'Máscara de cílios,Eletrônicos,35.51,88,Filial 10,2023-07-01 18:58:06.794203\\n', 'Batom matte,Roupas,33.6,37,Filial 2,2023-04-14 18:58:06.794203\\n', 'Blush em pó,Eletrodomésticos,55.23,100,Filial 7,2023-03-16 18:58:06.794203\\n', 'Lápis de sobrancelha,Alimentos,56.08,25,Filial 4,2022-11-24 18:58:06.794203\\n', 'Batom líquido,Eletrodomésticos,35.95,17,Filial 10,2022-09-24 18:58:06.794203\\n', 'Batom líquido,Eletrônicos,51.44,42,Filial 6,2023-05-25 18:58:06.794203\\n', 'Pó compacto,Eletrodomésticos,25.2,21,Filial 4,2023-02-18 18:58:06.794203\\n', 'Corretivo,Eletrônicos,21.37,59,Filial 7,2023-08-16 18:58:06.794203\\n', 'Sombra de olhos,Eletrônicos,37.27,48,Filial 9,2023-08-22 18:58:06.794203\\n', 'Base líquida,Roupas,91.77,14,Filial 6,2022-11-02 18:58:06.794203\\n', 'Blush em pó,Eletrônicos,54.46,96,Filial 9,2022-09-25 18:58:06.794203\\n', 'Corretivo,Eletrônicos,58.01,75,Filial 4,2022-11-21 18:58:06.794203\\n', 'Batom líquido,Eletrônicos,74.45,22,Filial 4,2023-02-28 18:58:06.794203\\n', 'Sombra de olhos,Alimentos,36.8,24,Filial 9,2023-01-02 18:58:06.794203\\n', 'Batom líquido,Alimentos,69.54,2,Filial 7,2023-05-10 18:58:06.794203\\n', 'Lápis de sobrancelha,Eletrônicos,39.21,9,Filial 2,2023-08-19 18:58:06.794203\\n', 'Lápis de sobrancelha,Alimentos,70.53,29,Filial 10,2022-11-25 18:58:06.794203\\n', 'Lápis de sobrancelha,Alimentos,8.39,48,Filial 10,2023-01-30 18:58:06.794203\\n', 'Lápis de sobrancelha,Alimentos,37.45,63,Filial 7,2023-08-25 18:58:06.794203\\n', 'Batom líquido,Roupas,87.25,81,Filial 5,2023-06-17 18:58:06.794203\\n', 'Blush em pó,Roupas,10.18,26,Filial 9,2023-05-03 18:58:06.794203\\n', 'Batom líquido,Alimentos,15.88,87,Filial 6,2023-08-29 18:58:06.794203\\n', 'Base líquida,Eletrônicos,54.67,10,Filial 3,2022-11-12 18:58:06.794203\\n', 'Base líquida,Eletrodomésticos,21.53,89,Filial 6,2023-06-21 18:58:06.794203\\n', 'Base líquida,Roupas,3.96,52,Filial 4,2023-08-29 18:58:06.794203\\n', 'Delineador líquido,Eletrodomésticos,77.86,71,Filial 5,2023-07-30 18:58:06.794203\\n', 'Batom matte,Alimentos,18.72,83,Filial 5,2022-10-29 18:58:06.794203\\n', 'Sombra de olhos,Alimentos,26.19,25,Filial 7,2023-02-14 18:58:06.794203\\n', 'Lápis de sobrancelha,Alimentos,67.76,80,Filial 9,2023-03-20 18:58:06.794203\\n', 'Pó compacto,Alimentos,98.89,66,Filial 9,2023-06-21 18:58:06.794203\\n', 'Lápis de sobrancelha,Eletrodomésticos,17.8,15,Filial 8,2022-09-08 18:58:06.794203\\n', 'Corretivo,Eletrônicos,55.82,9,Filial 9,2022-09-17 18:58:06.794203\\n', 'Batom líquido,Eletrodomésticos,21.05,26,Filial 6,2023-05-28 18:58:06.794203\\n', 'Delineador líquido,Alimentos,91.2,60,Filial 8,2022-11-10 18:58:06.794203\\n', 'Sombra de olhos,Eletrônicos,12.96,54,Filial 10,2023-06-22 18:58:06.794203\\n', 'Máscara de cílios,Roupas,51.5,48,Filial 9,2023-03-05 18:58:06.794203\\n', 'Lápis de sobrancelha,Eletrônicos,40.02,93,Filial 10,2022-11-07 18:58:06.794203\\n', 'Batom matte,Alimentos,47.55,18,Filial 4,2023-06-23 18:58:06.794203\\n', 'Delineador líquido,Alimentos,66.22,23,Filial 3,2023-08-13 18:58:06.794203\\n', 'Delineador líquido,Eletrodomésticos,28.81,74,Filial 8,2023-02-22 18:58:06.794203\\n', 'Base líquida,Eletrônicos,38.6,53,Filial 7,2023-06-19 18:58:06.794203\\n', 'Corretivo,Eletrônicos,23.67,79,Filial 5,2022-12-11 18:58:06.794203\\n', 'Base líquida,Eletrônicos,7.44,78,Filial 2,2023-04-04 18:58:06.794203\\n', 'Máscara de cílios,Eletrônicos,66.33,85,Filial 7,2023-08-09 18:58:06.794203\\n', 'Corretivo,Roupas,69.26,6,Filial 8,2023-01-04 18:58:06.794203\\n', 'Batom matte,Eletrônicos,54.9,62,Filial 9,2023-04-04 18:58:06.794203\\n', 'Batom líquido,Alimentos,58.95,85,Filial 8,2023-02-03 18:58:06.794203\\n', 'Blush em pó,Eletrodomésticos,28.04,14,Filial 3,2023-05-28 18:58:06.794203\\n', 'Sombra de olhos,Roupas,52.67,58,Filial 10,2022-10-10 18:58:06.794203\\n', 'Pó compacto,Roupas,55.35,82,Filial 5,2022-10-08 18:58:06.794203\\n', 'Batom líquido,Eletrodomésticos,96.84,73,Filial 2,2023-05-24 18:58:06.794203\\n', 'Batom matte,Alimentos,78.84,52,Filial 8,2022-09-10 18:58:06.794203\\n', 'Lápis de sobrancelha,Eletrônicos,58.64,85,Filial 8,2023-06-20 18:58:06.794203\\n', 'Máscara de cílios,Alimentos,74.82,5,Filial 5,2023-01-26 18:58:06.794203\\n', 'Sombra de olhos,Alimentos,94.37,88,Filial 8,2023-01-16 18:58:06.794203\\n', 'Sombra de olhos,Alimentos,20.86,93,Filial 4,2023-02-22 18:58:06.794203\\n', 'Corretivo,Alimentos,34.21,30,Filial 5,2023-07-08 18:58:06.794203\\n', 'Sombra de olhos,Eletrônicos,3.1,94,Filial 6,2022-12-12 18:58:06.794203\\n', 'Blush em pó,Roupas,22.81,38,Filial 8,2023-02-28 18:58:06.794203\\n', 'Batom matte,Eletrônicos,45.86,82,Filial 1,2023-04-16 18:58:06.794203\\n', 'Batom líquido,Eletrodomésticos,68.96,41,Filial 10,2022-12-14 18:58:06.794203\\n', 'Sombra de olhos,Alimentos,5.06,87,Filial 2,2022-12-24 18:58:06.794203\\n', 'Batom matte,Alimentos,40.19,17,Filial 4,2023-07-23 18:58:06.794203\\n', 'Corretivo,Roupas,42.97,50,Filial 2,2022-10-18 18:58:06.794203\\n', 'Batom matte,Eletrodomésticos,12.76,90,Filial 7,2023-04-28 18:58:06.794203\\n', 'Blush em pó,Eletrodomésticos,2.01,97,Filial 3,2022-10-03 18:58:06.794203\\n', 'Batom matte,Alimentos,58.82,11,Filial 4,2023-06-19 18:58:06.794203\\n', 'Corretivo,Roupas,4.81,32,Filial 10,2023-07-16 18:58:06.794203\\n', 'Delineador líquido,Eletrodomésticos,54.49,92,Filial 8,2023-01-18 18:58:06.794203\\n', 'Pó compacto,Eletrodomésticos,42.68,86,Filial 7,2023-05-19 18:58:06.794203\\n', 'Lápis de sobrancelha,Eletrônicos,15.11,54,Filial 3,2023-01-23 18:58:06.794203\\n', 'Blush em pó,Eletrônicos,88.54,6,Filial 4,2023-07-01 18:58:06.794203\\n', 'Blush em pó,Eletrodomésticos,82.68,76,Filial 9,2022-12-20 18:58:06.794203\\n', 'Pó compacto,Alimentos,44.12,4,Filial 5,2023-05-26 18:58:06.794203\\n', 'Lápis de sobrancelha,Eletrônicos,97.86,1,Filial 5,2023-04-29 18:58:06.794203\\n', 'Delineador líquido,Eletrodomésticos,79.43,49,Filial 9,2023-08-16 18:58:06.794203\\n', 'Lápis de sobrancelha,Roupas,8.16,81,Filial 2,2023-04-06 18:58:06.794203\\n', 'Delineador líquido,Eletrônicos,5.23,26,Filial 10,2023-05-29 18:58:06.794203\\n', 'Máscara de cílios,Eletrônicos,60.26,93,Filial 5,2023-05-16 18:58:06.794203\\n', 'Base líquida,Eletrodomésticos,46.93,95,Filial 7,2023-03-20 18:58:06.794203\\n', 'Batom líquido,Roupas,97.92,81,Filial 6,2023-07-21 18:58:06.794203\\n', 'Lápis de sobrancelha,Eletrônicos,63.77,14,Filial 7,2023-05-02 18:58:06.794203\\n', 'Blush em pó,Eletrodomésticos,2.71,53,Filial 4,2023-08-26 18:58:06.794203\\n', 'Lápis de sobrancelha,Alimentos,18.45,51,Filial 7,2023-05-02 18:58:06.794203\\n', 'Base líquida,Eletrônicos,85.92,31,Filial 4,2023-05-04 18:58:06.794203\\n', 'Sombra de olhos,Roupas,14.67,95,Filial 2,2023-02-24 18:58:06.794203\\n', 'Delineador líquido,Roupas,6.45,77,Filial 5,2023-03-24 18:58:06.794203\\n', 'Máscara de cílios,Roupas,27.51,53,Filial 8,2023-08-09 18:58:06.794203\\n', 'Lápis de sobrancelha,Eletrodomésticos,55.34,54,Filial 8,2023-06-28 18:58:06.794203\\n', 'Base líquida,Eletrodomésticos,21.09,96,Filial 7,2022-09-06 18:58:06.794203\\n', 'Máscara de cílios,Alimentos,10.54,47,Filial 5,2023-04-30 18:58:06.794203\\n', 'Sombra de olhos,Alimentos,23.49,38,Filial 7,2023-07-04 18:58:06.794203\\n', 'Pó compacto,Eletrônicos,60.92,33,Filial 1,2023-03-06 18:58:06.794203\\n', 'Batom matte,Eletrodomésticos,61.19,14,Filial 3,2022-09-08 18:58:06.794203\\n', 'Corretivo,Roupas,94.74,44,Filial 6,2023-08-14 18:58:06.794203\\n', 'Base líquida,Alimentos,2.28,24,Filial 6,2022-12-20 18:58:06.794203\\n', 'Pó compacto,Eletrodomésticos,36.76,85,Filial 5,2023-01-03 18:58:06.794203\\n', 'Lápis de sobrancelha,Eletrodomésticos,63.12,29,Filial 9,2023-07-26 18:58:06.794203\\n', 'Corretivo,Roupas,81.99,70,Filial 8,2023-02-28 18:58:06.794203\\n', 'Pó compacto,Eletrodomésticos,79.47,68,Filial 2,2023-08-09 18:58:06.794203\\n', 'Blush em pó,Eletrodomésticos,31.93,43,Filial 1,2023-06-09 18:58:06.794203\\n', 'Sombra de olhos,Eletrodomésticos,2.96,7,Filial 5,2023-02-15 18:58:06.794203\\n', 'Batom matte,Roupas,88.32,55,Filial 3,2022-09-14 18:58:06.794203\\n', 'Máscara de cílios,Eletrônicos,34.04,46,Filial 4,2023-02-05 18:58:06.794203\\n', 'Blush em pó,Eletrodomésticos,90.69,3,Filial 10,2023-05-13 18:58:06.794203\\n', 'Pó compacto,Eletrodomésticos,50.86,96,Filial 10,2023-02-15 18:58:06.794203\\n', 'Base líquida,Roupas,81.99,93,Filial 4,2023-08-27 18:58:06.794203\\n', 'Pó compacto,Eletrônicos,10.78,4,Filial 4,2023-07-23 18:58:06.794203\\n', 'Delineador líquido,Roupas,29.41,81,Filial 7,2023-02-20 18:58:06.794203\\n', 'Blush em pó,Eletrônicos,32.15,91,Filial 4,2023-07-11 18:58:06.794203\\n', 'Delineador líquido,Eletrônicos,8.07,35,Filial 4,2023-08-13 18:58:06.794203\\n', 'Delineador líquido,Eletrônicos,77.62,61,Filial 7,2022-11-29 18:58:06.794203\\n', 'Pó compacto,Alimentos,93.45,97,Filial 7,2022-09-13 18:58:06.794203\\n', 'Lápis de sobrancelha,Eletrônicos,64.73,36,Filial 6,2022-09-29 18:58:06.794203\\n', 'Corretivo,Eletrônicos,64.33,94,Filial 8,2022-09-13 18:58:06.794203\\n', 'Delineador líquido,Roupas,67.26,23,Filial 9,2022-12-26 18:58:06.794203\\n', 'Lápis de sobrancelha,Eletrodomésticos,16.25,37,Filial 3,2023-08-17 18:58:06.794203\\n', 'Pó compacto,Alimentos,56.89,32,Filial 6,2023-08-11 18:58:06.794203\\n', 'Máscara de cílios,Eletrônicos,34.35,10,Filial 1,2022-09-11 18:58:06.794203\\n', 'Base líquida,Eletrônicos,21.36,55,Filial 1,2023-09-02 18:58:06.794203\\n', 'Corretivo,Roupas,32.32,38,Filial 7,2023-07-04 18:58:06.794203\\n', 'Lápis de sobrancelha,Roupas,74.55,24,Filial 6,2023-05-20 18:58:06.794203\\n', 'Delineador líquido,Alimentos,81.82,4,Filial 1,2023-04-14 18:58:06.794203\\n', 'Base líquida,Eletrônicos,73.95,74,Filial 4,2023-03-15 18:58:06.794203\\n', 'Delineador líquido,Alimentos,63.84,63,Filial 8,2023-07-25 18:58:06.794203\\n', 'Batom líquido,Eletrodomésticos,6.92,92,Filial 3,2023-06-04 18:58:06.794203\\n', 'Corretivo,Eletrodomésticos,25.15,90,Filial 4,2023-01-12 18:58:06.794203\\n', 'Base líquida,Roupas,84.33,68,Filial 4,2023-05-10 18:58:06.794203\\n', 'Pó compacto,Alimentos,61.22,30,Filial 10,2023-08-22 18:58:06.794203\\n', 'Batom líquido,Alimentos,77.76,18,Filial 9,2023-08-11 18:58:06.794203\\n', 'Batom matte,Roupas,66.14,51,Filial 10,2023-01-04 18:58:06.794203\\n', 'Batom líquido,Eletrodomésticos,10.88,32,Filial 7,2023-03-18 18:58:06.794203\\n', 'Pó compacto,Alimentos,99.7,97,Filial 3,2023-08-11 18:58:06.794203\\n', 'Máscara de cílios,Alimentos,61.35,41,Filial 2,2023-03-24 18:58:06.794203\\n', 'Base líquida,Alimentos,17.78,49,Filial 4,2022-10-14 18:58:06.794203\\n', 'Pó compacto,Alimentos,59.17,40,Filial 4,2023-05-21 18:58:06.794203\\n', 'Base líquida,Eletrônicos,5.48,78,Filial 5,2022-10-20 18:58:06.794203\\n', 'Base líquida,Eletrônicos,5.61,5,Filial 5,2023-04-12 18:58:06.794203\\n', 'Sombra de olhos,Roupas,70.48,48,Filial 10,2022-12-29 18:58:06.794203\\n', 'Pó compacto,Eletrodomésticos,52.68,24,Filial 1,2023-03-18 18:58:06.794203\\n', 'Base líquida,Alimentos,31.7,83,Filial 1,2023-05-29 18:58:06.794203\\n', 'Corretivo,Eletrodomésticos,46.65,27,Filial 1,2023-07-21 18:58:06.794203\\n', 'Blush em pó,Alimentos,93.55,81,Filial 4,2022-12-28 18:58:06.794203\\n', 'Delineador líquido,Roupas,97.79,58,Filial 2,2023-01-15 18:58:06.794203\\n', 'Batom matte,Roupas,50.69,50,Filial 4,2023-04-30 18:58:06.794203\\n', 'Delineador líquido,Eletrônicos,68.06,14,Filial 2,2022-09-23 18:58:06.794203\\n', 'Delineador líquido,Eletrônicos,8.06,81,Filial 7,2022-10-22 18:58:06.794203\\n', 'Blush em pó,Alimentos,97.12,24,Filial 5,2023-05-24 18:58:06.794203\\n', 'Máscara de cílios,Roupas,48.11,21,Filial 1,2023-07-12 18:58:06.794203\\n', 'Batom matte,Roupas,72.28,32,Filial 2,2023-05-16 18:58:06.794203\\n', 'Blush em pó,Roupas,8.66,88,Filial 3,2022-10-14 18:58:06.794203\\n', 'Lápis de sobrancelha,Alimentos,94.08,94,Filial 7,2022-11-20 18:58:06.794203\\n', 'Corretivo,Roupas,5.6,49,Filial 4,2023-07-16 18:58:06.794203\\n', 'Pó compacto,Eletrônicos,22.36,16,Filial 3,2023-01-24 18:58:06.794203\\n', 'Base líquida,Roupas,3.79,5,Filial 5,2022-12-18 18:58:06.794203\\n', 'Sombra de olhos,Eletrônicos,41.73,5,Filial 6,2022-11-21 18:58:06.794203\\n']\n"
          ]
        }
      ]
    },
    {
      "cell_type": "code",
      "source": [
        "with open(path_csv, 'r') as file:\n",
        "  print(file.readlines()[0])"
      ],
      "metadata": {
        "colab": {
          "base_uri": "https://localhost:8080/"
        },
        "id": "a1IZq_3SZ_wd",
        "outputId": "848507ad-8014-4538-c7ff-fe7fec7f175d"
      },
      "id": "a1IZq_3SZ_wd",
      "execution_count": 11,
      "outputs": [
        {
          "output_type": "stream",
          "name": "stdout",
          "text": [
            "Nome do Item,Classificação do Produto,Valor em Reais (R$),Quantidade em Estoque,Nome da Loja,Data da Venda\n",
            "\n"
          ]
        }
      ]
    },
    {
      "cell_type": "code",
      "source": [
        "with open(path_csv, 'r') as file:\n",
        "  print(file.readlines()[1])"
      ],
      "metadata": {
        "colab": {
          "base_uri": "https://localhost:8080/"
        },
        "id": "VceQwww4aFpg",
        "outputId": "3e776d30-90ea-4f8a-88eb-24d3c369a74a"
      },
      "id": "VceQwww4aFpg",
      "execution_count": 12,
      "outputs": [
        {
          "output_type": "stream",
          "name": "stdout",
          "text": [
            "Lápis de sobrancelha,Roupas,55.17,62,Filial 1,2023-04-13 18:58:06.794203\n",
            "\n"
          ]
        }
      ]
    },
    {
      "cell_type": "code",
      "source": [
        "with open(path_csv, 'r') as file:\n",
        "  dados_csv = file.readlines()\n",
        "dados_csv[0]"
      ],
      "metadata": {
        "colab": {
          "base_uri": "https://localhost:8080/",
          "height": 53
        },
        "id": "px6QKLLLaJM7",
        "outputId": "23a85616-8a79-491b-8a26-a5a17e4751d1"
      },
      "id": "px6QKLLLaJM7",
      "execution_count": 13,
      "outputs": [
        {
          "output_type": "execute_result",
          "data": {
            "text/plain": [
              "'Nome do Item,Classificação do Produto,Valor em Reais (R$),Quantidade em Estoque,Nome da Loja,Data da Venda\\n'"
            ],
            "application/vnd.google.colaboratory.intrinsic+json": {
              "type": "string"
            }
          },
          "metadata": {},
          "execution_count": 13
        }
      ]
    },
    {
      "cell_type": "code",
      "source": [
        "dados_csv[0][1]\n",
        "# ao tentar isolar um dado de uma linha o comportamento ainda é comom string."
      ],
      "metadata": {
        "colab": {
          "base_uri": "https://localhost:8080/",
          "height": 35
        },
        "id": "z5SIRV6Eafu3",
        "outputId": "3af49202-3904-4c23-a008-8d3142ab6cd9"
      },
      "id": "z5SIRV6Eafu3",
      "execution_count": 14,
      "outputs": [
        {
          "output_type": "execute_result",
          "data": {
            "text/plain": [
              "'o'"
            ],
            "application/vnd.google.colaboratory.intrinsic+json": {
              "type": "string"
            }
          },
          "metadata": {},
          "execution_count": 14
        }
      ]
    },
    {
      "cell_type": "code",
      "source": [
        "import csv"
      ],
      "metadata": {
        "id": "kF5IXxEDlnGD"
      },
      "id": "kF5IXxEDlnGD",
      "execution_count": 15,
      "outputs": []
    },
    {
      "cell_type": "code",
      "source": [
        "with open(path_csv, 'r') as file:\n",
        "  spanreader = csv.reader(file, delimiter=',')\n",
        "  print(spanreader)"
      ],
      "metadata": {
        "colab": {
          "base_uri": "https://localhost:8080/"
        },
        "id": "yqksVk7llfZe",
        "outputId": "42ea540c-e4c9-4cfc-e402-3e5b7c2e159f"
      },
      "id": "yqksVk7llfZe",
      "execution_count": 16,
      "outputs": [
        {
          "output_type": "stream",
          "name": "stdout",
          "text": [
            "<_csv.reader object at 0x79c9897ad070>\n"
          ]
        }
      ]
    },
    {
      "cell_type": "code",
      "source": [
        "dados_csv = []\n",
        "with open(path_csv, 'r') as file:\n",
        "  spamreader = csv.reader(file, delimiter=',')\n",
        "  for row in spamreader:\n",
        "    dados_csv.append(row)"
      ],
      "metadata": {
        "id": "KWO-UjV6mobn"
      },
      "id": "KWO-UjV6mobn",
      "execution_count": 17,
      "outputs": []
    },
    {
      "cell_type": "code",
      "source": [
        "dados_csv[0][0]"
      ],
      "metadata": {
        "colab": {
          "base_uri": "https://localhost:8080/",
          "height": 35
        },
        "id": "w5H4vUUmnWer",
        "outputId": "30a84d66-7f79-4c1f-9636-77e41a996e18"
      },
      "id": "w5H4vUUmnWer",
      "execution_count": 18,
      "outputs": [
        {
          "output_type": "execute_result",
          "data": {
            "text/plain": [
              "'Nome do Item'"
            ],
            "application/vnd.google.colaboratory.intrinsic+json": {
              "type": "string"
            }
          },
          "metadata": {},
          "execution_count": 18
        }
      ]
    },
    {
      "cell_type": "code",
      "source": [
        "type(dados_csv[0])"
      ],
      "metadata": {
        "colab": {
          "base_uri": "https://localhost:8080/"
        },
        "id": "hA4TBbtLnc8j",
        "outputId": "1d956771-25f9-4eb6-ddcc-cecbdb478bac"
      },
      "id": "hA4TBbtLnc8j",
      "execution_count": 19,
      "outputs": [
        {
          "output_type": "execute_result",
          "data": {
            "text/plain": [
              "list"
            ]
          },
          "metadata": {},
          "execution_count": 19
        }
      ]
    },
    {
      "cell_type": "code",
      "source": [
        "dados_json[0]['Quantidade em Estoque']\n",
        "#lista de dicionários"
      ],
      "metadata": {
        "colab": {
          "base_uri": "https://localhost:8080/"
        },
        "id": "KsbeauglpZDk",
        "outputId": "534a07b6-dbbc-41e5-c62c-02c59ca4a3af"
      },
      "id": "KsbeauglpZDk",
      "execution_count": 20,
      "outputs": [
        {
          "output_type": "execute_result",
          "data": {
            "text/plain": [
              "7"
            ]
          },
          "metadata": {},
          "execution_count": 20
        }
      ]
    },
    {
      "cell_type": "code",
      "source": [
        "dados_csv[1][3]\n",
        "#lista de listas é, nesse caso, mas complexo de manipular"
      ],
      "metadata": {
        "colab": {
          "base_uri": "https://localhost:8080/",
          "height": 35
        },
        "id": "7WPFmS0opgD-",
        "outputId": "bdce5e41-eb55-45b7-fb0c-0bcded7bcd0d"
      },
      "id": "7WPFmS0opgD-",
      "execution_count": 21,
      "outputs": [
        {
          "output_type": "execute_result",
          "data": {
            "text/plain": [
              "'62'"
            ],
            "application/vnd.google.colaboratory.intrinsic+json": {
              "type": "string"
            }
          },
          "metadata": {},
          "execution_count": 21
        }
      ]
    },
    {
      "cell_type": "code",
      "source": [
        "dados_csv = []\n",
        "with open(path_csv, 'r') as file:\n",
        "  spamreader = csv.DictReader(file, delimiter=',')\n",
        "  for row in spamreader:\n",
        "    dados_csv.append(row)\n",
        "#faz a leitura do arquivo  da mesma forma, mas gera uma lista de dicionários."
      ],
      "metadata": {
        "id": "rDEnsFsBprhh"
      },
      "id": "rDEnsFsBprhh",
      "execution_count": 22,
      "outputs": []
    },
    {
      "cell_type": "code",
      "source": [
        "dados_json[1]"
      ],
      "metadata": {
        "colab": {
          "base_uri": "https://localhost:8080/"
        },
        "id": "WCDMYYi_qJyF",
        "outputId": "e927caf2-6582-4f08-a083-41b39babe47f"
      },
      "id": "WCDMYYi_qJyF",
      "execution_count": 23,
      "outputs": [
        {
          "output_type": "execute_result",
          "data": {
            "text/plain": [
              "{'Nome do Produto': 'Lápis de sobrancelha',\n",
              " 'Categoria do Produto': 'Eletrodomésticos',\n",
              " 'Preço do Produto (R$)': 85.47,\n",
              " 'Quantidade em Estoque': 78,\n",
              " 'Filial': 'Filial 8'}"
            ]
          },
          "metadata": {},
          "execution_count": 23
        }
      ]
    },
    {
      "cell_type": "code",
      "source": [
        "dados_csv[1]"
      ],
      "metadata": {
        "colab": {
          "base_uri": "https://localhost:8080/"
        },
        "id": "4fqwM8sPp8AI",
        "outputId": "94179bfc-e431-4580-a554-9923d6736bb3"
      },
      "id": "4fqwM8sPp8AI",
      "execution_count": 24,
      "outputs": [
        {
          "output_type": "execute_result",
          "data": {
            "text/plain": [
              "{'Nome do Item': 'Batom matte',\n",
              " 'Classificação do Produto': 'Eletrônicos',\n",
              " 'Valor em Reais (R$)': '74.15',\n",
              " 'Quantidade em Estoque': '48',\n",
              " 'Nome da Loja': 'Filial 9',\n",
              " 'Data da Venda': '2023-06-03 18:58:06.794203'}"
            ]
          },
          "metadata": {},
          "execution_count": 24
        }
      ]
    },
    {
      "cell_type": "markdown",
      "source": [
        "## Comparando Colunas"
      ],
      "metadata": {
        "id": "moMBSSg8VFoF"
      },
      "id": "moMBSSg8VFoF"
    },
    {
      "cell_type": "code",
      "source": [
        "nome_colunas_json = list(dados_json[0].keys())\n",
        "nome_colunas_json"
      ],
      "metadata": {
        "colab": {
          "base_uri": "https://localhost:8080/"
        },
        "id": "IhFtUhRmVFUg",
        "outputId": "dc5078cb-770f-4979-b4aa-25064adf0dee"
      },
      "id": "IhFtUhRmVFUg",
      "execution_count": 25,
      "outputs": [
        {
          "output_type": "execute_result",
          "data": {
            "text/plain": [
              "['Nome do Produto',\n",
              " 'Categoria do Produto',\n",
              " 'Preço do Produto (R$)',\n",
              " 'Quantidade em Estoque',\n",
              " 'Filial']"
            ]
          },
          "metadata": {},
          "execution_count": 25
        }
      ]
    },
    {
      "cell_type": "code",
      "source": [
        "len(nome_colunas_json)"
      ],
      "metadata": {
        "colab": {
          "base_uri": "https://localhost:8080/"
        },
        "id": "4fJSuwPoV0qE",
        "outputId": "13f88cd9-dc0c-4304-f763-455dc49459c9"
      },
      "id": "4fJSuwPoV0qE",
      "execution_count": 26,
      "outputs": [
        {
          "output_type": "execute_result",
          "data": {
            "text/plain": [
              "5"
            ]
          },
          "metadata": {},
          "execution_count": 26
        }
      ]
    },
    {
      "cell_type": "code",
      "source": [
        "nomes_colunas_csv = list(dados_csv[0].keys())\n",
        "nomes_colunas_csv"
      ],
      "metadata": {
        "colab": {
          "base_uri": "https://localhost:8080/"
        },
        "id": "Y356KNZuV37J",
        "outputId": "b79bc8cf-d31e-40dc-e7a3-88f4dc625759"
      },
      "id": "Y356KNZuV37J",
      "execution_count": 27,
      "outputs": [
        {
          "output_type": "execute_result",
          "data": {
            "text/plain": [
              "['Nome do Item',\n",
              " 'Classificação do Produto',\n",
              " 'Valor em Reais (R$)',\n",
              " 'Quantidade em Estoque',\n",
              " 'Nome da Loja',\n",
              " 'Data da Venda']"
            ]
          },
          "metadata": {},
          "execution_count": 27
        }
      ]
    },
    {
      "cell_type": "code",
      "source": [
        "len(nomes_colunas_csv)\n",
        "#uma coluna a mais em comparação com json"
      ],
      "metadata": {
        "colab": {
          "base_uri": "https://localhost:8080/"
        },
        "id": "G0i8qBw7WERF",
        "outputId": "0b130d7f-3dc7-4cf4-ca73-5735abfa442e"
      },
      "id": "G0i8qBw7WERF",
      "execution_count": 28,
      "outputs": [
        {
          "output_type": "execute_result",
          "data": {
            "text/plain": [
              "6"
            ]
          },
          "metadata": {},
          "execution_count": 28
        }
      ]
    },
    {
      "cell_type": "code",
      "source": [
        "key_mapping = {'Nome do Item': 'Nome do Produto',\n",
        "                'Classificação do Produto': 'Categoria do Produto',\n",
        "                'Valor em Reais (R$)': 'Preço do Produto (R$)',\n",
        "                'Quantidade em Estoque': 'Quantidade em Estoque',\n",
        "                'Nome da Loja': 'Filial',\n",
        "                'Data da Venda': 'Data da Venda'}\n",
        "key_mapping"
      ],
      "metadata": {
        "colab": {
          "base_uri": "https://localhost:8080/"
        },
        "id": "1HDeY_m9XRfu",
        "outputId": "eebf26e5-7d8a-4c7a-f9be-c130460e6cb5"
      },
      "id": "1HDeY_m9XRfu",
      "execution_count": 29,
      "outputs": [
        {
          "output_type": "execute_result",
          "data": {
            "text/plain": [
              "{'Nome do Item': 'Nome do Produto',\n",
              " 'Classificação do Produto': 'Categoria do Produto',\n",
              " 'Valor em Reais (R$)': 'Preço do Produto (R$)',\n",
              " 'Quantidade em Estoque': 'Quantidade em Estoque',\n",
              " 'Nome da Loja': 'Filial',\n",
              " 'Data da Venda': 'Data da Venda'}"
            ]
          },
          "metadata": {},
          "execution_count": 29
        }
      ]
    },
    {
      "cell_type": "code",
      "source": [
        "new_dados_csv = []\n",
        "\n",
        "for old_dict in dados_csv:\n",
        "  dict_temp = {}\n",
        "  for old_key, value in old_dict.items():\n",
        "    dict_temp[key_mapping[old_key]] = value\n",
        "  new_dados_csv.append(dict_temp)\n",
        "new_dados_csv[0]"
      ],
      "metadata": {
        "colab": {
          "base_uri": "https://localhost:8080/"
        },
        "id": "YzqAg5TsYJjV",
        "outputId": "0cfe2a61-1268-4278-d186-a082ea255823"
      },
      "id": "YzqAg5TsYJjV",
      "execution_count": 30,
      "outputs": [
        {
          "output_type": "execute_result",
          "data": {
            "text/plain": [
              "{'Nome do Produto': 'Lápis de sobrancelha',\n",
              " 'Categoria do Produto': 'Roupas',\n",
              " 'Preço do Produto (R$)': '55.17',\n",
              " 'Quantidade em Estoque': '62',\n",
              " 'Filial': 'Filial 1',\n",
              " 'Data da Venda': '2023-04-13 18:58:06.794203'}"
            ]
          },
          "metadata": {},
          "execution_count": 30
        }
      ]
    },
    {
      "cell_type": "code",
      "source": [
        "dados_csv[0]"
      ],
      "metadata": {
        "colab": {
          "base_uri": "https://localhost:8080/"
        },
        "id": "3WCMh9ZTZfOQ",
        "outputId": "ed342ab0-a2e5-4d18-8079-eb1a154d3c6f"
      },
      "id": "3WCMh9ZTZfOQ",
      "execution_count": 31,
      "outputs": [
        {
          "output_type": "execute_result",
          "data": {
            "text/plain": [
              "{'Nome do Item': 'Lápis de sobrancelha',\n",
              " 'Classificação do Produto': 'Roupas',\n",
              " 'Valor em Reais (R$)': '55.17',\n",
              " 'Quantidade em Estoque': '62',\n",
              " 'Nome da Loja': 'Filial 1',\n",
              " 'Data da Venda': '2023-04-13 18:58:06.794203'}"
            ]
          },
          "metadata": {},
          "execution_count": 31
        }
      ]
    },
    {
      "cell_type": "markdown",
      "source": [
        "### Unindo os dados"
      ],
      "metadata": {
        "id": "xxNpYzlJfe-t"
      },
      "id": "xxNpYzlJfe-t"
    },
    {
      "cell_type": "code",
      "source": [
        "print(f'Json: {len(dados_json)}, Csv: {len(new_dados_csv)}')"
      ],
      "metadata": {
        "colab": {
          "base_uri": "https://localhost:8080/"
        },
        "id": "6_C0ygt8feWr",
        "outputId": "ce177860-605a-4c62-b8d1-e0bdfcc83e53"
      },
      "id": "6_C0ygt8feWr",
      "execution_count": 32,
      "outputs": [
        {
          "output_type": "stream",
          "name": "stdout",
          "text": [
            "Json: 3123, Csv: 1323\n"
          ]
        }
      ]
    },
    {
      "cell_type": "code",
      "source": [
        "len(dados_json) + len(new_dados_csv)"
      ],
      "metadata": {
        "colab": {
          "base_uri": "https://localhost:8080/"
        },
        "id": "IbF8KTDbf_up",
        "outputId": "658716cb-7f63-4e97-da02-91d1ff6d1d5c"
      },
      "id": "IbF8KTDbf_up",
      "execution_count": 33,
      "outputs": [
        {
          "output_type": "execute_result",
          "data": {
            "text/plain": [
              "4446"
            ]
          },
          "metadata": {},
          "execution_count": 33
        }
      ]
    },
    {
      "cell_type": "code",
      "source": [
        "combined_list = []\n",
        "combined_list.extend(dados_json)\n",
        "combined_list.extend(new_dados_csv)"
      ],
      "metadata": {
        "id": "vhi8jxfMgLvO"
      },
      "id": "vhi8jxfMgLvO",
      "execution_count": 34,
      "outputs": []
    },
    {
      "cell_type": "code",
      "source": [
        "len(combined_list)"
      ],
      "metadata": {
        "colab": {
          "base_uri": "https://localhost:8080/"
        },
        "id": "rg7aH4HRgk8y",
        "outputId": "dbfdbccc-49a5-4d28-89d1-7382746be9b1"
      },
      "id": "rg7aH4HRgk8y",
      "execution_count": 35,
      "outputs": [
        {
          "output_type": "execute_result",
          "data": {
            "text/plain": [
              "4446"
            ]
          },
          "metadata": {},
          "execution_count": 35
        }
      ]
    },
    {
      "cell_type": "code",
      "source": [
        "combined_list[0]"
      ],
      "metadata": {
        "colab": {
          "base_uri": "https://localhost:8080/"
        },
        "id": "xActbZFOgrM5",
        "outputId": "1f34161a-02c6-4c70-c5da-21398ff5f144"
      },
      "id": "xActbZFOgrM5",
      "execution_count": 36,
      "outputs": [
        {
          "output_type": "execute_result",
          "data": {
            "text/plain": [
              "{'Nome do Produto': 'Blush em pó',\n",
              " 'Categoria do Produto': 'Eletrodomésticos',\n",
              " 'Preço do Produto (R$)': 79.41,\n",
              " 'Quantidade em Estoque': 7,\n",
              " 'Filial': 'Filial 7'}"
            ]
          },
          "metadata": {},
          "execution_count": 36
        }
      ]
    },
    {
      "cell_type": "code",
      "source": [
        "dados_json[0]"
      ],
      "metadata": {
        "colab": {
          "base_uri": "https://localhost:8080/"
        },
        "id": "rOU2AF09hC9H",
        "outputId": "87081788-4bf7-4d85-ac1a-543c77d7f28f"
      },
      "id": "rOU2AF09hC9H",
      "execution_count": 37,
      "outputs": [
        {
          "output_type": "execute_result",
          "data": {
            "text/plain": [
              "{'Nome do Produto': 'Blush em pó',\n",
              " 'Categoria do Produto': 'Eletrodomésticos',\n",
              " 'Preço do Produto (R$)': 79.41,\n",
              " 'Quantidade em Estoque': 7,\n",
              " 'Filial': 'Filial 7'}"
            ]
          },
          "metadata": {},
          "execution_count": 37
        }
      ]
    },
    {
      "cell_type": "code",
      "source": [
        "combined_list[4445]"
      ],
      "metadata": {
        "colab": {
          "base_uri": "https://localhost:8080/"
        },
        "id": "P-zPnXJMgyX7",
        "outputId": "67348d55-7c26-4928-c12d-9a42c20f626c"
      },
      "id": "P-zPnXJMgyX7",
      "execution_count": 38,
      "outputs": [
        {
          "output_type": "execute_result",
          "data": {
            "text/plain": [
              "{'Nome do Produto': 'Sombra de olhos',\n",
              " 'Categoria do Produto': 'Eletrônicos',\n",
              " 'Preço do Produto (R$)': '41.73',\n",
              " 'Quantidade em Estoque': '5',\n",
              " 'Filial': 'Filial 6',\n",
              " 'Data da Venda': '2022-11-21 18:58:06.794203'}"
            ]
          },
          "metadata": {},
          "execution_count": 38
        }
      ]
    },
    {
      "cell_type": "code",
      "source": [
        "new_dados_csv[-1]"
      ],
      "metadata": {
        "colab": {
          "base_uri": "https://localhost:8080/"
        },
        "id": "mOM9_O0qhHAx",
        "outputId": "0359c2a5-9e4c-4ace-85f3-f7d1e2357789"
      },
      "id": "mOM9_O0qhHAx",
      "execution_count": 39,
      "outputs": [
        {
          "output_type": "execute_result",
          "data": {
            "text/plain": [
              "{'Nome do Produto': 'Sombra de olhos',\n",
              " 'Categoria do Produto': 'Eletrônicos',\n",
              " 'Preço do Produto (R$)': '41.73',\n",
              " 'Quantidade em Estoque': '5',\n",
              " 'Filial': 'Filial 6',\n",
              " 'Data da Venda': '2022-11-21 18:58:06.794203'}"
            ]
          },
          "metadata": {},
          "execution_count": 39
        }
      ]
    },
    {
      "cell_type": "markdown",
      "source": [
        "## Salvando"
      ],
      "metadata": {
        "id": "oatJ-Xk5gx-a"
      },
      "id": "oatJ-Xk5gx-a"
    },
    {
      "cell_type": "code",
      "source": [
        "nome_colunas = list(combined_list[0].keys())\n",
        "nome_colunas"
      ],
      "metadata": {
        "colab": {
          "base_uri": "https://localhost:8080/"
        },
        "id": "w_7abv1WiX_4",
        "outputId": "57a28ca9-fa25-40f3-86e1-67c5674bacad"
      },
      "id": "w_7abv1WiX_4",
      "execution_count": 40,
      "outputs": [
        {
          "output_type": "execute_result",
          "data": {
            "text/plain": [
              "['Nome do Produto',\n",
              " 'Categoria do Produto',\n",
              " 'Preço do Produto (R$)',\n",
              " 'Quantidade em Estoque',\n",
              " 'Filial']"
            ]
          },
          "metadata": {},
          "execution_count": 40
        }
      ]
    },
    {
      "cell_type": "code",
      "source": [
        "path_dados_combinados = '/content/dados_combinados'\n",
        "\n",
        "with open(path_dados_combinados, 'w') as file:\n",
        "  writer = csv.DictWriter(file, fieldnames=nome_colunas)\n",
        "  writer.writeheader()\n",
        "\n",
        "  for  row in combined_list:\n",
        "    writer.writerow(row)\n"
      ],
      "metadata": {
        "colab": {
          "base_uri": "https://localhost:8080/",
          "height": 321
        },
        "id": "nEsAGPxuhhoM",
        "outputId": "81186c71-18b0-4718-e7b2-c64269910a29"
      },
      "id": "nEsAGPxuhhoM",
      "execution_count": 41,
      "outputs": [
        {
          "output_type": "error",
          "ename": "ValueError",
          "evalue": "dict contains fields not in fieldnames: 'Data da Venda'",
          "traceback": [
            "\u001b[0;31m---------------------------------------------------------------------------\u001b[0m",
            "\u001b[0;31mValueError\u001b[0m                                Traceback (most recent call last)",
            "\u001b[0;32m/tmp/ipython-input-1239135990.py\u001b[0m in \u001b[0;36m<cell line: 0>\u001b[0;34m()\u001b[0m\n\u001b[1;32m      6\u001b[0m \u001b[0;34m\u001b[0m\u001b[0m\n\u001b[1;32m      7\u001b[0m   \u001b[0;32mfor\u001b[0m  \u001b[0mrow\u001b[0m \u001b[0;32min\u001b[0m \u001b[0mcombined_list\u001b[0m\u001b[0;34m:\u001b[0m\u001b[0;34m\u001b[0m\u001b[0;34m\u001b[0m\u001b[0m\n\u001b[0;32m----> 8\u001b[0;31m     \u001b[0mwriter\u001b[0m\u001b[0;34m.\u001b[0m\u001b[0mwriterow\u001b[0m\u001b[0;34m(\u001b[0m\u001b[0mrow\u001b[0m\u001b[0;34m)\u001b[0m\u001b[0;34m\u001b[0m\u001b[0;34m\u001b[0m\u001b[0m\n\u001b[0m",
            "\u001b[0;32m/usr/lib/python3.11/csv.py\u001b[0m in \u001b[0;36mwriterow\u001b[0;34m(self, rowdict)\u001b[0m\n\u001b[1;32m    152\u001b[0m \u001b[0;34m\u001b[0m\u001b[0m\n\u001b[1;32m    153\u001b[0m     \u001b[0;32mdef\u001b[0m \u001b[0mwriterow\u001b[0m\u001b[0;34m(\u001b[0m\u001b[0mself\u001b[0m\u001b[0;34m,\u001b[0m \u001b[0mrowdict\u001b[0m\u001b[0;34m)\u001b[0m\u001b[0;34m:\u001b[0m\u001b[0;34m\u001b[0m\u001b[0;34m\u001b[0m\u001b[0m\n\u001b[0;32m--> 154\u001b[0;31m         \u001b[0;32mreturn\u001b[0m \u001b[0mself\u001b[0m\u001b[0;34m.\u001b[0m\u001b[0mwriter\u001b[0m\u001b[0;34m.\u001b[0m\u001b[0mwriterow\u001b[0m\u001b[0;34m(\u001b[0m\u001b[0mself\u001b[0m\u001b[0;34m.\u001b[0m\u001b[0m_dict_to_list\u001b[0m\u001b[0;34m(\u001b[0m\u001b[0mrowdict\u001b[0m\u001b[0;34m)\u001b[0m\u001b[0;34m)\u001b[0m\u001b[0;34m\u001b[0m\u001b[0;34m\u001b[0m\u001b[0m\n\u001b[0m\u001b[1;32m    155\u001b[0m \u001b[0;34m\u001b[0m\u001b[0m\n\u001b[1;32m    156\u001b[0m     \u001b[0;32mdef\u001b[0m \u001b[0mwriterows\u001b[0m\u001b[0;34m(\u001b[0m\u001b[0mself\u001b[0m\u001b[0;34m,\u001b[0m \u001b[0mrowdicts\u001b[0m\u001b[0;34m)\u001b[0m\u001b[0;34m:\u001b[0m\u001b[0;34m\u001b[0m\u001b[0;34m\u001b[0m\u001b[0m\n",
            "\u001b[0;32m/usr/lib/python3.11/csv.py\u001b[0m in \u001b[0;36m_dict_to_list\u001b[0;34m(self, rowdict)\u001b[0m\n\u001b[1;32m    147\u001b[0m             \u001b[0mwrong_fields\u001b[0m \u001b[0;34m=\u001b[0m \u001b[0mrowdict\u001b[0m\u001b[0;34m.\u001b[0m\u001b[0mkeys\u001b[0m\u001b[0;34m(\u001b[0m\u001b[0;34m)\u001b[0m \u001b[0;34m-\u001b[0m \u001b[0mself\u001b[0m\u001b[0;34m.\u001b[0m\u001b[0mfieldnames\u001b[0m\u001b[0;34m\u001b[0m\u001b[0;34m\u001b[0m\u001b[0m\n\u001b[1;32m    148\u001b[0m             \u001b[0;32mif\u001b[0m \u001b[0mwrong_fields\u001b[0m\u001b[0;34m:\u001b[0m\u001b[0;34m\u001b[0m\u001b[0;34m\u001b[0m\u001b[0m\n\u001b[0;32m--> 149\u001b[0;31m                 raise ValueError(\"dict contains fields not in fieldnames: \"\n\u001b[0m\u001b[1;32m    150\u001b[0m                                  + \", \".join([repr(x) for x in wrong_fields]))\n\u001b[1;32m    151\u001b[0m         \u001b[0;32mreturn\u001b[0m \u001b[0;34m(\u001b[0m\u001b[0mrowdict\u001b[0m\u001b[0;34m.\u001b[0m\u001b[0mget\u001b[0m\u001b[0;34m(\u001b[0m\u001b[0mkey\u001b[0m\u001b[0;34m,\u001b[0m \u001b[0mself\u001b[0m\u001b[0;34m.\u001b[0m\u001b[0mrestval\u001b[0m\u001b[0;34m)\u001b[0m \u001b[0;32mfor\u001b[0m \u001b[0mkey\u001b[0m \u001b[0;32min\u001b[0m \u001b[0mself\u001b[0m\u001b[0;34m.\u001b[0m\u001b[0mfieldnames\u001b[0m\u001b[0;34m)\u001b[0m\u001b[0;34m\u001b[0m\u001b[0;34m\u001b[0m\u001b[0m\n",
            "\u001b[0;31mValueError\u001b[0m: dict contains fields not in fieldnames: 'Data da Venda'"
          ]
        }
      ]
    },
    {
      "cell_type": "markdown",
      "source": [
        "## Salvando os dados"
      ],
      "metadata": {
        "id": "85vfuFZBh_Ka"
      },
      "id": "85vfuFZBh_Ka"
    },
    {
      "cell_type": "code",
      "source": [
        "combined_list[0]['Data da Venda']\n",
        "#nem todos as linhas possuem o campo 'data da venda' por isso o erro. Necessádio tratamento para o dado"
      ],
      "metadata": {
        "colab": {
          "base_uri": "https://localhost:8080/",
          "height": 141
        },
        "id": "UH1m8tESz4db",
        "outputId": "fb970b6e-8345-4e10-aba0-88fa4b3c49ae"
      },
      "id": "UH1m8tESz4db",
      "execution_count": 43,
      "outputs": [
        {
          "output_type": "error",
          "ename": "KeyError",
          "evalue": "'Data da Venda'",
          "traceback": [
            "\u001b[0;31m---------------------------------------------------------------------------\u001b[0m",
            "\u001b[0;31mKeyError\u001b[0m                                  Traceback (most recent call last)",
            "\u001b[0;32m/tmp/ipython-input-2585202793.py\u001b[0m in \u001b[0;36m<cell line: 0>\u001b[0;34m()\u001b[0m\n\u001b[0;32m----> 1\u001b[0;31m \u001b[0mcombined_list\u001b[0m\u001b[0;34m[\u001b[0m\u001b[0;36m0\u001b[0m\u001b[0;34m]\u001b[0m\u001b[0;34m[\u001b[0m\u001b[0;34m'Data da Venda'\u001b[0m\u001b[0;34m]\u001b[0m\u001b[0;34m\u001b[0m\u001b[0;34m\u001b[0m\u001b[0m\n\u001b[0m",
            "\u001b[0;31mKeyError\u001b[0m: 'Data da Venda'"
          ]
        }
      ]
    },
    {
      "cell_type": "code",
      "source": [
        "combined_list[0].get('Data da Venda')\n",
        "##Método \"get()\" retorna valor nulo por não existir valor, mas não retorna erro por falta de valor"
      ],
      "metadata": {
        "id": "C_mhWK5l0L1o"
      },
      "id": "C_mhWK5l0L1o",
      "execution_count": 44,
      "outputs": []
    },
    {
      "cell_type": "code",
      "source": [
        "combined_list[-1].get('Data da Venda')"
      ],
      "metadata": {
        "colab": {
          "base_uri": "https://localhost:8080/",
          "height": 35
        },
        "id": "aJMtcM1Y0ccj",
        "outputId": "8caf8786-fe00-453f-d6af-bac9b2b5a67f"
      },
      "id": "aJMtcM1Y0ccj",
      "execution_count": 46,
      "outputs": [
        {
          "output_type": "execute_result",
          "data": {
            "text/plain": [
              "'2022-11-21 18:58:06.794203'"
            ],
            "application/vnd.google.colaboratory.intrinsic+json": {
              "type": "string"
            }
          },
          "metadata": {},
          "execution_count": 46
        }
      ]
    },
    {
      "cell_type": "code",
      "source": [
        "combined_list[0].get('Data da Venda', 'Indisponível')\n",
        "##Com o Método \"get()\" posso indicar um valor para retornar quando não houver valor."
      ],
      "metadata": {
        "colab": {
          "base_uri": "https://localhost:8080/",
          "height": 35
        },
        "id": "sWeUdJTy0v2n",
        "outputId": "e210a866-d8fc-4d1d-f94b-24c4b4b03a50"
      },
      "id": "sWeUdJTy0v2n",
      "execution_count": 47,
      "outputs": [
        {
          "output_type": "execute_result",
          "data": {
            "text/plain": [
              "'Indisponível'"
            ],
            "application/vnd.google.colaboratory.intrinsic+json": {
              "type": "string"
            }
          },
          "metadata": {},
          "execution_count": 47
        }
      ]
    },
    {
      "cell_type": "code",
      "source": [
        "nome_colunas = list(combined_list[-1].keys())\n",
        "nome_colunas\n",
        "##Refaz a variável das colunas incluindo data da venda"
      ],
      "metadata": {
        "colab": {
          "base_uri": "https://localhost:8080/"
        },
        "id": "vJS8QJTN103O",
        "outputId": "ba9cb716-6a2a-4eff-88ba-da3091ecb884"
      },
      "id": "vJS8QJTN103O",
      "execution_count": 49,
      "outputs": [
        {
          "output_type": "execute_result",
          "data": {
            "text/plain": [
              "['Nome do Produto',\n",
              " 'Categoria do Produto',\n",
              " 'Preço do Produto (R$)',\n",
              " 'Quantidade em Estoque',\n",
              " 'Filial',\n",
              " 'Data da Venda']"
            ]
          },
          "metadata": {},
          "execution_count": 49
        }
      ]
    },
    {
      "cell_type": "code",
      "source": [
        "dados_combinados_tabela = [nome_colunas]\n",
        "\n",
        "for row in combined_list:\n",
        "  linha = []\n",
        "  for coluna in nome_colunas:\n",
        "    linha.append(row.get(coluna, 'Indisponíve'))\n",
        "  dados_combinados_tabela.append(linha)"
      ],
      "metadata": {
        "id": "k6QS6Fde2Ot-"
      },
      "id": "k6QS6Fde2Ot-",
      "execution_count": 50,
      "outputs": []
    },
    {
      "cell_type": "code",
      "source": [
        "dados_combinados_tabela[1]"
      ],
      "metadata": {
        "colab": {
          "base_uri": "https://localhost:8080/"
        },
        "id": "Y_ejiYtX28L3",
        "outputId": "ff44b8bc-8702-4c74-cdbe-ed2285b3fff2"
      },
      "id": "Y_ejiYtX28L3",
      "execution_count": 54,
      "outputs": [
        {
          "output_type": "execute_result",
          "data": {
            "text/plain": [
              "['Blush em pó', 'Eletrodomésticos', 79.41, 7, 'Filial 7', 'Indisponíve']"
            ]
          },
          "metadata": {},
          "execution_count": 54
        }
      ]
    },
    {
      "cell_type": "code",
      "source": [
        "dados_combinados_tabela[-1]"
      ],
      "metadata": {
        "colab": {
          "base_uri": "https://localhost:8080/"
        },
        "id": "MDb5OkBC3FUf",
        "outputId": "8870826e-b41a-47c1-8aa2-ae220c4f8090"
      },
      "id": "MDb5OkBC3FUf",
      "execution_count": 55,
      "outputs": [
        {
          "output_type": "execute_result",
          "data": {
            "text/plain": [
              "['Sombra de olhos',\n",
              " 'Eletrônicos',\n",
              " '41.73',\n",
              " '5',\n",
              " 'Filial 6',\n",
              " '2022-11-21 18:58:06.794203']"
            ]
          },
          "metadata": {},
          "execution_count": 55
        }
      ]
    },
    {
      "cell_type": "markdown",
      "source": [
        "##Salvando os dados"
      ],
      "metadata": {
        "id": "3oL0SFk_4A_M"
      },
      "id": "3oL0SFk_4A_M"
    },
    {
      "cell_type": "code",
      "source": [
        "path_dados_combinados = '/content/dados_combinados.csv'\n",
        "\n",
        "with open(path_dados_combinados, 'w') as file:\n",
        "  writer = csv.writer(file)\n",
        "  writer.writerows(dados_combinados_tabela)"
      ],
      "metadata": {
        "id": "qzfuXYZ14Clp"
      },
      "id": "qzfuXYZ14Clp",
      "execution_count": 57,
      "outputs": []
    },
    {
      "cell_type": "markdown",
      "source": [
        "#Importando com Pandas"
      ],
      "metadata": {
        "id": "QVTBm1KlXmkG"
      },
      "id": "QVTBm1KlXmkG"
    },
    {
      "metadata": {
        "id": "6ab19b15faef1c5e"
      },
      "cell_type": "code",
      "outputs": [],
      "execution_count": null,
      "source": [
        "import pandas as pd"
      ],
      "id": "6ab19b15faef1c5e"
    },
    {
      "cell_type": "code",
      "source": [
        "urlj = 'https://raw.githubusercontent.com/alura-cursos/Pipeline-de-dados-combinando-Python-e-orientcao-a-objeto/main/data_raw/dados_empresaA.json'\n",
        "urlc = 'https://raw.githubusercontent.com/alura-cursos/Pipeline-de-dados-combinando-Python-e-orientcao-a-objeto/main/data_raw/dados_empresaB.csv'"
      ],
      "metadata": {
        "id": "8j9x771jUetf"
      },
      "id": "8j9x771jUetf",
      "execution_count": null,
      "outputs": []
    },
    {
      "cell_type": "code",
      "source": [
        "dados_empresaA = pd.read_json(urlj)\n",
        "dados_empresaA.head()"
      ],
      "metadata": {
        "id": "lQVxeE-AUhGb"
      },
      "id": "lQVxeE-AUhGb",
      "execution_count": null,
      "outputs": []
    },
    {
      "cell_type": "code",
      "source": [
        "dados_empresaB = pd.read_csv(urlc)\n",
        "dados_empresaB.head()"
      ],
      "metadata": {
        "id": "uCMb-0gcUiif"
      },
      "id": "uCMb-0gcUiif",
      "execution_count": null,
      "outputs": []
    },
    {
      "cell_type": "markdown",
      "source": [],
      "metadata": {
        "id": "v-mZTUHYg-72"
      },
      "id": "v-mZTUHYg-72"
    }
  ],
  "metadata": {
    "colab": {
      "provenance": [],
      "collapsed_sections": [
        "QVTBm1KlXmkG"
      ]
    },
    "language_info": {
      "name": "python"
    },
    "kernelspec": {
      "name": "python3",
      "display_name": "Python 3"
    }
  },
  "nbformat": 4,
  "nbformat_minor": 5
}